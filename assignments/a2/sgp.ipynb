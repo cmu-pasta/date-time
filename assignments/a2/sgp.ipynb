{
 "cells": [
  {
   "cell_type": "code",
   "execution_count": 4,
   "metadata": {},
   "outputs": [],
   "source": [
    "with open(\"gh_access_token\", \"r\") as file:\n",
    "    gh_access_token = file.read().strip()\n",
    "with open(\"sg_access_token\", \"r\") as file:\n",
    "    sg_access_token = file.read().strip()\n",
    "\n",
    "import requests\n",
    "import json"
   ]
  },
  {
   "cell_type": "code",
   "execution_count": 5,
   "metadata": {},
   "outputs": [
    {
     "data": {
      "text/plain": [
       "'sgp_a0d7ccb4f752ea73_ff5f25b632d76f61ed94446630ab19878af3e25b'"
      ]
     },
     "execution_count": 5,
     "metadata": {},
     "output_type": "execute_result"
    }
   ],
   "source": [
    "sg_access_token"
   ]
  },
  {
   "cell_type": "code",
   "execution_count": 15,
   "metadata": {},
   "outputs": [
    {
     "name": "stdout",
     "output_type": "stream",
     "text": [
      "{\n",
      "    \"data\": {\n",
      "        \"currentUser\": {\n",
      "            \"username\": \"aapteryx-vubuy\"\n",
      "        }\n",
      "    }\n",
      "}\n"
     ]
    }
   ],
   "source": [
    "query = \"\"\"query {\n",
    "        currentUser {\n",
    "                username\n",
    "        }\n",
    "}\n",
    "\"\"\"\n",
    "\n",
    "url = \"https://sourcegraph.com/.api/graphql\"\n",
    "headers = {\"Authorization\": f\"token {sg_access_token}\"}\n",
    "data = {\"query\": query}\n",
    "\n",
    "response = requests.post(url, json=data, headers=headers)\n",
    "# print(response)\n",
    "# print(response.json())\n",
    "print(json.dumps(response.json(), indent=4))"
   ]
  }
 ],
 "metadata": {
  "kernelspec": {
   "display_name": "env2",
   "language": "python",
   "name": "python3"
  },
  "language_info": {
   "codemirror_mode": {
    "name": "ipython",
    "version": 3
   },
   "file_extension": ".py",
   "mimetype": "text/x-python",
   "name": "python",
   "nbconvert_exporter": "python",
   "pygments_lexer": "ipython3",
   "version": "3.11.9"
  }
 },
 "nbformat": 4,
 "nbformat_minor": 2
}
