{
 "cells": [
  {
   "cell_type": "code",
   "execution_count": 4,
   "metadata": {},
   "outputs": [],
   "source": [
    "with open(\"gh_access_token\", \"r\") as file:\n",
    "    gh_access_token = file.read().strip()\n",
    "with open(\"sg_access_token\", \"r\") as file:\n",
    "    sg_access_token = file.read().strip()\n",
    "\n",
    "import requests\n",
    "import json"
   ]
  },
  {
   "cell_type": "code",
   "execution_count": 15,
   "metadata": {},
   "outputs": [
    {
     "name": "stdout",
     "output_type": "stream",
     "text": [
      "{\n",
      "    \"data\": {\n",
      "        \"currentUser\": {\n",
      "            \"username\": \"aapteryx-vubuy\"\n",
      "        }\n",
      "    }\n",
      "}\n"
     ]
    }
   ],
   "source": [
    "query = \"\"\"query {\n",
    "        currentUser {\n",
    "                username\n",
    "        }\n",
    "}\n",
    "\"\"\"\n",
    "\n",
    "url = \"https://sourcegraph.com/.api/graphql\"\n",
    "headers = {\"Authorization\": f\"token {sg_access_token}\"}\n",
    "data = {\"query\": query}\n",
    "\n",
    "response = requests.post(url, json=data, headers=headers)\n",
    "# print(response)\n",
    "# print(response.json())\n",
    "print(json.dumps(response.json(), indent=4))"
   ]
  }
 ],
 "metadata": {
  "kernelspec": {
   "display_name": "env2",
   "language": "python",
   "name": "python3"
  },
  "language_info": {
   "codemirror_mode": {
    "name": "ipython",
    "version": 3
   },
   "file_extension": ".py",
   "mimetype": "text/x-python",
   "name": "python",
   "nbconvert_exporter": "python",
   "pygments_lexer": "ipython3",
   "version": "3.11.9"
  }
 },
 "nbformat": 4,
 "nbformat_minor": 2
}
