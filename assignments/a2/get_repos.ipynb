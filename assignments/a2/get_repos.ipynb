{
 "cells": [
  {
   "cell_type": "code",
   "execution_count": 6,
   "metadata": {},
   "outputs": [],
   "source": [
    "with open(\"gh_access_token\", \"r\") as file:\n",
    "    access_token = file.read().strip()\n",
    "\n",
    "import requests\n",
    "import json\n",
    "import csv"
   ]
  },
  {
   "cell_type": "code",
   "execution_count": 46,
   "metadata": {},
   "outputs": [],
   "source": [
    "query = \"\"\"\n",
    "query($cursor: String) {\n",
    "  rateLimit {\n",
    "    remaining\n",
    "    cost\n",
    "    used\n",
    "  }\n",
    "  search(query:\"stars:>100 language:Python\" type: REPOSITORY, first: 100, after:$cursor) {\n",
    "\t\tpageInfo {\n",
    "      hasNextPage\n",
    "      endCursor\n",
    "    }\n",
    "    edges {\n",
    "      node {\n",
    "        ... on Repository {\n",
    "          nameWithOwner\n",
    "          name\n",
    "          owner {\n",
    "            login\n",
    "          }\n",
    "          url\n",
    "          description\n",
    "          stargazerCount\n",
    "          primaryLanguage {\n",
    "            name\n",
    "          }\n",
    "          updatedAt\n",
    "          createdAt\n",
    "          issues {\n",
    "            totalCount\n",
    "          }\n",
    "          forkCount\n",
    "          watchers {\n",
    "            totalCount\n",
    "          }\n",
    "          discussions {\n",
    "            totalCount\n",
    "          }\n",
    "        }\n",
    "      }\n",
    "    }\n",
    "  }\n",
    "}\n",
    "\"\"\""
   ]
  },
  {
   "cell_type": "code",
   "execution_count": 49,
   "metadata": {},
   "outputs": [],
   "source": [
    "with open(\"repos.csv\", \"w\") as file:\n",
    "  writer = csv.writer(file, lineterminator=\"\\n\")\n",
    "  \n",
    "  row = [\"name\", \"url\", \"description\",\n",
    "         \"stars\", \"primaryLanguage\", \"updatedAt\",\n",
    "         \"createdAt\", \"issuesCount\", \"forkCount\",\n",
    "         \"watchersCount\", \"discussionsCount\"\n",
    "  ]\n",
    "  writer.writerow(row)"
   ]
  },
  {
   "cell_type": "code",
   "execution_count": 50,
   "metadata": {},
   "outputs": [
    {
     "name": "stdout",
     "output_type": "stream",
     "text": [
      "Requests: 0, endCursor: Y3Vyc29yOjEwMA==, remaining: 4972\n",
      "Requests: 1, endCursor: Y3Vyc29yOjIwMA==, remaining: 4971\n",
      "Requests: 2, endCursor: Y3Vyc29yOjMwMA==, remaining: 4970\n",
      "Requests: 3, endCursor: Y3Vyc29yOjQwMA==, remaining: 4969\n",
      "Requests: 4, endCursor: Y3Vyc29yOjUwMA==, remaining: 4968\n",
      "Requests: 5, endCursor: Y3Vyc29yOjYwMA==, remaining: 4967\n",
      "Requests: 6, endCursor: Y3Vyc29yOjcwMA==, remaining: 4966\n",
      "Requests: 7, endCursor: Y3Vyc29yOjgwMA==, remaining: 4965\n",
      "Requests: 8, endCursor: Y3Vyc29yOjkwMA==, remaining: 4964\n",
      "Requests: 9, endCursor: Y3Vyc29yOjEwMDA=, remaining: 4963\n",
      "done\n"
     ]
    }
   ],
   "source": [
    "url = \"https://api.github.com/graphql\"\n",
    "headers = {\"Authorization\": f\"Bearer {access_token}\"}\n",
    "\n",
    "# cursor = \"Y3Vyc29yOjkwMA==\"\n",
    "cursor = None\n",
    "\n",
    "count = 0\n",
    "\n",
    "\n",
    "\n",
    "while (True):\n",
    "  json = {\"query\": query, \"variables\": {\"cursor\": cursor}}\n",
    "  response = requests.post(url, json=json, headers=headers).json()[\"data\"]\n",
    "  \n",
    "  rateLimit = response[\"rateLimit\"]\n",
    "  hasNextPage = response[\"search\"][\"pageInfo\"][\"hasNextPage\"]\n",
    "  cursor = response[\"search\"][\"pageInfo\"][\"endCursor\"]\n",
    "\n",
    "  repos = response[\"search\"][\"edges\"]\n",
    "\n",
    "  with open(\"repos.csv\", \"a\") as file:\n",
    "    writer = csv.writer(file, lineterminator=\"\\n\")\n",
    "\n",
    "    for r in repos:\n",
    "      repo = r[\"node\"]\n",
    "      row = [repo[\"name\"], repo[\"url\"], repo[\"description\"],\n",
    "             repo[\"stargazerCount\"], repo[\"primaryLanguage\"][\"name\"], repo[\"updatedAt\"],\n",
    "             repo[\"createdAt\"], repo[\"issues\"][\"totalCount\"], repo[\"forkCount\"],\n",
    "             repo[\"watchers\"][\"totalCount\"], repo[\"discussions\"][\"totalCount\"]\n",
    "      ]\n",
    "      writer.writerow(row)\n",
    "\n",
    "  if (count % 1 == 0):\n",
    "    print(f\"Requests: {count}, endCursor: {cursor}, remaining: {rateLimit['remaining']}\")\n",
    "  \n",
    "  count += 1\n",
    "\n",
    "  if (not hasNextPage):\n",
    "     print(\"done\")\n",
    "     break\n"
   ]
  }
 ],
 "metadata": {
  "kernelspec": {
   "display_name": "env2",
   "language": "python",
   "name": "python3"
  },
  "language_info": {
   "codemirror_mode": {
    "name": "ipython",
    "version": 3
   },
   "file_extension": ".py",
   "mimetype": "text/x-python",
   "name": "python",
   "nbconvert_exporter": "python",
   "pygments_lexer": "ipython3",
   "version": "3.11.9"
  }
 },
 "nbformat": 4,
 "nbformat_minor": 2
}
