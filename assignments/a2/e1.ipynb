{
 "cells": [
  {
   "cell_type": "markdown",
   "metadata": {},
   "source": [
    "**1. I can kind of generate queries like this but they also include lots of trash**\n",
    "\n",
    "Here are some of the searches:\n",
    "\n",
    "`is:issue is:closed python NOT sql datetime bug`\n",
    "\n",
    "`is:issue is:closed python NOT sql datetime bug +daylight`\n",
    "\n",
    "`is:issue is:closed python NOT sql datetime bug +DST`\n",
    "\n",
    "`is:issue is:closed python NOT sql datetime bug +\"feb 29\"`"
   ]
  },
  {
   "cell_type": "markdown",
   "metadata": {},
   "source": [
    "**2. Here are a few of the results**\n",
    "\n",
    "https://github.com/pyload/pyload/issues/3538\n",
    "\n",
    "https://github.com/python/cpython/issues/46480\n",
    "\n",
    "https://github.com/dlowe-net/local-time/issues/47\n",
    "\n",
    "https://github.com/pinecone-io/pinecone-python-client/issues/330\n",
    "\n",
    "https://github.com/python/cpython/issues/57883\n",
    "\n",
    "https://github.com/openclimatefix/ocf-infrastructure/issues/528\n",
    "\n",
    "https://github.com/pydantic/pydantic-core/issues/1287\n",
    "\n",
    "https://github.com/oceanprotocol/pdr-backend/issues/1070\n",
    "\n",
    "https://github.com/channable/heliclockter/issues/12"
   ]
  },
  {
   "cell_type": "markdown",
   "metadata": {},
   "source": [
    "**3. GitHub repos**\n",
    "\n",
    "Search:\n",
    "\n",
    "```\n",
    "(path:**/requirements.txt OR path:**/project.toml OR path:**/poetry.lock)\n",
    "AND (\"arrow\" OR \"pendulum\" OR \"datetime\" OR \"whenever\")\n",
    "```\n",
    "\n",
    "Unfortunately, this approach searches for files, not repositories. Thus, I cannot sort by stars. However, it still returns the \"top\" results, meaning that repos with lots of stars appear generally at the top.\n",
    "\n",
    "Here's the list of what it found (not sorted by stars):\n",
    "\n",
    "https://github.com/apache/airflow\n",
    "\n",
    "https://github.com/huggingface/transformers\n",
    "\n",
    "https://github.com/django-cms/django-cms\n",
    "\n",
    "https://github.com/LAION-AI/Open-Assistant\n",
    "\n",
    "https://github.com/nasa/fprime\n",
    "\n",
    "https://github.com/jesse-ai/jesse\n",
    "\n",
    "https://github.com/freqtrade/freqtrade\n",
    "\n",
    "https://github.com/Netflix-Skunkworks/stethoscope\n",
    "\n",
    "etc."
   ]
  }
 ],
 "metadata": {
  "language_info": {
   "name": "python"
  }
 },
 "nbformat": 4,
 "nbformat_minor": 2
}
