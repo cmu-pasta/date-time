{
 "cells": [
  {
   "cell_type": "code",
   "execution_count": 2,
   "metadata": {},
   "outputs": [],
   "source": [
    "with open(\"gh_access_token\", \"r\") as file:\n",
    "    access_token = file.read().strip()\n",
    "\n",
    "import requests\n",
    "import json\n",
    "import csv\n",
    "import pandas as pd\n",
    "\n",
    "\n",
    "csv_path = 'repos_with_datetime.csv'\n",
    "df = pd.read_csv(csv_path)"
   ]
  },
  {
   "cell_type": "code",
   "execution_count": 3,
   "metadata": {},
   "outputs": [],
   "source": [
    "query = \"\"\"\n",
    "query($q: String!, $cursor: String) {\n",
    "  rateLimit {\n",
    "    remaining\n",
    "    cost\n",
    "    used\n",
    "  }\n",
    "  search(query:$q, type: ISSUE, first: 100, after:$cursor) {\n",
    "\t\tpageInfo {\n",
    "      hasNextPage\n",
    "      endCursor\n",
    "    }\n",
    "    nodes {\n",
    "      ... on Issue {\n",
    "        \n",
    "        title\n",
    "        bodyHTML\n",
    "        url\n",
    "        activeLockReason\n",
    "        \n",
    "        \n",
    "        labels {\n",
    "          nodes {\n",
    "            name\n",
    "          }\n",
    "        }\n",
    "        \n",
    "      }\n",
    "    }\n",
    "  }\n",
    "}\n",
    "\"\"\""
   ]
  },
  {
   "cell_type": "code",
   "execution_count": 5,
   "metadata": {},
   "outputs": [],
   "source": [
    "with open(\"issues.csv\", \"w\") as file:\n",
    "  writer = csv.writer(file, lineterminator=\"\\n\")\n",
    "  \n",
    "  row = [\"repoName\", \"title\", \"bodyHtml\", \"url\", \"lockReason\", \"labels\"]\n",
    "  writer.writerow(row)"
   ]
  },
  {
   "cell_type": "code",
   "execution_count": 50,
   "metadata": {},
   "outputs": [
    {
     "name": "stdout",
     "output_type": "stream",
     "text": [
      "Requests: 0, endCursor: Y3Vyc29yOjEwMA==, remaining: 4972\n",
      "Requests: 1, endCursor: Y3Vyc29yOjIwMA==, remaining: 4971\n",
      "Requests: 2, endCursor: Y3Vyc29yOjMwMA==, remaining: 4970\n",
      "Requests: 3, endCursor: Y3Vyc29yOjQwMA==, remaining: 4969\n",
      "Requests: 4, endCursor: Y3Vyc29yOjUwMA==, remaining: 4968\n",
      "Requests: 5, endCursor: Y3Vyc29yOjYwMA==, remaining: 4967\n",
      "Requests: 6, endCursor: Y3Vyc29yOjcwMA==, remaining: 4966\n",
      "Requests: 7, endCursor: Y3Vyc29yOjgwMA==, remaining: 4965\n",
      "Requests: 8, endCursor: Y3Vyc29yOjkwMA==, remaining: 4964\n",
      "Requests: 9, endCursor: Y3Vyc29yOjEwMDA=, remaining: 4963\n",
      "done\n"
     ]
    }
   ],
   "source": [
    "url = \"https://api.github.com/graphql\"\n",
    "headers = {\"Authorization\": f\"Bearer {access_token}\"}\n",
    "\n",
    "cursor = None\n",
    "\n",
    "count = 0\n",
    "\n",
    "while (True):\n",
    "  json = {\"query\": query, \"variables\": {\"cursor\": cursor}}\n",
    "  response = requests.post(url, json=json, headers=headers).json()[\"data\"]\n",
    "  \n",
    "  rateLimit = response[\"rateLimit\"]\n",
    "  hasNextPage = response[\"search\"][\"pageInfo\"][\"hasNextPage\"]\n",
    "  cursor = response[\"search\"][\"pageInfo\"][\"endCursor\"]\n",
    "\n",
    "  repos = response[\"search\"][\"edges\"]\n",
    "\n",
    "  with open(\"gh_open_repos.csv\", \"a\") as file:\n",
    "    writer = csv.writer(file, lineterminator=\"\\n\")\n",
    "\n",
    "    for r in repos:\n",
    "      repo = r[\"node\"]\n",
    "      row = [repo[\"name\"], repo[\"url\"], repo[\"description\"],\n",
    "             repo[\"stargazerCount\"], repo[\"primaryLanguage\"][\"name\"], repo[\"updatedAt\"],\n",
    "             repo[\"createdAt\"], repo[\"issues\"][\"totalCount\"], repo[\"forkCount\"],\n",
    "             repo[\"watchers\"][\"totalCount\"], repo[\"discussions\"][\"totalCount\"]\n",
    "      ]\n",
    "      writer.writerow(row)\n",
    "\n",
    "  if (count % 1 == 0):\n",
    "    print(f\"Requests: {count}, endCursor: {cursor}, remaining: {rateLimit['remaining']}\")\n",
    "  \n",
    "  count += 1\n",
    "\n",
    "  if (not hasNextPage):\n",
    "     print(\"done\")\n",
    "     break\n"
   ]
  }
 ],
 "metadata": {
  "kernelspec": {
   "display_name": "env2",
   "language": "python",
   "name": "python3"
  },
  "language_info": {
   "codemirror_mode": {
    "name": "ipython",
    "version": 3
   },
   "file_extension": ".py",
   "mimetype": "text/x-python",
   "name": "python",
   "nbconvert_exporter": "python",
   "pygments_lexer": "ipython3",
   "version": "3.11.9"
  }
 },
 "nbformat": 4,
 "nbformat_minor": 2
}
