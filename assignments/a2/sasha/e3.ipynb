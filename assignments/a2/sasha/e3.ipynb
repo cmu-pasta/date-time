{
 "cells": [
  {
   "cell_type": "markdown",
   "metadata": {},
   "source": [
    "**1. Query for pytz**\n",
    "\n",
    "Unfortunately, getting decent results doesn't seem to be as easy as just searching for pytz commits because sourcegraph will time out. However, if sourcegraph *didn't* time out, then we would use the following search:\n",
    "\n",
    "`context:global type:commit pytz`"
   ]
  },
  {
   "cell_type": "markdown",
   "metadata": {},
   "source": [
    "**2. Mining date smells**\n",
    "\n",
    "Example:\n",
    "\n",
    "`context:global repo:^github\\.com/Significant-Gravitas/AutoGPT$ utcnow()`"
   ]
  },
  {
   "cell_type": "markdown",
   "metadata": {},
   "source": [
    "**3. Sourcegraph's GraphQL is different from GitHub's GraphQL**\n",
    "\n",
    "3a) Yes.\n",
    "\n",
    "3b) Yes.\n",
    "\n",
    "3c) We're not looking for repos.\n",
    "\n",
    "3d) Somehow no???\n",
    "\n",
    "Sourcegraph's doesn't really have proper pagination for searches.\n",
    "\n",
    "We can find diffs with Sourcegraph."
   ]
  }
 ],
 "metadata": {
  "kernelspec": {
   "display_name": "env2",
   "language": "python",
   "name": "python3"
  },
  "language_info": {
   "codemirror_mode": {
    "name": "ipython",
    "version": 3
   },
   "file_extension": ".py",
   "mimetype": "text/x-python",
   "name": "python",
   "nbconvert_exporter": "python",
   "pygments_lexer": "ipython3",
   "version": "3.11.9"
  }
 },
 "nbformat": 4,
 "nbformat_minor": 2
}
