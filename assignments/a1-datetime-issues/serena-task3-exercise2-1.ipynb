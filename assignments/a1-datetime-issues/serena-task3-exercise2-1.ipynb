{
 "cells": [
  {
   "cell_type": "markdown",
   "metadata": {},
   "source": [
    "# Exercise 2 - Date Arithmetic\n",
    "## Edge Cases\n",
    "1) What happens when you add 1 month to January 31st or June 31st? \n",
    "2) How does adding 30 days, 1 year, or 4 years to a date affect the result?\n",
    "3) What if you add and then subtract time intervals? Does the order matter?\n",
    "4) How do multiplication and division of time intervals work?\n",
    "5) What happens if you add a day to a leap day, and then subtract it? What about a month or a year?\n",
    "6) Arithmetic with months that have different lengths\n",
    "7) When I say a year from now, do I mean June 20th next year, or 365 days from now?\n",
    "8) Race conditions when we simultaneosly update the same datetime field\n",
    "9) Leap seconds\n",
    "10) In some cases, we want to add business days rather than calendar days\n",
    "11) If we want repeated events per month on the 31st or 29th, should they only happen on those days or be rounded to the closest one?\n",
    "\n",
    "Overall, dates are just extremely not consistent, and there's no actual consistent system even outside of programming to calculate these things."
   ]
  },
  {
   "cell_type": "code",
   "execution_count": 3,
   "metadata": {},
   "outputs": [],
   "source": [
    "#imports\n",
    "from datetime import datetime, timedelta\n",
    "from dateutil.relativedelta import relativedelta\n",
    "import pytz\n",
    "pst = pytz.timezone('America/Los_Angeles')"
   ]
  },
  {
   "cell_type": "code",
   "execution_count": 4,
   "metadata": {},
   "outputs": [
    {
     "name": "stdout",
     "output_type": "stream",
     "text": [
      "January 31\n",
      "2024-01-31 12:00:00-08:00\n",
      "2024-02-29 12:00:00-08:00\n",
      "2023-12-31 12:00:00-08:00\n",
      "\n",
      "February 28\n",
      "2023-02-28 12:00:00-08:00\n",
      "2023-03-28 12:00:00-08:00\n",
      "2023-01-28 12:00:00-08:00\n",
      "2024-02-28 12:00:00-08:00\n",
      "2022-02-28 12:00:00-08:00\n",
      "2022-01-28 12:00:00-08:00\n",
      "\n",
      "February 29\n",
      "2024-02-29 12:00:00-08:00\n",
      "2024-03-29 12:00:00-08:00\n",
      "2024-01-29 12:00:00-08:00\n",
      "2025-02-28 12:00:00-08:00\n",
      "2023-02-28 12:00:00-08:00\n",
      "2023-01-29 12:00:00-08:00\n",
      "2023-01-28 12:00:00-08:00\n",
      "\n",
      "June 31\n",
      "2024-06-30 12:00:00-07:00\n",
      "2024-07-30 12:00:00-07:00\n",
      "2024-05-30 12:00:00-07:00\n"
     ]
    }
   ],
   "source": [
    "# Adding/Subtracting from January 31st\n",
    "jan31 = datetime(year=2024, month=1, day=31, hour=12)\n",
    "jan31 = pst.localize(jan31)\n",
    "print(\"January 31\")\n",
    "print(jan31)\n",
    "print(jan31+relativedelta(months=1))\n",
    "print(jan31-relativedelta(months=1))\n",
    "print()\n",
    "\n",
    "# Adding/Subtracting from Feb 28th\n",
    "print(\"February 28\")\n",
    "feb28 = datetime(year=2023, month=2, day=28, hour=12)\n",
    "feb28 = pst.localize(feb28)\n",
    "print(feb28)\n",
    "print(feb28+relativedelta(months=1))\n",
    "print(feb28-relativedelta(months=1))\n",
    "print(feb28+relativedelta(months=12))\n",
    "print(feb28-relativedelta(months=12))\n",
    "print(feb28-relativedelta(months=12)-relativedelta(month=1))\n",
    "print()\n",
    "\n",
    "# Adding/Subtracting from Feb 29th\n",
    "print(\"February 29\")\n",
    "feb29 = datetime(year=2024, month=2, day=29, hour=12)\n",
    "feb29 = pst.localize(feb29)\n",
    "print(feb29)\n",
    "print(feb29+relativedelta(months=1))\n",
    "print(feb29-relativedelta(months=1))\n",
    "print(feb29+relativedelta(months=12))\n",
    "print(feb29-relativedelta(months=12))\n",
    "print(feb29-relativedelta(months=13))\n",
    "print(feb29-relativedelta(months=12)-relativedelta(month=1))\n",
    "print()\n",
    "\n",
    "# Adding/Subtracting from June 31st\n",
    "#jun31 = datetime(year=2024, month=6, day=31, hour=12)\n",
    "print(\"June 31\")\n",
    "jun31 = datetime(year=2024, month=6, day=30, hour=12)\n",
    "jun31 = pst.localize(jun31)\n",
    "print(jun31)\n",
    "print(jun31+relativedelta(months=1))\n",
    "print(jun31-relativedelta(months=1))"
   ]
  },
  {
   "cell_type": "code",
   "execution_count": 5,
   "metadata": {},
   "outputs": [
    {
     "name": "stdout",
     "output_type": "stream",
     "text": [
      "January 31\n",
      "2024-01-31 12:00:00-08:00\n",
      "2024-03-01 12:00:00-08:00\n",
      "2025-01-31 12:00:00-08:00\n",
      "2028-01-31 12:00:00-08:00\n",
      "\n"
     ]
    }
   ],
   "source": [
    "# Adding/Subtracting 30 days, 1 year, or 4 years to Jan 31\n",
    "jan31 = datetime(year=2024, month=1, day=31, hour=12)\n",
    "jan31 = pst.localize(jan31)\n",
    "print(\"January 31\")\n",
    "print(jan31)\n",
    "print(jan31+relativedelta(days=30))\n",
    "print(jan31+relativedelta(years=1))\n",
    "print(jan31+relativedelta(years=4))\n",
    "print()"
   ]
  },
  {
   "cell_type": "code",
   "execution_count": 6,
   "metadata": {},
   "outputs": [
    {
     "name": "stdout",
     "output_type": "stream",
     "text": [
      "January 31\n",
      "2024-01-31 12:00:00-08:00\n",
      "2024-01-31 12:00:00-08:00\n",
      "2024-01-31 12:00:00-08:00\n",
      "\n",
      "2024-01-29 12:00:00-08:00\n",
      "2024-01-31 12:00:00-08:00\n",
      "\n",
      "2024-01-31 12:00:00-08:00\n",
      "2024-01-31 12:00:00-08:00\n",
      "\n",
      "February 29\n",
      "2024-02-29 12:00:00-08:00\n",
      "2024-02-29 12:00:00-08:00\n",
      "2024-02-29 12:00:00-08:00\n",
      "\n",
      "2024-02-29 12:00:00-08:00\n",
      "2024-02-29 12:00:00-08:00\n",
      "\n",
      "2024-02-28 12:00:00-08:00\n",
      "2024-02-28 12:00:00-08:00\n",
      "\n"
     ]
    }
   ],
   "source": [
    "# Are addition and subtraction commutative?\n",
    "jan31 = datetime(year=2024, month=1, day=31, hour=12)\n",
    "jan31 = pst.localize(jan31)\n",
    "print(\"January 31\")\n",
    "print(jan31)\n",
    "print(jan31+relativedelta(days=30)-relativedelta(days=30))\n",
    "print(jan31-relativedelta(days=30)+relativedelta(days=30))\n",
    "print()\n",
    "print(jan31+relativedelta(months=1)-relativedelta(months=1))\n",
    "print(jan31-relativedelta(months=1)+relativedelta(months=1))\n",
    "print()\n",
    "print(jan31+relativedelta(years=1)-relativedelta(years=1))\n",
    "print(jan31-relativedelta(years=1)+relativedelta(years=1))\n",
    "print()\n",
    "\n",
    "feb29 = datetime(year=2024, month=2, day=29, hour=12)\n",
    "feb29 = pst.localize(feb29)\n",
    "print(\"February 29\")\n",
    "print(feb29)\n",
    "print(feb29+relativedelta(days=30)-relativedelta(days=30))\n",
    "print(feb29-relativedelta(days=30)+relativedelta(days=30))\n",
    "print()\n",
    "print(feb29+relativedelta(months=1)-relativedelta(months=1))\n",
    "print(feb29-relativedelta(months=1)+relativedelta(months=1))\n",
    "print()\n",
    "print(feb29+relativedelta(years=1)-relativedelta(years=1))\n",
    "print(feb29-relativedelta(years=1)+relativedelta(years=1))\n",
    "print()"
   ]
  },
  {
   "cell_type": "code",
   "execution_count": 7,
   "metadata": {},
   "outputs": [
    {
     "name": "stdout",
     "output_type": "stream",
     "text": [
      "timezones\n",
      "True\n",
      "False\n",
      "False\n",
      "False\n",
      "True\n",
      "False\n",
      "\n",
      "fold\n",
      "True\n"
     ]
    }
   ],
   "source": [
    "# Equality between datetime objects\n",
    "#timezones\n",
    "pst = pytz.timezone('America/Los_Angeles')\n",
    "edt = pytz.timezone('America/New_York')\n",
    "\n",
    "#dates\n",
    "jun6_12_pst = datetime(year=2024, month=6, day=6, hour=12, tzinfo=pst)\n",
    "jun6_12_pst_pt2 = datetime(year=2024, month=6, day=6, hour=12, tzinfo=pst)\n",
    "jun6_11_pst = datetime(year=2024, month=6, day=6, hour=11, tzinfo=pst)\n",
    "jun6_11_pst = datetime(year=2024, month=6, day=6, hour=11, tzinfo=pst)\n",
    "jun6_12_edt = datetime(year=2024, month=6, day=6, hour=12, tzinfo=edt)\n",
    "jun6_15_edt = datetime(year=2024, month=6, day=6, hour=15, tzinfo=edt)\n",
    "jun6_12_pst_pt3 = jun6_11_pst + timedelta(hours=1)\n",
    "jun6_15_edt_pt2 = jun6_12_edt -timedelta(hours=3)\n",
    "\n",
    "nov3_2_0fold = datetime(year=2024, month=11, day=3, hour=2, tzinfo=pst, fold=0)\n",
    "nov3_2_1fold = datetime(year=2024, month=11, day=3, hour=2, tzinfo=pst, fold=1)\n",
    "\n",
    "#computations\n",
    "print(\"timezones\")\n",
    "print(jun6_12_pst==jun6_12_pst_pt2)\n",
    "print(jun6_12_pst==jun6_11_pst)\n",
    "print(jun6_12_pst==jun6_12_edt)\n",
    "print(jun6_12_pst==jun6_15_edt)\n",
    "print(jun6_12_pst==jun6_12_pst_pt3)\n",
    "print(jun6_12_pst==jun6_15_edt_pt2)\n",
    "\n",
    "print(\"\\nfold\")\n",
    "print(nov3_2_0fold==nov3_2_1fold)"
   ]
  },
  {
   "cell_type": "code",
   "execution_count": 8,
   "metadata": {},
   "outputs": [],
   "source": [
    "# new comparison function\n",
    "\n",
    "from datetime import datetime\n",
    "import pytz\n",
    "\n",
    "#compare datetime objects dt1 and dt2, return True if the objects are equal and False if not\n",
    "#if one is naive and one is not, return false\n",
    "#if the folds are different, return true\n",
    "#if they are the same when converted to UTC, return true\n",
    "def compare_datetimes(dt1, dt2):\n",
    "    # Ensure both datetimes are timezone-aware\n",
    "    if(dt1.tzinfo==None and dt2.tzinfo==None):\n",
    "        return dt1==dt2\n",
    "    elif (dt1.tzinfo==None or dt2.tzinfo==None):\n",
    "        raise ValueError(\"Please ensure both objects are naive or timezone-aware.\")\n",
    "    \n",
    "    # Compare fold attributes\n",
    "    if dt1.fold!=dt2.fold:\n",
    "        return False\n",
    "\n",
    "    # Compare datetime objects in UTC\n",
    "    return dt1.astimezone(pytz.utc) == dt2.astimezone(pytz.utc)"
   ]
  },
  {
   "cell_type": "code",
   "execution_count": 10,
   "metadata": {},
   "outputs": [
    {
     "name": "stdout",
     "output_type": "stream",
     "text": [
      "timezones\n",
      "True\n",
      "False\n",
      "False\n",
      "False\n",
      "True\n",
      "False\n",
      "\n",
      "fold\n",
      "False\n"
     ]
    }
   ],
   "source": [
    "# Equality between datetime objects with new function\n",
    "#timezones\n",
    "pst = pytz.timezone('America/Los_Angeles')\n",
    "edt = pytz.timezone('America/New_York')\n",
    "\n",
    "#dates\n",
    "jun6_12_pst = datetime(year=2024, month=6, day=6, hour=12, tzinfo=pst)\n",
    "jun6_12_pst_pt2 = datetime(year=2024, month=6, day=6, hour=12, tzinfo=pst)\n",
    "jun6_11_pst = datetime(year=2024, month=6, day=6, hour=11, tzinfo=pst)\n",
    "jun6_11_pst = datetime(year=2024, month=6, day=6, hour=11, tzinfo=pst)\n",
    "jun6_12_edt = datetime(year=2024, month=6, day=6, hour=12, tzinfo=edt)\n",
    "jun6_15_edt = datetime(year=2024, month=6, day=6, hour=15, tzinfo=edt)\n",
    "jun6_12_pst_pt3 = jun6_11_pst + timedelta(hours=1)\n",
    "jun6_15_edt_pt2 = jun6_12_edt -timedelta(hours=3)\n",
    "\n",
    "nov3_2_0fold = datetime(year=2024, month=11, day=3, hour=2, tzinfo=pst, fold=0)\n",
    "nov3_2_1fold = datetime(year=2024, month=11, day=3, hour=2, tzinfo=pst, fold=1)\n",
    "\n",
    "#computations\n",
    "print(\"timezones\")\n",
    "print(compare_datetimes(jun6_12_pst,jun6_12_pst_pt2))\n",
    "print(compare_datetimes(jun6_12_pst,jun6_11_pst))\n",
    "print(compare_datetimes(jun6_12_pst,jun6_12_edt))\n",
    "print(compare_datetimes(jun6_12_pst,jun6_15_edt))\n",
    "print(compare_datetimes(jun6_12_pst,jun6_12_pst_pt3))\n",
    "print(compare_datetimes(jun6_12_pst,jun6_15_edt_pt2))\n",
    "\n",
    "print(\"\\nfold\")\n",
    "print(compare_datetimes(nov3_2_0fold,nov3_2_1fold))"
   ]
  }
 ],
 "metadata": {
  "kernelspec": {
   "display_name": "Python 3",
   "language": "python",
   "name": "python3"
  },
  "language_info": {
   "codemirror_mode": {
    "name": "ipython",
    "version": 3
   },
   "file_extension": ".py",
   "mimetype": "text/x-python",
   "name": "python",
   "nbconvert_exporter": "python",
   "pygments_lexer": "ipython3",
   "version": "3.11.9"
  }
 },
 "nbformat": 4,
 "nbformat_minor": 2
}
