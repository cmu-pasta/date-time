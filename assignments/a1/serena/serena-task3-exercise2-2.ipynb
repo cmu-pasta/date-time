{
 "cells": [
  {
   "cell_type": "code",
   "execution_count": 2,
   "metadata": {},
   "outputs": [],
   "source": [
    "#imports\n",
    "from datetime import datetime, timedelta\n",
    "from dateutil.relativedelta import relativedelta\n",
    "import pytz\n",
    "pst = pytz.timezone('America/Los_Angeles')"
   ]
  },
  {
   "cell_type": "code",
   "execution_count": 4,
   "metadata": {},
   "outputs": [
    {
     "name": "stdout",
     "output_type": "stream",
     "text": [
      "January 31\n",
      "2024-01-31 12:00:00-08:00\n",
      "2024-02-29 12:00:00-08:00\n",
      "2024-02-28 12:00:00-08:00\n",
      "2023-12-31 12:00:00-08:00\n",
      "\n",
      "February 28\n",
      "2023-02-28 12:00:00-08:00\n",
      "2023-03-28 12:00:00-08:00\n",
      "2023-01-28 12:00:00-08:00\n",
      "2024-02-28 12:00:00-08:00\n",
      "2022-02-28 12:00:00-08:00\n",
      "2022-01-28 12:00:00-08:00\n",
      "\n",
      "February 29\n",
      "2024-02-29 12:00:00-08:00\n",
      "2024-03-29 12:00:00-08:00\n",
      "2024-01-29 12:00:00-08:00\n",
      "2025-02-28 12:00:00-08:00\n",
      "2023-02-28 12:00:00-08:00\n",
      "2023-01-29 12:00:00-08:00\n",
      "2023-01-28 12:00:00-08:00\n",
      "\n",
      "June 31\n",
      "2024-06-30 12:00:00-07:00\n",
      "2024-07-30 12:00:00-07:00\n",
      "2024-05-30 12:00:00-07:00\n"
     ]
    }
   ],
   "source": [
    "# Adding/Subtracting from January 31st\n",
    "jan31 = datetime(year=2024, month=1, day=31, hour=12)\n",
    "jan31 = pst.localize(jan31)\n",
    "print(\"January 31\")\n",
    "print(jan31)\n",
    "print(jan31+relativedelta(months=1))\n",
    "# print(jan31+timedelta(months=1)) -- doesn't work b/c timedelta doesn't allow months\n",
    "print(jan31+timedelta(weeks=4))\n",
    "print(jan31-relativedelta(months=1))\n",
    "print()\n",
    "\n",
    "# Adding/Subtracting from Feb 28th\n",
    "print(\"February 28\")\n",
    "feb28 = datetime(year=2023, month=2, day=28, hour=12)\n",
    "feb28 = pst.localize(feb28)\n",
    "print(feb28)\n",
    "print(feb28+relativedelta(months=1))\n",
    "print(feb28-relativedelta(months=1))\n",
    "print(feb28+relativedelta(months=12))\n",
    "print(feb28-relativedelta(months=12))\n",
    "print(feb28-relativedelta(months=12)-relativedelta(month=1))\n",
    "print()\n",
    "\n",
    "# Adding/Subtracting from Feb 29th\n",
    "print(\"February 29\")\n",
    "feb29 = datetime(year=2024, month=2, day=29, hour=12)\n",
    "feb29 = pst.localize(feb29)\n",
    "print(feb29)\n",
    "print(feb29+relativedelta(months=1))\n",
    "print(feb29-relativedelta(months=1))\n",
    "print(feb29+relativedelta(months=12))\n",
    "print(feb29-relativedelta(months=12))\n",
    "print(feb29-relativedelta(months=13))\n",
    "print(feb29-relativedelta(months=12)-relativedelta(month=1))\n",
    "print()\n",
    "\n",
    "# Adding/Subtracting from June 31st\n",
    "#jun31 = datetime(year=2024, month=6, day=31, hour=12)\n",
    "print(\"June 31\")\n",
    "jun31 = datetime(year=2024, month=6, day=30, hour=12)\n",
    "jun31 = pst.localize(jun31)\n",
    "print(jun31)\n",
    "print(jun31+relativedelta(months=1))\n",
    "print(jun31-relativedelta(months=1))"
   ]
  }
 ],
 "metadata": {
  "kernelspec": {
   "display_name": "Python 3",
   "language": "python",
   "name": "python3"
  },
  "language_info": {
   "codemirror_mode": {
    "name": "ipython",
    "version": 3
   },
   "file_extension": ".py",
   "mimetype": "text/x-python",
   "name": "python",
   "nbconvert_exporter": "python",
   "pygments_lexer": "ipython3",
   "version": "3.11.9"
  }
 },
 "nbformat": 4,
 "nbformat_minor": 2
}
