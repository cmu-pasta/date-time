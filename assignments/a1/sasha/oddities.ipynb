{
 "cells": [
  {
   "cell_type": "code",
   "execution_count": 2,
   "metadata": {},
   "outputs": [
    {
     "name": "stdout",
     "output_type": "stream",
     "text": [
      "2007-03-25 01:00:00+01:00\n",
      "2007-03-25 00:00:00+00:00\n",
      "2007-03-25 00:00:00+00:00\n",
      "\n",
      "2007-03-25 00:00:00+00:00\n",
      "2007-03-25 00:00:00+00:00\n",
      "2007-03-25 00:00:00+00:00\n",
      "\n",
      "False\n",
      "False\n",
      "True\n"
     ]
    }
   ],
   "source": [
    "from datetime import datetime\n",
    "from dateutil import tz\n",
    "\n",
    "LON = tz.gettz('Europe/London')\n",
    "\n",
    "# Construct a datetime\n",
    "x = datetime(2007, 3, 25, 1, 0, tzinfo=LON)\n",
    "ts = x.timestamp()      # Get a timestamp representing the same datetime\n",
    "\n",
    "# Get the same datetime from the timestamp\n",
    "y = datetime.fromtimestamp(ts, LON)\n",
    "\n",
    "# Get the same datetime from the timestamp with a fresh instance of LON\n",
    "z = datetime.fromtimestamp(ts, tz.gettz.nocache('Europe/London'))\n",
    "\n",
    "print(x)\n",
    "print(y)\n",
    "print(z)\n",
    "\n",
    "print()\n",
    "\n",
    "print(x.astimezone(tz.gettz(\"UTC\")))\n",
    "print(y.astimezone(tz.gettz(\"UTC\")))\n",
    "print(z.astimezone(tz.gettz(\"UTC\")))\n",
    "\n",
    "print()\n",
    "\n",
    "print(x == y)       # False\n",
    "print(x == z)       # True\n",
    "print(y == z)       # True"
   ]
  },
  {
   "cell_type": "code",
   "execution_count": 3,
   "metadata": {},
   "outputs": [
    {
     "name": "stdout",
     "output_type": "stream",
     "text": [
      "2022-11-05 23:00:00-04:00\n",
      "Eastern Daylight Time\n",
      "\n",
      "2022-11-06 23:00:00-04:00\n",
      "Eastern Daylight Time\n",
      "\n",
      "2022-11-06 22:00:00-05:00\n",
      "Eastern Standard Time\n",
      "\n"
     ]
    }
   ],
   "source": [
    "from datetime import datetime, timezone, timedelta\n",
    "\n",
    "dt1 = datetime(2022, 11, 5, 23).astimezone()\n",
    "print(dt1)\n",
    "print(dt1.tzinfo)\n",
    "print()\n",
    "dt2 = dt1 + timedelta(days=1)\n",
    "print(dt2)\n",
    "print(dt2.tzinfo)\n",
    "print()\n",
    "dt3 = dt2.astimezone()\n",
    "print(dt3)\n",
    "print(dt3.tzinfo)\n",
    "print()"
   ]
  },
  {
   "cell_type": "code",
   "execution_count": 3,
   "metadata": {},
   "outputs": [
    {
     "name": "stdout",
     "output_type": "stream",
     "text": [
      "2022-11-06 01:30:00-05:00\n",
      "tzfile('America/New_York')\n",
      "1667716200.0\n",
      "\n",
      "2022-11-06 01:30:00-05:00\n",
      "tzfile('America/Chicago')\n",
      "1667716200.0\n",
      "\n",
      "False\n"
     ]
    }
   ],
   "source": [
    "import dateutil\n",
    "from datetime import datetime\n",
    "\n",
    "du_tzNYC = dateutil.tz.gettz(\"America/New_York\")\n",
    "du_tzLA = dateutil.tz.gettz(\"America/Los_Angeles\")\n",
    "du_tzCHI = dateutil.tz.gettz(\"America/Chicago\")\n",
    "du_tzUTC = dateutil.tz.gettz(\"UTC\")\n",
    "\n",
    "dt1 = datetime(2022, 11, 6, 1, 30, tzinfo=du_tzNYC, fold=1)\n",
    "dt2 = datetime(2022, 11, 6, 1, 30, tzinfo=du_tzCHI, fold=0)\n",
    "\n",
    "print(dt1)\n",
    "print(dt1.tzinfo)\n",
    "print(dt1.timestamp())\n",
    "print()\n",
    "\n",
    "print(dt2)\n",
    "print(dt2.tzinfo)\n",
    "print(dt2.timestamp())\n",
    "print()\n",
    "\n",
    "print(dt1 == dt2) # False: tzinfos are different and folds are different. Because of the implementation, these will always be different, even if their timestamps are identical."
   ]
  },
  {
   "cell_type": "code",
   "execution_count": 14,
   "metadata": {},
   "outputs": [
    {
     "name": "stdout",
     "output_type": "stream",
     "text": [
      "2022-11-05 01:30:00-04:00\n",
      "2022-11-06 01:30:00-04:00\n",
      "2022-11-07 01:30:00-05:00\n",
      "2022-11-05 13:30:00-04:00\n"
     ]
    }
   ],
   "source": [
    "from datetime import datetime, timedelta\n",
    "\n",
    "# Multiplying/dividing timedeltas\n",
    "\n",
    "td1 = timedelta(days=1)\n",
    "\n",
    "dt1 = datetime(2022, 11, 5, 1, 30, tzinfo=du_tzNYC)\n",
    "print(dt1)\n",
    "\n",
    "dt2 = dt1 + td1\n",
    "print(dt2)\n",
    "\n",
    "dt3 = dt1 + (td1 * 2)\n",
    "print(dt3)\n",
    "\n",
    "dt4 = dt1 + (td1 / 2)\n",
    "print(dt4)"
   ]
  },
  {
   "cell_type": "code",
   "execution_count": 27,
   "metadata": {},
   "outputs": [
    {
     "name": "stdout",
     "output_type": "stream",
     "text": [
      "2024-06-10T00:00:00-04:00\n"
     ]
    }
   ],
   "source": [
    "import pendulum\n",
    "dt = pendulum.datetime(2024, 6, 7, 12, tz=\"America/New_York\")\n",
    "dt3 = dt.subtract(days=1)\n",
    "td = pendulum.duration(days=5) / 2\n",
    "print(dt + td)"
   ]
  },
  {
   "cell_type": "code",
   "execution_count": 37,
   "metadata": {},
   "outputs": [
    {
     "name": "stdout",
     "output_type": "stream",
     "text": [
      "2024-03-09T23:00:00-05:00\n",
      "2024-03-10T03:00:00-04:00\n",
      "2024-03-09T23:00:00-05:00\n"
     ]
    }
   ],
   "source": [
    "import arrow\n",
    "\n",
    "t=4\n",
    "\n",
    "dt1 = arrow.get(2024, 3, 9, 23, tzinfo=du_tzNYC)\n",
    "print(dt1)\n",
    "\n",
    "dt2 = dt1.shift(hours=t)\n",
    "print(dt2)\n",
    "\n",
    "dt3 = dt2.shift(hours=-t)\n",
    "print(dt3)"
   ]
  },
  {
   "cell_type": "code",
   "execution_count": 1,
   "metadata": {},
   "outputs": [
    {
     "ename": "TypeError",
     "evalue": "unsupported operand type(s) for /: 'DateDelta' and 'int'",
     "output_type": "error",
     "traceback": [
      "\u001b[1;31m---------------------------------------------------------------------------\u001b[0m",
      "\u001b[1;31mTypeError\u001b[0m                                 Traceback (most recent call last)",
      "Cell \u001b[1;32mIn[1], line 5\u001b[0m\n\u001b[0;32m      3\u001b[0m dt2 \u001b[38;5;241m=\u001b[39m dt \u001b[38;5;241m+\u001b[39m whenever\u001b[38;5;241m.\u001b[39mdays(\u001b[38;5;241m1\u001b[39m)\n\u001b[0;32m      4\u001b[0m dt3 \u001b[38;5;241m=\u001b[39m dt \u001b[38;5;241m-\u001b[39m whenever\u001b[38;5;241m.\u001b[39mdays(\u001b[38;5;241m1\u001b[39m)\n\u001b[1;32m----> 5\u001b[0m td \u001b[38;5;241m=\u001b[39m \u001b[43mwhenever\u001b[49m\u001b[38;5;241;43m.\u001b[39;49m\u001b[43mdays\u001b[49m\u001b[43m(\u001b[49m\u001b[38;5;241;43m5\u001b[39;49m\u001b[43m)\u001b[49m\u001b[43m \u001b[49m\u001b[38;5;241;43m/\u001b[39;49m\u001b[43m \u001b[49m\u001b[38;5;241;43m2\u001b[39;49m\n\u001b[0;32m      6\u001b[0m \u001b[38;5;28mprint\u001b[39m(dt \u001b[38;5;241m+\u001b[39m td)\n",
      "\u001b[1;31mTypeError\u001b[0m: unsupported operand type(s) for /: 'DateDelta' and 'int'"
     ]
    }
   ],
   "source": [
    "import whenever\n",
    "dt = whenever.ZonedDateTime(2024, 6, 7, 23, tz=\"America/New_York\")\n",
    "dt2 = dt + whenever.days(1)\n",
    "dt3 = dt - whenever.days(1)\n",
    "td = whenever.days(5) / 2\n",
    "print(dt + td)"
   ]
  },
  {
   "cell_type": "code",
   "execution_count": 8,
   "metadata": {},
   "outputs": [
    {
     "name": "stdout",
     "output_type": "stream",
     "text": [
      "2016-01-17T00:00:00+00:00\n",
      "2016-04-13T00:00:00+00:00\n",
      "2016-02-19T00:00:00+00:00\n",
      "2013-03-31T03:00:00+02:00\n",
      "1e-06\n"
     ]
    }
   ],
   "source": [
    "# pendulum documentation\n",
    "\n",
    "import arrow\n",
    "print(arrow.get('2016-1-17'))\n",
    "print(arrow.get('20160413'))\n",
    "print(arrow.get('2016-W07-5'))\n",
    "just_before = arrow.Arrow(2013, 3, 31, 1, 59, 59, 999999, 'Europe/Paris')\n",
    "just_after = just_before.shift(microseconds=1)\n",
    "print(just_after)\n",
    "print((just_after.to('utc') - just_before.to('utc')).total_seconds())"
   ]
  },
  {
   "cell_type": "code",
   "execution_count": 11,
   "metadata": {},
   "outputs": [
    {
     "name": "stdout",
     "output_type": "stream",
     "text": [
      "1 day, 0:00:00\n",
      "1 day, 0:00:00\n",
      "True\n",
      "\n",
      "P1D\n",
      "24:00:00\n",
      "False\n",
      "\n"
     ]
    }
   ],
   "source": [
    "print(timedelta(days=1))\n",
    "print(timedelta(hours=24))\n",
    "print(timedelta(days=1) == timedelta(hours=24))\n",
    "print()\n",
    "\n",
    "print(whenever.days(1))\n",
    "print(whenever.hours(24))\n",
    "print(whenever.days(1) == timedelta(hours=24))\n",
    "print()"
   ]
  },
  {
   "cell_type": "code",
   "execution_count": 14,
   "metadata": {},
   "outputs": [
    {
     "name": "stdout",
     "output_type": "stream",
     "text": [
      "dt1+01d: 2024-03-10 01:30:00-05:00\n",
      "dt1+24h: 2024-03-10 01:30:00-05:00\n",
      "dt2+01d: 2024-03-10 02:30:00-04:00\n",
      "dt2+24h: 2024-03-10 02:30:00-04:00\n",
      "dt3+01d: 2022-11-06 01:30:00-04:00\n",
      "dt3+24h: 2022-11-06 01:30:00-04:00\n",
      "dt4+01d: 2022-11-06 02:30:00-05:00\n",
      "dt4+24h: 2022-11-06 02:30:00-05:00\n"
     ]
    }
   ],
   "source": [
    "# DateTime + DateUtil TZ\n",
    "\n",
    "from datetime import datetime, timedelta\n",
    "import dateutil\n",
    "\n",
    "tzNYC = dateutil.tz.gettz(\"America/New_York\")\n",
    "\n",
    "dt1 = datetime(2024, 3, 9, 1, 30, tzinfo=tzNYC)\n",
    "dt2 = datetime(2024, 3, 9, 2, 30, tzinfo=tzNYC)\n",
    "dt3 = datetime(2022, 11, 5, 1, 30, tzinfo=tzNYC)\n",
    "dt4 = datetime(2022, 11, 5, 2, 30, tzinfo=tzNYC)\n",
    "print(f\"dt1+01d: {(dt1 + timedelta(days=1)).astimezone(tzNYC)}\")\n",
    "print(f\"dt1+24h: {(dt1 + timedelta(hours=24)).astimezone(tzNYC)}\")\n",
    "print(f\"dt2+01d: {(dt2 + timedelta(days=1)).astimezone(tzNYC)}\")\n",
    "print(f\"dt2+24h: {(dt2 + timedelta(hours=24)).astimezone(tzNYC)}\")\n",
    "print(f\"dt3+01d: {dt3 + timedelta(days=1)}\")\n",
    "print(f\"dt3+24h: {dt3 + timedelta(hours=24)}\")\n",
    "print(f\"dt4+01d: {dt4 + timedelta(days=1)}\")\n",
    "print(f\"dt4+24h: {dt4 + timedelta(hours=24)}\")"
   ]
  },
  {
   "cell_type": "code",
   "execution_count": 18,
   "metadata": {},
   "outputs": [
    {
     "name": "stdout",
     "output_type": "stream",
     "text": [
      "dt1+01d: 2024-03-10 01:30:00-05:00\n",
      "dt1+24h: 2024-03-10 01:30:00-05:00\n",
      "dt2+01d: 2024-03-10 03:30:00-04:00\n",
      "dt2+24h: 2024-03-10 03:30:00-04:00\n",
      "dt3+01d: 2022-11-06 01:30:00-04:00\n",
      "dt3+24h: 2022-11-06 01:30:00-04:00\n",
      "dt4+01d: 2022-11-06 02:30:00-04:00\n",
      "dt4+24h: 2022-11-06 02:30:00-04:00\n"
     ]
    }
   ],
   "source": [
    "# DateTime + PYTZ\n",
    "\n",
    "from datetime import datetime, timedelta\n",
    "import pytz\n",
    "\n",
    "tzNYC = pytz.timezone(\"America/New_York\")\n",
    "\n",
    "dt1 = tzNYC.localize(datetime(2024, 3, 9, 1, 30))\n",
    "dt2 = tzNYC.localize(datetime(2024, 3, 9, 2, 30))\n",
    "dt3 = tzNYC.localize(datetime(2022, 11, 5, 1, 30))\n",
    "dt4 = tzNYC.localize(datetime(2022, 11, 5, 2, 30))\n",
    "print(f\"dt1+01d: {(dt1 + timedelta(days=1)).astimezone(tzNYC)}\")\n",
    "print(f\"dt1+24h: {(dt1 + timedelta(hours=24)).astimezone(tzNYC)}\")\n",
    "print(f\"dt2+01d: {(dt2 + timedelta(days=1)).astimezone(tzNYC)}\")\n",
    "print(f\"dt2+24h: {(dt2 + timedelta(hours=24)).astimezone(tzNYC)}\")\n",
    "print(f\"dt3+01d: {dt3 + timedelta(days=1)}\")\n",
    "print(f\"dt3+24h: {dt3 + timedelta(hours=24)}\")\n",
    "print(f\"dt4+01d: {dt4 + timedelta(days=1)}\")\n",
    "print(f\"dt4+24h: {dt4 + timedelta(hours=24)}\")"
   ]
  },
  {
   "cell_type": "code",
   "execution_count": 19,
   "metadata": {},
   "outputs": [
    {
     "name": "stdout",
     "output_type": "stream",
     "text": [
      "dt1+01d: 2022-03-13T01:30:00-05:00\n",
      "dt1+24h: 2022-03-13T01:30:00-05:00\n",
      "dt2+01d: 2022-03-13T03:30:00-04:00\n",
      "dt2+24h: 2022-03-13T03:30:00-04:00\n",
      "dt3+01d: 2022-11-06T01:30:00-05:00\n",
      "dt3+24h: 2022-11-06T01:30:00-04:00\n",
      "dt4+01d: 2022-11-06T02:30:00-05:00\n",
      "dt4+24h: 2022-11-06T01:30:00-05:00\n"
     ]
    }
   ],
   "source": [
    "# Pendulum\n",
    "\n",
    "import pendulum\n",
    "\n",
    "# DateTime + DateUtil TZ\n",
    "dt1 = pendulum.datetime(2022, 3, 12, 1, 30, tz=\"America/New_York\")\n",
    "dt2 = pendulum.datetime(2022, 3, 12, 2, 30, tz=\"America/New_York\")\n",
    "dt3 = pendulum.datetime(2022, 11, 5, 1, 30, tz=\"America/New_York\")\n",
    "dt4 = pendulum.datetime(2022, 11, 5, 2, 30, tz=\"America/New_York\")\n",
    "print(f\"dt1+01d: {dt1.add(days=1)}\")\n",
    "print(f\"dt1+24h: {dt1.add(hours=24)}\")\n",
    "print(f\"dt2+01d: {dt2.add(days=1)}\")\n",
    "print(f\"dt2+24h: {dt2.add(hours=24)}\")\n",
    "print(f\"dt3+01d: {dt3.add(days=1)}\")\n",
    "print(f\"dt3+24h: {dt3.add(hours=24)}\")\n",
    "print(f\"dt4+01d: {dt4.add(days=1)}\")\n",
    "print(f\"dt4+24h: {dt4.add(hours=24)}\")\n"
   ]
  },
  {
   "cell_type": "markdown",
   "metadata": {},
   "source": [
    "dt3+01d: 2022-11-06T01:30:00-05:00\n",
    "\n",
    "dt3+24h: 2022-11-06T01:30:00-04:00\n",
    "\n",
    "dt4+01d: 2022-11-06T02:30:00-05:00\n",
    "\n",
    "dt4+24h: 2022-11-06T01:30:00-05:00"
   ]
  },
  {
   "cell_type": "code",
   "execution_count": 27,
   "metadata": {},
   "outputs": [
    {
     "name": "stdout",
     "output_type": "stream",
     "text": [
      "dt1+01d: 2022-03-13T01:30:00-05:00\n",
      "dt1+24h: 2022-03-13T01:30:00-05:00\n",
      "dt2+01d: 2022-03-13T03:30:00-04:00\n",
      "dt2+24h: 2022-03-13T03:30:00-04:00\n",
      "dt3+01d: 2022-11-06T01:30:00-04:00\n",
      "dt3+24h: 2022-11-06T01:30:00-04:00\n",
      "dt4+01d: 2022-11-06T02:30:00-05:00\n",
      "dt4+24h: 2022-11-06T02:30:00-05:00\n"
     ]
    }
   ],
   "source": [
    "# Arrow\n",
    "\n",
    "import arrow\n",
    "\n",
    "tzNYC = dateutil.tz.gettz(\"America/New_York\")\n",
    "\n",
    "dt1 = arrow.get(2022, 3, 12, 1, 30, tzinfo=tzNYC)\n",
    "dt2 = arrow.get(2022, 3, 12, 2, 30, tzinfo=tzNYC)\n",
    "dt3 = arrow.get(2022, 11, 5, 1, 30, tzinfo=tzNYC)\n",
    "dt4 = arrow.get(2022, 11, 5, 2, 30, tzinfo=tzNYC)\n",
    "print(f\"dt1+01d: {dt1.shift(days=1)}\")\n",
    "print(f\"dt1+24h: {dt1.shift(hours=24)}\")\n",
    "print(f\"dt2+01d: {dt2.shift(days=1)}\")\n",
    "print(f\"dt2+24h: {dt2.shift(hours=24)}\")\n",
    "print(f\"dt3+01d: {dt3.shift(days=1)}\")\n",
    "print(f\"dt3+24h: {dt3.shift(hours=24)}\")\n",
    "print(f\"dt4+01d: {dt4.shift(days=1)}\")\n",
    "print(f\"dt4+24h: {dt4.shift(hours=24)}\")"
   ]
  },
  {
   "cell_type": "code",
   "execution_count": 23,
   "metadata": {},
   "outputs": [
    {
     "name": "stdout",
     "output_type": "stream",
     "text": [
      "tzutc()\n"
     ]
    }
   ],
   "source": [
    "dt = arrow.get(2024, 3, 9)\n",
    "print(dt.tzinfo)"
   ]
  },
  {
   "cell_type": "code",
   "execution_count": 28,
   "metadata": {},
   "outputs": [
    {
     "name": "stdout",
     "output_type": "stream",
     "text": [
      "dt1+01d: 2022-03-13 01:30:00-05:00[America/New_York]\n",
      "dt1+24h: 2022-03-13 01:30:00-05:00[America/New_York]\n",
      "dt2+01d: 2022-03-13 03:30:00-04:00[America/New_York]\n",
      "dt2+24h: 2022-03-13 03:30:00-04:00[America/New_York]\n",
      "dt3+01d: 2022-11-06 01:30:00-04:00[America/New_York]\n",
      "dt3+24h: 2022-11-06 01:30:00-04:00[America/New_York]\n",
      "dt4+01d: 2022-11-06 02:30:00-05:00[America/New_York]\n",
      "dt4+24h: 2022-11-06 01:30:00-05:00[America/New_York]\n"
     ]
    }
   ],
   "source": [
    "# Whenever\n",
    "\n",
    "import whenever\n",
    "\n",
    "# DateTime + DateUtil TZ\n",
    "dt1 = whenever.ZonedDateTime(2022, 3, 12, 1, 30, tz=\"America/New_York\")\n",
    "dt2 = whenever.ZonedDateTime(2022, 3, 12, 2, 30, tz=\"America/New_York\")\n",
    "dt3 = whenever.ZonedDateTime(2022, 11, 5, 1, 30, tz=\"America/New_York\")\n",
    "dt4 = whenever.ZonedDateTime(2022, 11, 5, 2, 30, tz=\"America/New_York\")\n",
    "print(f\"dt1+01d: {dt1 + whenever.days(1)}\")\n",
    "print(f\"dt1+24h: {dt1 + whenever.hours(24)}\")\n",
    "print(f\"dt2+01d: {dt2 + whenever.days(1)}\")\n",
    "print(f\"dt2+24h: {dt2 + whenever.hours(24)}\")\n",
    "print(f\"dt3+01d: {dt3 + whenever.days(1)}\")\n",
    "print(f\"dt3+24h: {dt3 + whenever.hours(24)}\")\n",
    "print(f\"dt4+01d: {dt4 + whenever.days(1)}\")\n",
    "print(f\"dt4+24h: {dt4 + whenever.hours(24)}\")\n"
   ]
  }
 ],
 "metadata": {
  "kernelspec": {
   "display_name": "Python 3",
   "language": "python",
   "name": "python3"
  },
  "language_info": {
   "codemirror_mode": {
    "name": "ipython",
    "version": 3
   },
   "file_extension": ".py",
   "mimetype": "text/x-python",
   "name": "python",
   "nbconvert_exporter": "python",
   "pygments_lexer": "ipython3",
   "version": "3.11.9"
  }
 },
 "nbformat": 4,
 "nbformat_minor": 2
}
