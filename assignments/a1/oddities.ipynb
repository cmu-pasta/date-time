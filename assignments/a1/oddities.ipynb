{
 "cells": [
  {
   "cell_type": "code",
   "execution_count": 2,
   "metadata": {},
   "outputs": [
    {
     "name": "stdout",
     "output_type": "stream",
     "text": [
      "2007-03-25 01:00:00+01:00\n",
      "2007-03-25 00:00:00+00:00\n",
      "2007-03-25 00:00:00+00:00\n",
      "\n",
      "2007-03-25 00:00:00+00:00\n",
      "2007-03-25 00:00:00+00:00\n",
      "2007-03-25 00:00:00+00:00\n",
      "\n",
      "False\n",
      "False\n",
      "True\n"
     ]
    }
   ],
   "source": [
    "from datetime import datetime\n",
    "from dateutil import tz\n",
    "\n",
    "LON = tz.gettz('Europe/London')\n",
    "\n",
    "# Construct a datetime\n",
    "x = datetime(2007, 3, 25, 1, 0, tzinfo=LON)\n",
    "ts = x.timestamp()      # Get a timestamp representing the same datetime\n",
    "\n",
    "# Get the same datetime from the timestamp\n",
    "y = datetime.fromtimestamp(ts, LON)\n",
    "\n",
    "# Get the same datetime from the timestamp with a fresh instance of LON\n",
    "z = datetime.fromtimestamp(ts, tz.gettz.nocache('Europe/London'))\n",
    "\n",
    "print(x)\n",
    "print(y)\n",
    "print(z)\n",
    "\n",
    "print()\n",
    "\n",
    "print(x.astimezone(tz.gettz(\"UTC\")))\n",
    "print(y.astimezone(tz.gettz(\"UTC\")))\n",
    "print(z.astimezone(tz.gettz(\"UTC\")))\n",
    "\n",
    "print()\n",
    "\n",
    "print(x == y)       # False\n",
    "print(x == z)       # True\n",
    "print(y == z)       # True"
   ]
  },
  {
   "cell_type": "code",
   "execution_count": 3,
   "metadata": {},
   "outputs": [
    {
     "name": "stdout",
     "output_type": "stream",
     "text": [
      "2022-11-05 23:00:00-04:00\n",
      "Eastern Daylight Time\n",
      "\n",
      "2022-11-06 23:00:00-04:00\n",
      "Eastern Daylight Time\n",
      "\n",
      "2022-11-06 22:00:00-05:00\n",
      "Eastern Standard Time\n",
      "\n"
     ]
    }
   ],
   "source": [
    "from datetime import datetime, timezone, timedelta\n",
    "\n",
    "dt1 = datetime(2022, 11, 5, 23).astimezone()\n",
    "print(dt1)\n",
    "print(dt1.tzinfo)\n",
    "print()\n",
    "dt2 = dt1 + timedelta(days=1)\n",
    "print(dt2)\n",
    "print(dt2.tzinfo)\n",
    "print()\n",
    "dt3 = dt2.astimezone()\n",
    "print(dt3)\n",
    "print(dt3.tzinfo)\n",
    "print()"
   ]
  },
  {
   "cell_type": "code",
   "execution_count": 3,
   "metadata": {},
   "outputs": [
    {
     "name": "stdout",
     "output_type": "stream",
     "text": [
      "2022-11-06 01:30:00-05:00\n",
      "tzfile('America/New_York')\n",
      "1667716200.0\n",
      "\n",
      "2022-11-06 01:30:00-05:00\n",
      "tzfile('America/Chicago')\n",
      "1667716200.0\n",
      "\n",
      "False\n"
     ]
    }
   ],
   "source": [
    "import dateutil\n",
    "from datetime import datetime\n",
    "\n",
    "du_tzNYC = dateutil.tz.gettz(\"America/New_York\")\n",
    "du_tzLA = dateutil.tz.gettz(\"America/Los_Angeles\")\n",
    "du_tzCHI = dateutil.tz.gettz(\"America/Chicago\")\n",
    "du_tzUTC = dateutil.tz.gettz(\"UTC\")\n",
    "\n",
    "dt1 = datetime(2022, 11, 6, 1, 30, tzinfo=du_tzNYC, fold=1)\n",
    "dt2 = datetime(2022, 11, 6, 1, 30, tzinfo=du_tzCHI, fold=0)\n",
    "\n",
    "print(dt1)\n",
    "print(dt1.tzinfo)\n",
    "print(dt1.timestamp())\n",
    "print()\n",
    "\n",
    "print(dt2)\n",
    "print(dt2.tzinfo)\n",
    "print(dt2.timestamp())\n",
    "print()\n",
    "\n",
    "print(dt1 == dt2) # False: tzinfos are different and folds are different. Because of the implementation, these will always be different, even if their timestamps are identical."
   ]
  }
 ],
 "metadata": {
  "kernelspec": {
   "display_name": "Python 3",
   "language": "python",
   "name": "python3"
  },
  "language_info": {
   "codemirror_mode": {
    "name": "ipython",
    "version": 3
   },
   "file_extension": ".py",
   "mimetype": "text/x-python",
   "name": "python",
   "nbconvert_exporter": "python",
   "pygments_lexer": "ipython3",
   "version": "3.11.9"
  }
 },
 "nbformat": 4,
 "nbformat_minor": 2
}
