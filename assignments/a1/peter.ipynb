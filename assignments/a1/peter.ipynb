{
 "cells": [
  {
   "cell_type": "markdown",
   "id": "48454221",
   "metadata": {},
   "source": [
    "## Exercise 1 - Time Until 5 pm tomorrow\n",
    "### 1 - Corner cases when calculating time to 5PM tomorrow\n",
    " - Tomorrow is unknown (Feb 28 on an unknown year)\n",
    " - DST forward, DST backward, start or land mid-fold\n",
    " - Run program at midnight, date changes mid-execution\n",
    " - Tomorrow is calculated correctly (skipping over a 23 hour day)\n",
    " \n",
    " ### 2 - The `time_till_5pm_tomorrow` function"
   ]
  },
  {
   "cell_type": "code",
   "execution_count": 1,
   "id": "2ad51551",
   "metadata": {},
   "outputs": [],
   "source": [
    "from datetime import datetime, timedelta, time, timezone"
   ]
  },
  {
   "cell_type": "code",
   "execution_count": 2,
   "id": "036b9236",
   "metadata": {},
   "outputs": [],
   "source": [
    "def time_till_5pm_tomorrow(now=None):\n",
    "    if now is None:\n",
    "        now = datetime.now()\n",
    "    tomorrow = now + timedelta(days=1)\n",
    "    fivepm = time(hour=17, tzinfo = now.tzinfo)\n",
    "    tomorrow_fivepm = datetime.combine(tomorrow, fivepm)\n",
    "    seconds_till = tomorrow_fivepm.timestamp() - now.timestamp()\n",
    "    return seconds_till/3600"
   ]
  },
  {
   "cell_type": "markdown",
   "id": "0a5a52e6",
   "metadata": {},
   "source": [
    "### 3 - Testing `time_till_5pm_tomorrow`"
   ]
  },
  {
   "cell_type": "code",
   "execution_count": 3,
   "id": "4079fb0c",
   "metadata": {},
   "outputs": [
    {
     "name": "stdout",
     "output_type": "stream",
     "text": [
      "expected anwser: unknown\n",
      "25.53695006642077\n",
      "expected anwser: 24.0\n",
      "24.0\n"
     ]
    }
   ],
   "source": [
    "# baseline test cases, run in US Eastern Time\n",
    "print(\"expected anwser: unknown\")\n",
    "print(time_till_5pm_tomorrow())\n",
    "\n",
    "print(\"expected anwser: 24.0\")\n",
    "print(time_till_5pm_tomorrow(datetime(2024,6,18,17)))"
   ]
  },
  {
   "cell_type": "code",
   "execution_count": 4,
   "id": "357039ff",
   "metadata": {},
   "outputs": [
    {
     "name": "stdout",
     "output_type": "stream",
     "text": [
      "expected anwser: 23.0\n",
      "23.0\n",
      "expected anwser: 25.0\n",
      "25.0\n",
      "expected anwser: 16.5\n",
      "16.5\n"
     ]
    }
   ],
   "source": [
    "# DST test cases, run in US Eastern Time\n",
    "\n",
    "# March 9-10, the start of DST\n",
    "print(\"expected anwser: 23.0\")\n",
    "print(time_till_5pm_tomorrow(datetime(2024,3,9,17)))\n",
    "\n",
    "# November 2-3, the end of DST\n",
    "print(\"expected anwser: 25.0\")\n",
    "print(time_till_5pm_tomorrow(datetime(2024,11,2,17)))\n",
    "\n",
    "# March 9 11:30pm, 30 minutes before DST\n",
    "print(\"expected anwser: 16.5\")\n",
    "print(time_till_5pm_tomorrow(datetime(2024,3,9,23,30)))\n"
   ]
  },
  {
   "cell_type": "markdown",
   "id": "aa1ad2c9",
   "metadata": {},
   "source": [
    "### 4 - Using timezone libraries\n",
    "I'm using each libraries closest approximation of NYC time, and running the last four tests which should get answers: 24, 23, 25, and 16.5"
   ]
  },
  {
   "cell_type": "code",
   "execution_count": 5,
   "id": "6013eefd",
   "metadata": {},
   "outputs": [],
   "source": [
    "import pytz, dateutil\n",
    "from zoneinfo import ZoneInfo"
   ]
  },
  {
   "cell_type": "code",
   "execution_count": 6,
   "id": "a9bc2449",
   "metadata": {},
   "outputs": [
    {
     "name": "stdout",
     "output_type": "stream",
     "text": [
      "24.0\n",
      "24.0\n",
      "24.0\n",
      "17.5\n"
     ]
    }
   ],
   "source": [
    "# datetime.timezone on EST (UTC-5:00)\n",
    "NYC = timezone(-timedelta(hours=5), name=\"America/New_York\")\n",
    "print(time_till_5pm_tomorrow(datetime(2024,6, 18,17,    tzinfo = NYC)))\n",
    "print(time_till_5pm_tomorrow(datetime(2024,3, 9, 17,    tzinfo = NYC)))\n",
    "print(time_till_5pm_tomorrow(datetime(2024,11,2, 17,    tzinfo = NYC)))\n",
    "print(time_till_5pm_tomorrow(datetime(2024,3, 9, 23, 30,tzinfo = NYC)))"
   ]
  },
  {
   "cell_type": "code",
   "execution_count": 7,
   "id": "9a7a341a",
   "metadata": {},
   "outputs": [
    {
     "name": "stdout",
     "output_type": "stream",
     "text": [
      "24.0\n",
      "24.0\n",
      "24.0\n",
      "17.5\n"
     ]
    }
   ],
   "source": [
    "# pytz.timezone('America/New_York') run with tzinfo parameter\n",
    "NYC = pytz.timezone('America/New_York')\n",
    "print(time_till_5pm_tomorrow(datetime(2024,6, 18,17,    tzinfo = NYC)))\n",
    "print(time_till_5pm_tomorrow(datetime(2024,3, 9, 17,    tzinfo = NYC)))\n",
    "print(time_till_5pm_tomorrow(datetime(2024,11,2, 17,    tzinfo = NYC)))\n",
    "print(time_till_5pm_tomorrow(datetime(2024,3, 9, 23, 30,tzinfo = NYC)))"
   ]
  },
  {
   "cell_type": "code",
   "execution_count": 8,
   "id": "3c5de4b5",
   "metadata": {},
   "outputs": [
    {
     "name": "stdout",
     "output_type": "stream",
     "text": [
      "23.066666666666666\n",
      "24.066666666666666\n",
      "23.066666666666666\n",
      "17.566666666666666\n"
     ]
    }
   ],
   "source": [
    "# pytz.timezone('America/New_York') run with normalize\n",
    "NYC = pytz.timezone('America/New_York')\n",
    "print(time_till_5pm_tomorrow(NYC.normalize(datetime(2024,6, 18,17,    tzinfo = NYC))))\n",
    "print(time_till_5pm_tomorrow(NYC.normalize(datetime(2024,3, 9, 17,    tzinfo = NYC))))\n",
    "print(time_till_5pm_tomorrow(NYC.normalize(datetime(2024,11,2, 17,    tzinfo = NYC))))\n",
    "print(time_till_5pm_tomorrow(NYC.normalize(datetime(2024,3, 9, 23, 30,tzinfo = NYC))))"
   ]
  },
  {
   "cell_type": "markdown",
   "id": "41a140b2",
   "metadata": {},
   "source": [
    "Because pytz does things differently than the other packages, we get really weird results here. We would need to modify the function to use normalize and localize calls."
   ]
  },
  {
   "cell_type": "code",
   "execution_count": 9,
   "id": "07414b13",
   "metadata": {},
   "outputs": [
    {
     "name": "stdout",
     "output_type": "stream",
     "text": [
      "24.0\n",
      "23.0\n",
      "25.0\n",
      "16.5\n"
     ]
    }
   ],
   "source": [
    "# dateutil.tz.gettz('America/New_York')\n",
    "NYC = dateutil.tz.gettz('America/New_York')\n",
    "print(time_till_5pm_tomorrow(datetime(2024,6, 18,17,    tzinfo = NYC)))\n",
    "print(time_till_5pm_tomorrow(datetime(2024,3, 9, 17,    tzinfo = NYC)))\n",
    "print(time_till_5pm_tomorrow(datetime(2024,11,2, 17,    tzinfo = NYC)))\n",
    "print(time_till_5pm_tomorrow(datetime(2024,3, 9, 23, 30,tzinfo = NYC)))"
   ]
  },
  {
   "cell_type": "code",
   "execution_count": 10,
   "id": "c96f3e76",
   "metadata": {},
   "outputs": [
    {
     "name": "stdout",
     "output_type": "stream",
     "text": [
      "24.0\n",
      "23.0\n",
      "25.0\n",
      "16.5\n"
     ]
    }
   ],
   "source": [
    "# zoneinfo.ZoneInfo('America/New_York')\n",
    "NYC = ZoneInfo('America/New_York')\n",
    "print(time_till_5pm_tomorrow(datetime(2024,6, 18,17,    tzinfo = NYC)))\n",
    "print(time_till_5pm_tomorrow(datetime(2024,3, 9, 17,    tzinfo = NYC)))\n",
    "print(time_till_5pm_tomorrow(datetime(2024,11,2, 17,    tzinfo = NYC)))\n",
    "print(time_till_5pm_tomorrow(datetime(2024,3, 9, 23, 30,tzinfo = NYC)))"
   ]
  },
  {
   "cell_type": "markdown",
   "id": "43bb587b",
   "metadata": {},
   "source": [
    "### 4.5 - Conclusions\n",
    "The only two that work \"out of the box\" are dateutil.tz and ZoneInfo. datetime.timezone doesn't support DST at all and pytz requires some major changes to the fucnction structure for it to work correctly.\n",
    "\n",
    "### 5 - Comparing pytz and dateutil.tz\n",
    "This [ganssle blog](https://blog.ganssle.io/articles/2018/03/pytz-fastest-footgun.html) summarizes it pretty well. pytz attempts to resolve to a single timezone whenever possible and so needs to be \"prompted\" with normalize and localize to make dynamic changes like DST. dateutil.tz on the other hand, is lazy evaluated and so can check what date it\n",
    "\n",
    "### 6 - Trying out different libraries\n",
    "I'm using the same tests with local time, zoneinfo and dateutil.tz. If there's another built in way to handle time zones in the package, I'll also test that."
   ]
  },
  {
   "cell_type": "markdown",
   "id": "0beb3cf1",
   "metadata": {},
   "source": [
    "### 6.1 - Arrow\n",
    "Unlike the main library, it assumes that unspecified time zones are UTC. The built in time zones work on these tests, and it also interfaces correctly with the other two timezone packages. Stuff like shift and floor are handy and it looks like theres a bunch of other useful methods."
   ]
  },
  {
   "cell_type": "code",
   "execution_count": 11,
   "id": "73376a01",
   "metadata": {},
   "outputs": [],
   "source": [
    "import arrow\n",
    "def time_till_5pm_tomorrow(now=None):\n",
    "    if now is None:\n",
    "        now = arrow.now()\n",
    "    tomorrow = now.shift(days = 1)\n",
    "    tomorrow_fivepm = tomorrow.replace(hour=17).floor('hour')\n",
    "    seconds_till = tomorrow_fivepm.timestamp() - now.timestamp()\n",
    "    return seconds_till/3600"
   ]
  },
  {
   "cell_type": "code",
   "execution_count": 12,
   "id": "3a63db10",
   "metadata": {},
   "outputs": [
    {
     "name": "stdout",
     "output_type": "stream",
     "text": [
      "25.536928602788183\n",
      "24.0\n",
      "24.0\n",
      "24.0\n",
      "17.5\n",
      "-----\n",
      "24.0\n",
      "23.0\n",
      "25.0\n",
      "16.5\n",
      "-----\n",
      "24.0\n",
      "23.0\n",
      "25.0\n",
      "16.5\n",
      "-----\n",
      "24.0\n",
      "23.0\n",
      "25.0\n",
      "16.5\n"
     ]
    }
   ],
   "source": [
    "print(time_till_5pm_tomorrow())\n",
    "print(time_till_5pm_tomorrow(arrow.Arrow(2024,6 ,18,17)))\n",
    "print(time_till_5pm_tomorrow(arrow.Arrow(2024,3 ,9 ,17)))\n",
    "print(time_till_5pm_tomorrow(arrow.Arrow(2024,11,2 ,17)))\n",
    "print(time_till_5pm_tomorrow(arrow.Arrow(2024,3 ,9 ,23,30)))\n",
    "print(\"-----\")\n",
    "NYC = 'America/New_York'\n",
    "print(time_till_5pm_tomorrow(arrow.Arrow(2024,6 ,18,17,   tzinfo=NYC)))\n",
    "print(time_till_5pm_tomorrow(arrow.Arrow(2024,3 ,9 ,17,   tzinfo=NYC)))\n",
    "print(time_till_5pm_tomorrow(arrow.Arrow(2024,11,2 ,17,   tzinfo=NYC)))\n",
    "print(time_till_5pm_tomorrow(arrow.Arrow(2024,3 ,9 ,23,30,tzinfo=NYC)))\n",
    "print(\"-----\")\n",
    "NYC = dateutil.tz.gettz('America/New_York')\n",
    "print(time_till_5pm_tomorrow(arrow.Arrow(2024,6 ,18,17,   tzinfo=NYC)))\n",
    "print(time_till_5pm_tomorrow(arrow.Arrow(2024,3 ,9 ,17,   tzinfo=NYC)))\n",
    "print(time_till_5pm_tomorrow(arrow.Arrow(2024,11,2 ,17,   tzinfo=NYC)))\n",
    "print(time_till_5pm_tomorrow(arrow.Arrow(2024,3 ,9 ,23,30,tzinfo=NYC)))\n",
    "print(\"-----\")\n",
    "NYC = ZoneInfo('America/New_York')\n",
    "print(time_till_5pm_tomorrow(arrow.Arrow(2024,6 ,18,17,   tzinfo=NYC)))\n",
    "print(time_till_5pm_tomorrow(arrow.Arrow(2024,3 ,9 ,17,   tzinfo=NYC)))\n",
    "print(time_till_5pm_tomorrow(arrow.Arrow(2024,11,2 ,17,   tzinfo=NYC)))\n",
    "print(time_till_5pm_tomorrow(arrow.Arrow(2024,3 ,9 ,23,30,tzinfo=NYC)))"
   ]
  },
  {
   "cell_type": "markdown",
   "id": "5509bdd3",
   "metadata": {},
   "source": [
    "### 6.2 - pendulum\n",
    "Also defaults to UTC (but supports naives if you need them). Similarly helpful stuff to arrow. Doesn't play well with dateutil.tz for some reason. "
   ]
  },
  {
   "cell_type": "code",
   "execution_count": 13,
   "id": "77b9fe1f",
   "metadata": {},
   "outputs": [],
   "source": [
    "import pendulum\n",
    "def time_till_5pm_tomorrow(now=None):\n",
    "    if now is None:\n",
    "        now = pendulum.now()\n",
    "    tomorrow = now.add(days = 1)\n",
    "    tomorrow_fivepm = tomorrow.replace(hour=17).start_of('hour')\n",
    "    seconds_till = tomorrow_fivepm.timestamp() - now.timestamp()\n",
    "    return seconds_till/3600"
   ]
  },
  {
   "cell_type": "code",
   "execution_count": 14,
   "id": "6fa01767",
   "metadata": {},
   "outputs": [
    {
     "name": "stdout",
     "output_type": "stream",
     "text": [
      "25.536920454700788\n",
      "24.0\n",
      "24.0\n",
      "24.0\n",
      "17.5\n",
      "-----\n",
      "24.0\n",
      "23.0\n",
      "25.0\n",
      "16.5\n",
      "-----\n",
      "24.0\n",
      "24.0\n",
      "24.0\n",
      "17.5\n",
      "-----\n",
      "24.0\n",
      "23.0\n",
      "25.0\n",
      "16.5\n"
     ]
    }
   ],
   "source": [
    "print(time_till_5pm_tomorrow())\n",
    "print(time_till_5pm_tomorrow(pendulum.datetime(2024,6 ,18,17)))\n",
    "print(time_till_5pm_tomorrow(pendulum.datetime(2024,3 ,9 ,17)))\n",
    "print(time_till_5pm_tomorrow(pendulum.datetime(2024,11,2 ,17)))\n",
    "print(time_till_5pm_tomorrow(pendulum.datetime(2024,3 ,9 ,23,30)))\n",
    "print(\"-----\")\n",
    "NYC = 'America/New_York'\n",
    "print(time_till_5pm_tomorrow(pendulum.datetime(2024,6 ,18,17,   tz=NYC)))\n",
    "print(time_till_5pm_tomorrow(pendulum.datetime(2024,3 ,9 ,17,   tz=NYC)))\n",
    "print(time_till_5pm_tomorrow(pendulum.datetime(2024,11,2 ,17,   tz=NYC)))\n",
    "print(time_till_5pm_tomorrow(pendulum.datetime(2024,3 ,9 ,23,30,tz=NYC)))\n",
    "print(\"-----\")\n",
    "NYC = dateutil.tz.gettz('America/New_York')\n",
    "print(time_till_5pm_tomorrow(pendulum.datetime(2024,6 ,18,17,   tz=NYC)))\n",
    "print(time_till_5pm_tomorrow(pendulum.datetime(2024,3 ,9 ,17,   tz=NYC)))\n",
    "print(time_till_5pm_tomorrow(pendulum.datetime(2024,11,2 ,17,   tz=NYC)))\n",
    "print(time_till_5pm_tomorrow(pendulum.datetime(2024,3 ,9 ,23,30,tz=NYC)))\n",
    "print(\"-----\")\n",
    "NYC = ZoneInfo('America/New_York')\n",
    "print(time_till_5pm_tomorrow(pendulum.datetime(2024,6 ,18,17,   tz=NYC)))\n",
    "print(time_till_5pm_tomorrow(pendulum.datetime(2024,3 ,9 ,17,   tz=NYC)))\n",
    "print(time_till_5pm_tomorrow(pendulum.datetime(2024,11,2 ,17,   tz=NYC)))\n",
    "print(time_till_5pm_tomorrow(pendulum.datetime(2024,3 ,9 ,23,30,tz=NYC)))"
   ]
  },
  {
   "cell_type": "markdown",
   "id": "63e68921",
   "metadata": {},
   "source": [
    "### 6.3 - whenever\n",
    "I'm a huge fan of type safety (which is why I'm working with python less and less these days), so I like the philosophy. It feels like because the main focus is safety, it has less useful methods than the other two like `humanize` or `floor`. It doesn't interface with any other timezone package, but that's because it's rebuilding the system from the ground up, which is probably a good thing."
   ]
  },
  {
   "cell_type": "code",
   "execution_count": 15,
   "id": "e8dc7421",
   "metadata": {},
   "outputs": [],
   "source": [
    "import whenever\n",
    "def time_till_5pm_tomorrow(now=None):\n",
    "    if now is None:\n",
    "        now = whenever.UTCDateTime.now()\n",
    "    tomorrow = now + whenever.days(1)\n",
    "    tomorrow_fivepm = tomorrow.replace(hour=17, minute=0, second=0, microsecond=0)\n",
    "    diff = tomorrow_fivepm - now\n",
    "    return diff.in_hours()"
   ]
  },
  {
   "cell_type": "code",
   "execution_count": 16,
   "id": "00b5b7f1",
   "metadata": {},
   "outputs": [
    {
     "name": "stdout",
     "output_type": "stream",
     "text": [
      "21.536917499166666\n",
      "24.0\n",
      "23.0\n",
      "25.0\n",
      "16.5\n"
     ]
    }
   ],
   "source": [
    "print(time_till_5pm_tomorrow())\n",
    "print(time_till_5pm_tomorrow(whenever.ZonedDateTime(2024,6 ,18,17,   tz = 'America/New_York')))\n",
    "print(time_till_5pm_tomorrow(whenever.ZonedDateTime(2024,3 ,9 ,17,   tz = 'America/New_York')))\n",
    "print(time_till_5pm_tomorrow(whenever.ZonedDateTime(2024,11,2 ,17,   tz = 'America/New_York')))\n",
    "print(time_till_5pm_tomorrow(whenever.ZonedDateTime(2024,3 ,9 ,23,30,tz = 'America/New_York')))"
   ]
  },
  {
   "cell_type": "code",
   "execution_count": null,
   "id": "f6fec2ba",
   "metadata": {},
   "outputs": [],
   "source": []
  }
 ],
 "metadata": {
  "kernelspec": {
   "display_name": "Python 3 (ipykernel)",
   "language": "python",
   "name": "python3"
  },
  "language_info": {
   "codemirror_mode": {
    "name": "ipython",
    "version": 3
   },
   "file_extension": ".py",
   "mimetype": "text/x-python",
   "name": "python",
   "nbconvert_exporter": "python",
   "pygments_lexer": "ipython3",
   "version": "3.9.6"
  }
 },
 "nbformat": 4,
 "nbformat_minor": 5
}
