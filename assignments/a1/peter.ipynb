{
 "cells": [
  {
   "cell_type": "markdown",
   "id": "48454221",
   "metadata": {},
   "source": [
    "## Exercise 1 - Time Until 5 pm tomorrow\n",
    "### 1 - Corner cases when calculating time to 5PM tomorrow\n",
    " - Tomorrow is unknown (Feb 28 on an unknown year)\n",
    " - DST forward, DST backward, start or land mid-fold\n",
    " - Run program at midnight, date changes mid-execution\n",
    " - Tomorrow is calculated correctly (skipping over a 23 hour day)\n",
    " \n",
    " ### 2 - The `time_till_5pm_tomorrow` function"
   ]
  },
  {
   "cell_type": "code",
   "execution_count": 1,
   "id": "2ad51551",
   "metadata": {},
   "outputs": [],
   "source": [
    "from datetime import datetime, timedelta, date, time, timezone"
   ]
  },
  {
   "cell_type": "code",
   "execution_count": 2,
   "id": "036b9236",
   "metadata": {},
   "outputs": [],
   "source": [
    "def time_till_5pm_tomorrow(now=None):\n",
    "    if now is None:\n",
    "        now = datetime.now()\n",
    "    tomorrow = now + timedelta(days=1)\n",
    "    fivepm = time(hour=17, tzinfo = now.tzinfo)\n",
    "    tomorrow_fivepm = datetime.combine(tomorrow, fivepm)\n",
    "    seconds_till = tomorrow_fivepm.timestamp() - now.timestamp()\n",
    "    return seconds_till/3600"
   ]
  },
  {
   "cell_type": "markdown",
   "id": "0a5a52e6",
   "metadata": {},
   "source": [
    "### 3 - Testing `time_till_5pm_tomorrow`"
   ]
  },
  {
   "cell_type": "code",
   "execution_count": 3,
   "id": "4079fb0c",
   "metadata": {},
   "outputs": [
    {
     "name": "stdout",
     "output_type": "stream",
     "text": [
      "expected anwser: unknown\n",
      "25.266525310807758\n",
      "expected anwser: 24.0\n",
      "24.0\n"
     ]
    }
   ],
   "source": [
    "# baseline test cases, run in US Eastern Time\n",
    "print(\"expected anwser: unknown\")\n",
    "print(time_till_5pm_tomorrow())\n",
    "\n",
    "print(\"expected anwser: 24.0\")\n",
    "print(time_till_5pm_tomorrow(datetime(2024,6,18,17)))"
   ]
  },
  {
   "cell_type": "code",
   "execution_count": 4,
   "id": "357039ff",
   "metadata": {},
   "outputs": [
    {
     "name": "stdout",
     "output_type": "stream",
     "text": [
      "expected anwser: 23.0\n",
      "23.0\n",
      "expected anwser: 25.0\n",
      "25.0\n",
      "expected anwser: 16.5\n",
      "16.5\n"
     ]
    }
   ],
   "source": [
    "# DST test cases, run in US Eastern Time\n",
    "\n",
    "# March 9-10, the start of DST\n",
    "print(\"expected anwser: 23.0\")\n",
    "print(time_till_5pm_tomorrow(datetime(2024,3,9,17)))\n",
    "\n",
    "# November 2-3, the end of DST\n",
    "print(\"expected anwser: 25.0\")\n",
    "print(time_till_5pm_tomorrow(datetime(2024,11,2,17)))\n",
    "\n",
    "# March 9 11:30pm, 30 minutes before DST\n",
    "print(\"expected anwser: 16.5\")\n",
    "print(time_till_5pm_tomorrow(datetime(2024,3,9,23,30)))\n"
   ]
  },
  {
   "cell_type": "markdown",
   "id": "aa1ad2c9",
   "metadata": {},
   "source": [
    "### 4 - Using timezone libraries\n",
    "I'm using each libraries closest approximation of NYC time, and running the last four tests which should get answers: 24, 23, 25, and 16.5"
   ]
  },
  {
   "cell_type": "code",
   "execution_count": 5,
   "id": "6013eefd",
   "metadata": {},
   "outputs": [],
   "source": [
    "import pytz, dateutil\n",
    "from zoneinfo import ZoneInfo"
   ]
  },
  {
   "cell_type": "code",
   "execution_count": 6,
   "id": "a9bc2449",
   "metadata": {},
   "outputs": [
    {
     "name": "stdout",
     "output_type": "stream",
     "text": [
      "24.0\n",
      "24.0\n",
      "24.0\n",
      "17.5\n"
     ]
    }
   ],
   "source": [
    "# datetime.timezone on EST (UTC-5:00)\n",
    "NYC = timezone(-timedelta(hours=5), name=\"America/New_York\")\n",
    "print(time_till_5pm_tomorrow(datetime(2024,6, 18,17,    tzinfo = NYC)))\n",
    "print(time_till_5pm_tomorrow(datetime(2024,3, 9, 17,    tzinfo = NYC)))\n",
    "print(time_till_5pm_tomorrow(datetime(2024,11,2, 17,    tzinfo = NYC)))\n",
    "print(time_till_5pm_tomorrow(datetime(2024,3, 9, 23, 30,tzinfo = NYC)))"
   ]
  },
  {
   "cell_type": "code",
   "execution_count": 7,
   "id": "9a7a341a",
   "metadata": {},
   "outputs": [
    {
     "name": "stdout",
     "output_type": "stream",
     "text": [
      "24.0\n",
      "24.0\n",
      "24.0\n",
      "17.5\n"
     ]
    }
   ],
   "source": [
    "# pytz.timezone('America/New_York') run with tzinfo parameter\n",
    "NYC = pytz.timezone('America/New_York')\n",
    "print(time_till_5pm_tomorrow(datetime(2024,6, 18,17,    tzinfo = NYC)))\n",
    "print(time_till_5pm_tomorrow(datetime(2024,3, 9, 17,    tzinfo = NYC)))\n",
    "print(time_till_5pm_tomorrow(datetime(2024,11,2, 17,    tzinfo = NYC)))\n",
    "print(time_till_5pm_tomorrow(datetime(2024,3, 9, 23, 30,tzinfo = NYC)))"
   ]
  },
  {
   "cell_type": "code",
   "execution_count": 8,
   "id": "3c5de4b5",
   "metadata": {},
   "outputs": [
    {
     "name": "stdout",
     "output_type": "stream",
     "text": [
      "23.066666666666666\n",
      "24.066666666666666\n",
      "23.066666666666666\n",
      "17.566666666666666\n"
     ]
    }
   ],
   "source": [
    "# pytz.timezone('America/New_York') run with normalize\n",
    "NYC = pytz.timezone('America/New_York')\n",
    "print(time_till_5pm_tomorrow(NYC.normalize(datetime(2024,6, 18,17,    tzinfo = NYC))))\n",
    "print(time_till_5pm_tomorrow(NYC.normalize(datetime(2024,3, 9, 17,    tzinfo = NYC))))\n",
    "print(time_till_5pm_tomorrow(NYC.normalize(datetime(2024,11,2, 17,    tzinfo = NYC))))\n",
    "print(time_till_5pm_tomorrow(NYC.normalize(datetime(2024,3, 9, 23, 30,tzinfo = NYC))))"
   ]
  },
  {
   "cell_type": "markdown",
   "id": "41a140b2",
   "metadata": {},
   "source": [
    "Because pytz does things differently than the other packages, we get really weird results here. We would need to modify the function to use normalize and localize calls."
   ]
  },
  {
   "cell_type": "code",
   "execution_count": 9,
   "id": "07414b13",
   "metadata": {},
   "outputs": [
    {
     "name": "stdout",
     "output_type": "stream",
     "text": [
      "24.0\n",
      "23.0\n",
      "25.0\n",
      "16.5\n"
     ]
    }
   ],
   "source": [
    "# dateutil.tz.gettz('America/New_York')\n",
    "NYC = dateutil.tz.gettz('America/New_York')\n",
    "print(time_till_5pm_tomorrow(datetime(2024,6, 18,17,    tzinfo = NYC)))\n",
    "print(time_till_5pm_tomorrow(datetime(2024,3, 9, 17,    tzinfo = NYC)))\n",
    "print(time_till_5pm_tomorrow(datetime(2024,11,2, 17,    tzinfo = NYC)))\n",
    "print(time_till_5pm_tomorrow(datetime(2024,3, 9, 23, 30,tzinfo = NYC)))"
   ]
  },
  {
   "cell_type": "code",
   "execution_count": 10,
   "id": "c96f3e76",
   "metadata": {},
   "outputs": [
    {
     "name": "stdout",
     "output_type": "stream",
     "text": [
      "24.0\n",
      "23.0\n",
      "25.0\n",
      "16.5\n"
     ]
    }
   ],
   "source": [
    "# zoneinfo.ZoneInfo('America/New_York')\n",
    "NYC = ZoneInfo('America/New_York')\n",
    "print(time_till_5pm_tomorrow(datetime(2024,6, 18,17,    tzinfo = NYC)))\n",
    "print(time_till_5pm_tomorrow(datetime(2024,3, 9, 17,    tzinfo = NYC)))\n",
    "print(time_till_5pm_tomorrow(datetime(2024,11,2, 17,    tzinfo = NYC)))\n",
    "print(time_till_5pm_tomorrow(datetime(2024,3, 9, 23, 30,tzinfo = NYC)))"
   ]
  },
  {
   "cell_type": "markdown",
   "id": "43bb587b",
   "metadata": {},
   "source": [
    "### 4.5 - Conclusions\n",
    "The only two that work \"out of the box\" are dateutil.tz and ZoneInfo. datetime.timezone doesn't support DST at all and pytz requires some major changes to the fucnction structure for it to work correctly.\n",
    "\n",
    "### 5 - Comparing pytz and dateutil.tz\n",
    "This [ganssle blog](https://blog.ganssle.io/articles/2018/03/pytz-fastest-footgun.html) summarizes it pretty well. pytz attempts to resolve to a single timezone whenever possible and so needs to be \"prompted\" with normalize and localize to make dynamic changes like DST. dateutil.tz on the other hand, is lazy evaluated and so can check what date it\n",
    "\n",
    "### 6 - Trying out different libraries\n",
    "I'm using the same tests with local time, zoneinfo and dateutil.tz. If there's another built in way to handle time zones in the package, I'll also test that."
   ]
  },
  {
   "cell_type": "markdown",
   "id": "0beb3cf1",
   "metadata": {},
   "source": [
    "### 6.1 - Arrow\n",
    "Unlike the main library, it assumes that unspecified time zones are UTC. The built in time zones work on these tests, and it also interfaces correctly with the other two timezone packages. Stuff like shift and floor are handy and it looks like theres a bunch of other useful methods."
   ]
  },
  {
   "cell_type": "code",
   "execution_count": 11,
   "id": "73376a01",
   "metadata": {},
   "outputs": [],
   "source": [
    "import arrow\n",
    "def time_till_5pm_tomorrow(now=None):\n",
    "    if now is None:\n",
    "        now = arrow.now()\n",
    "    tomorrow = now.shift(days = 1)\n",
    "    tomorrow_fivepm = tomorrow.replace(hour=17).floor('hour')\n",
    "    seconds_till = tomorrow_fivepm.timestamp() - now.timestamp()\n",
    "    return seconds_till/3600"
   ]
  },
  {
   "cell_type": "code",
   "execution_count": 12,
   "id": "3a63db10",
   "metadata": {},
   "outputs": [
    {
     "name": "stdout",
     "output_type": "stream",
     "text": [
      "25.266505653063458\n",
      "24.0\n",
      "24.0\n",
      "24.0\n",
      "17.5\n",
      "-----\n",
      "24.0\n",
      "23.0\n",
      "25.0\n",
      "16.5\n",
      "-----\n",
      "24.0\n",
      "23.0\n",
      "25.0\n",
      "16.5\n",
      "-----\n",
      "24.0\n",
      "23.0\n",
      "25.0\n",
      "16.5\n"
     ]
    }
   ],
   "source": [
    "print(time_till_5pm_tomorrow())\n",
    "print(time_till_5pm_tomorrow(arrow.Arrow(2024,6 ,18,17)))\n",
    "print(time_till_5pm_tomorrow(arrow.Arrow(2024,3 ,9 ,17)))\n",
    "print(time_till_5pm_tomorrow(arrow.Arrow(2024,11,2 ,17)))\n",
    "print(time_till_5pm_tomorrow(arrow.Arrow(2024,3 ,9 ,23,30)))\n",
    "print(\"-----\")\n",
    "NYC = 'America/New_York'\n",
    "print(time_till_5pm_tomorrow(arrow.Arrow(2024,6 ,18,17,   tzinfo=NYC)))\n",
    "print(time_till_5pm_tomorrow(arrow.Arrow(2024,3 ,9 ,17,   tzinfo=NYC)))\n",
    "print(time_till_5pm_tomorrow(arrow.Arrow(2024,11,2 ,17,   tzinfo=NYC)))\n",
    "print(time_till_5pm_tomorrow(arrow.Arrow(2024,3 ,9 ,23,30,tzinfo=NYC)))\n",
    "print(\"-----\")\n",
    "NYC = dateutil.tz.gettz('America/New_York')\n",
    "print(time_till_5pm_tomorrow(arrow.Arrow(2024,6 ,18,17,   tzinfo=NYC)))\n",
    "print(time_till_5pm_tomorrow(arrow.Arrow(2024,3 ,9 ,17,   tzinfo=NYC)))\n",
    "print(time_till_5pm_tomorrow(arrow.Arrow(2024,11,2 ,17,   tzinfo=NYC)))\n",
    "print(time_till_5pm_tomorrow(arrow.Arrow(2024,3 ,9 ,23,30,tzinfo=NYC)))\n",
    "print(\"-----\")\n",
    "NYC = ZoneInfo('America/New_York')\n",
    "print(time_till_5pm_tomorrow(arrow.Arrow(2024,6 ,18,17,   tzinfo=NYC)))\n",
    "print(time_till_5pm_tomorrow(arrow.Arrow(2024,3 ,9 ,17,   tzinfo=NYC)))\n",
    "print(time_till_5pm_tomorrow(arrow.Arrow(2024,11,2 ,17,   tzinfo=NYC)))\n",
    "print(time_till_5pm_tomorrow(arrow.Arrow(2024,3 ,9 ,23,30,tzinfo=NYC)))"
   ]
  },
  {
   "cell_type": "markdown",
   "id": "5509bdd3",
   "metadata": {},
   "source": [
    "### 6.2 - pendulum\n",
    "Also defaults to UTC (but supports naives if you need them). Similarly helpful stuff to arrow. Doesn't play well with dateutil.tz for some reason. "
   ]
  },
  {
   "cell_type": "code",
   "execution_count": 13,
   "id": "77b9fe1f",
   "metadata": {},
   "outputs": [],
   "source": [
    "import pendulum\n",
    "def time_till_5pm_tomorrow(now=None):\n",
    "    if now is None:\n",
    "        now = pendulum.now()\n",
    "    tomorrow = now.add(days = 1)\n",
    "    tomorrow_fivepm = tomorrow.replace(hour=17).start_of('hour')\n",
    "    seconds_till = tomorrow_fivepm.timestamp() - now.timestamp()\n",
    "    return seconds_till/3600"
   ]
  },
  {
   "cell_type": "code",
   "execution_count": 14,
   "id": "6fa01767",
   "metadata": {},
   "outputs": [
    {
     "name": "stdout",
     "output_type": "stream",
     "text": [
      "25.266497981945673\n",
      "24.0\n",
      "24.0\n",
      "24.0\n",
      "17.5\n",
      "-----\n",
      "24.0\n",
      "23.0\n",
      "25.0\n",
      "16.5\n",
      "-----\n",
      "24.0\n",
      "24.0\n",
      "24.0\n",
      "17.5\n",
      "-----\n",
      "24.0\n",
      "23.0\n",
      "25.0\n",
      "16.5\n"
     ]
    }
   ],
   "source": [
    "print(time_till_5pm_tomorrow())\n",
    "print(time_till_5pm_tomorrow(pendulum.datetime(2024,6 ,18,17)))\n",
    "print(time_till_5pm_tomorrow(pendulum.datetime(2024,3 ,9 ,17)))\n",
    "print(time_till_5pm_tomorrow(pendulum.datetime(2024,11,2 ,17)))\n",
    "print(time_till_5pm_tomorrow(pendulum.datetime(2024,3 ,9 ,23,30)))\n",
    "print(\"-----\")\n",
    "NYC = 'America/New_York'\n",
    "print(time_till_5pm_tomorrow(pendulum.datetime(2024,6 ,18,17,   tz=NYC)))\n",
    "print(time_till_5pm_tomorrow(pendulum.datetime(2024,3 ,9 ,17,   tz=NYC)))\n",
    "print(time_till_5pm_tomorrow(pendulum.datetime(2024,11,2 ,17,   tz=NYC)))\n",
    "print(time_till_5pm_tomorrow(pendulum.datetime(2024,3 ,9 ,23,30,tz=NYC)))\n",
    "print(\"-----\")\n",
    "NYC = dateutil.tz.gettz('America/New_York')\n",
    "print(time_till_5pm_tomorrow(pendulum.datetime(2024,6 ,18,17,   tz=NYC)))\n",
    "print(time_till_5pm_tomorrow(pendulum.datetime(2024,3 ,9 ,17,   tz=NYC)))\n",
    "print(time_till_5pm_tomorrow(pendulum.datetime(2024,11,2 ,17,   tz=NYC)))\n",
    "print(time_till_5pm_tomorrow(pendulum.datetime(2024,3 ,9 ,23,30,tz=NYC)))\n",
    "print(\"-----\")\n",
    "NYC = ZoneInfo('America/New_York')\n",
    "print(time_till_5pm_tomorrow(pendulum.datetime(2024,6 ,18,17,   tz=NYC)))\n",
    "print(time_till_5pm_tomorrow(pendulum.datetime(2024,3 ,9 ,17,   tz=NYC)))\n",
    "print(time_till_5pm_tomorrow(pendulum.datetime(2024,11,2 ,17,   tz=NYC)))\n",
    "print(time_till_5pm_tomorrow(pendulum.datetime(2024,3 ,9 ,23,30,tz=NYC)))"
   ]
  },
  {
   "cell_type": "markdown",
   "id": "63e68921",
   "metadata": {},
   "source": [
    "### 6.3 - whenever\n",
    "I'm a huge fan of type safety (which is why I'm working with python less and less these days), so I like the philosophy. It feels like because the main focus is safety, it has less useful methods than the other two like `humanize` or `floor`. It doesn't interface with any other timezone package, but that's because it's rebuilding the system from the ground up, which is probably a good thing."
   ]
  },
  {
   "cell_type": "code",
   "execution_count": 15,
   "id": "e8dc7421",
   "metadata": {},
   "outputs": [],
   "source": [
    "import whenever\n",
    "def time_till_5pm_tomorrow(now=None):\n",
    "    if now is None:\n",
    "        now = whenever.UTCDateTime.now()\n",
    "    tomorrow = now + whenever.days(1)\n",
    "    tomorrow_fivepm = tomorrow.replace(hour=17, minute=0, second=0, microsecond=0)\n",
    "    diff = tomorrow_fivepm - now\n",
    "    return diff.in_hours()"
   ]
  },
  {
   "cell_type": "code",
   "execution_count": 16,
   "id": "00b5b7f1",
   "metadata": {},
   "outputs": [
    {
     "name": "stdout",
     "output_type": "stream",
     "text": [
      "21.266495365833332\n",
      "24.0\n",
      "23.0\n",
      "25.0\n",
      "16.5\n"
     ]
    }
   ],
   "source": [
    "print(time_till_5pm_tomorrow())\n",
    "print(time_till_5pm_tomorrow(whenever.ZonedDateTime(2024,6 ,18,17,   tz = 'America/New_York')))\n",
    "print(time_till_5pm_tomorrow(whenever.ZonedDateTime(2024,3 ,9 ,17,   tz = 'America/New_York')))\n",
    "print(time_till_5pm_tomorrow(whenever.ZonedDateTime(2024,11,2 ,17,   tz = 'America/New_York')))\n",
    "print(time_till_5pm_tomorrow(whenever.ZonedDateTime(2024,3 ,9 ,23,30,tz = 'America/New_York')))"
   ]
  },
  {
   "cell_type": "markdown",
   "id": "00f07b7c",
   "metadata": {},
   "source": [
    "# Exercise 2 - Date arithmetic\n",
    "### 1 - Edge cases (+ my expected behavior)\n",
    " - Add 1 year to Feb 29\n",
    "   - Feb 28\n",
    " - Add 1 month to Jan 31\n",
    "   - Feb 28/29\n",
    " - Add 1 hour to 1:30 on the end of DST (first, second or unspecified fold)\n",
    "   - default to first, first -> second, second -> 2:30\n",
    " - Add 1 day to 1:30 on the end of DST (first and second fold)\n",
    "   - Just do wall clock time (so 1:30 next day in either case)\n",
    " - Remove 1 day from 1:30 on the day after the end of DST\n",
    "   - First fold\n",
    " - Add 1 month, 2 days to Jan 29 (order of operations)\n",
    "   - Mar 2 (larger time periods first)\n",
    " - (1 day, 15 hours) / 2\n",
    "   - either invalid or 19.5 hours\n",
    " - (1 day, 15 hours) * 2\n",
    "   - 3 days, 6 hours\n",
    " - difference over DST (both ways)\n",
    "   - no clue what I'd expect honestly. I think I agree with [this blog](https://blog.ganssle.io/articles/2018/02/aware-datetime-arithmetic.html) that it should be absolute time, but I could see either honestly.\n",
    " - difference across time zones\n",
    "   - absolute time\n",
    "\n",
    "### 2 - Testing"
   ]
  },
  {
   "cell_type": "code",
   "execution_count": 17,
   "id": "48600ba5",
   "metadata": {},
   "outputs": [
    {
     "name": "stdout",
     "output_type": "stream",
     "text": [
      "2024-02-29\n",
      "day is out of range for month\n",
      "2024-01-31\n",
      "day is out of range for month\n"
     ]
    }
   ],
   "source": [
    "# 1,2\n",
    "# Timedelta doesn't work with years and months, so I'm seeing what happens if you just manually edit the month and year\n",
    "try:\n",
    "    d = date(2024,2,29)\n",
    "    print(d)\n",
    "    print(d.replace(year = d.year + 1))\n",
    "except Exception as e:\n",
    "    print(e)\n",
    "\n",
    "try:\n",
    "    d = date(2024,1,31)\n",
    "    print(d)\n",
    "    print(d.replace(month = d.month + 1))\n",
    "except Exception as e:\n",
    "    print(e)"
   ]
  },
  {
   "cell_type": "code",
   "execution_count": 18,
   "id": "e47ffb0f",
   "metadata": {},
   "outputs": [
    {
     "name": "stdout",
     "output_type": "stream",
     "text": [
      "d0 = 2024-11-03 01:30:00-04:00 = 1730611800.0\n",
      "d1 = 2024-11-03 01:30:00-04:00 = 1730611800.0\n",
      "d2 = 2024-11-03 01:30:00-05:00 = 1730615400.0\n",
      "2024-11-03 02:30:00-05:00\n",
      "2024-11-04 01:30:00-05:00\n",
      "2024-11-03 02:30:00-05:00\n",
      "2024-11-04 01:30:00-05:00\n"
     ]
    }
   ],
   "source": [
    "# 3,4\n",
    "NYC = dateutil.tz.gettz('America/New_York')\n",
    "d0 = datetime(2024,11,3,1,30, tzinfo = NYC)\n",
    "d1 = datetime(2024,11,3,1,30, fold = 0, tzinfo = NYC)\n",
    "d2 = datetime(2024,11,3,1,30, fold = 1, tzinfo = NYC)\n",
    "\n",
    "print(\"d0 =\", d0, \"=\", d0.timestamp())\n",
    "print(\"d1 =\", d1, \"=\", d1.timestamp())\n",
    "print(\"d2 =\", d2, \"=\", d2.timestamp())\n",
    "# Note: does default to fold = 0\n",
    "\n",
    "print(d1 + timedelta(hours = 1))\n",
    "print(d1 + timedelta(days = 1))\n",
    "# unexpected behavior, skips over the extra daylight savings hour\n",
    "\n",
    "print(d2 + timedelta(hours = 1))\n",
    "print(d2 + timedelta(days = 1))"
   ]
  },
  {
   "cell_type": "code",
   "execution_count": 19,
   "id": "446ec953",
   "metadata": {},
   "outputs": [
    {
     "name": "stdout",
     "output_type": "stream",
     "text": [
      "2024-11-02 01:30:00-04:00\n"
     ]
    }
   ],
   "source": [
    "# 5\n",
    "NYC = dateutil.tz.gettz('America/New_York')\n",
    "d = datetime(2024,11,4,1,30, tzinfo = NYC)\n",
    "print(d1 + timedelta(days = -1))"
   ]
  },
  {
   "cell_type": "code",
   "execution_count": 20,
   "id": "32209002",
   "metadata": {},
   "outputs": [],
   "source": [
    "# 6\n",
    "# invalid because the default datetime library doesn't support adding months"
   ]
  },
  {
   "cell_type": "code",
   "execution_count": 23,
   "id": "79a2bcda",
   "metadata": {},
   "outputs": [
    {
     "name": "stdout",
     "output_type": "stream",
     "text": [
      "1 day, 15:00:00\n",
      "3 days, 6:00:00\n",
      "19:30:00\n",
      "19:30:00\n"
     ]
    }
   ],
   "source": [
    "# 7, 8\n",
    "td = timedelta(days=1, hours=15)\n",
    "print(td)\n",
    "print(td*2)\n",
    "print(td/2)\n",
    "print(td//2)"
   ]
  },
  {
   "cell_type": "code",
   "execution_count": 25,
   "id": "1cbb463e",
   "metadata": {},
   "outputs": [
    {
     "name": "stdout",
     "output_type": "stream",
     "text": [
      "1 day, 0:00:00\n",
      "1 day, 0:00:00\n"
     ]
    }
   ],
   "source": [
    "# 9\n",
    "NYC = dateutil.tz.gettz('America/New_York')\n",
    "d1 = datetime(2024,11,2,12, tzinfo = NYC)\n",
    "d2 = datetime(2024,11,3,12, tzinfo = NYC)\n",
    "print(d2-d1)\n",
    "\n",
    "NYC = dateutil.tz.gettz('America/New_York')\n",
    "d1 = datetime(2024,3,9,12, tzinfo = NYC)\n",
    "d2 = datetime(2024,3,10,12, tzinfo = NYC)\n",
    "print(d2-d1)"
   ]
  },
  {
   "cell_type": "code",
   "execution_count": 26,
   "id": "210f7f17",
   "metadata": {},
   "outputs": [
    {
     "name": "stdout",
     "output_type": "stream",
     "text": [
      "3:00:00\n"
     ]
    }
   ],
   "source": [
    "#10\n",
    "d1 = datetime(2024,1,1, tzinfo = dateutil.tz.gettz('America/Los_Angeles'))\n",
    "d2 = datetime(2024,1,1, tzinfo = dateutil.tz.gettz('America/New_York'))\n",
    "print(d1-d2)"
   ]
  },
  {
   "cell_type": "markdown",
   "id": "19be4da6",
   "metadata": {},
   "source": [
    "### 2.1 - Package arithmetic\n",
    "Since the different datetime packages handle arithmetic a little bit differently, I'm going to run an abbreviated test on this."
   ]
  },
  {
   "cell_type": "code",
   "execution_count": null,
   "id": "b7341feb",
   "metadata": {},
   "outputs": [],
   "source": [
    "# Arrow\n",
    "# TODO"
   ]
  },
  {
   "cell_type": "code",
   "execution_count": 44,
   "id": "1e8d1dd3",
   "metadata": {},
   "outputs": [
    {
     "name": "stdout",
     "output_type": "stream",
     "text": [
      "1: 2025-02-28 00:00:00+00:00\n",
      "2: 2023-02-28 00:00:00+00:00\n",
      "3: 1730611800.0\n",
      "3: 2024-11-03 01:30:00-05:00\n",
      "3: 2024-11-03 02:30:00-05:00\n",
      "4: 2024-11-04 01:30:00-05:00\n",
      "4: 2024-11-04 01:30:00-05:00\n",
      "5: 2024-11-03 01:30:00-05:00\n",
      "6: 2023-03-02 00:00:00+00:00\n",
      "9: 25\n",
      "9: 23\n",
      "9: 3\n"
     ]
    }
   ],
   "source": [
    "# Pendulum\n",
    "import pendulum\n",
    "NYC = 'America/New_York'\n",
    "\n",
    "print(\"1:\", pendulum.datetime(2024, 2, 29).add(years=1))\n",
    "print(\"2:\", pendulum.datetime(2023, 1, 31).add(months=1)) # 2024 is a leap year oops\n",
    "# Note: defaults to second fold\n",
    "print(\"3:\", pendulum.datetime(2024,11,3,1,30, fold=0, tz = NYC).timestamp()) \n",
    "print(\"3:\", pendulum.datetime(2024,11,3,1,30, fold=0, tz = NYC).add(hours=1))\n",
    "print(\"3:\", pendulum.datetime(2024,11,3,1,30, fold=1, tz = NYC).add(hours=1))\n",
    "print(\"4:\", pendulum.datetime(2024,11,3,1,30, fold=0, tz = NYC).add(days=1))\n",
    "print(\"4:\", pendulum.datetime(2024,11,3,1,30, fold=1, tz = NYC).add(days=1))\n",
    "print(\"5:\", pendulum.datetime(2024,11,4,1,30, tz = NYC).add(days=-1)) # lands in second fold\n",
    "print(\"6:\", pendulum.datetime(2023, 1, 29).add(months=1, days=2)) # expected behavior\n",
    "# pendulum does not have timedeltas and so 7 and 8 don't apply\n",
    "print(\"9:\", (pendulum.datetime(2024,11,3,12, tz = NYC) - pendulum.datetime(2024,11,2,12, tz = NYC)).in_hours())\n",
    "print(\"9:\", (pendulum.datetime(2024,3,10,12, tz = NYC) - pendulum.datetime(2024,3,9,12, tz = NYC)).in_hours())\n",
    "print(\"10:\", (pendulum.datetime(2024,1,1, tz = 'America/Los_Angeles') - pendulum.datetime(2024,1,1, tz = 'America/New_York')).in_hours())"
   ]
  },
  {
   "cell_type": "code",
   "execution_count": null,
   "id": "50130b69",
   "metadata": {},
   "outputs": [],
   "source": [
    "# Whenever\n",
    "# TODO"
   ]
  },
  {
   "cell_type": "markdown",
   "id": "38b06de3",
   "metadata": {},
   "source": [
    "### 3 - Equality"
   ]
  }
 ],
 "metadata": {
  "kernelspec": {
   "display_name": "Python 3 (ipykernel)",
   "language": "python",
   "name": "python3"
  },
  "language_info": {
   "codemirror_mode": {
    "name": "ipython",
    "version": 3
   },
   "file_extension": ".py",
   "mimetype": "text/x-python",
   "name": "python",
   "nbconvert_exporter": "python",
   "pygments_lexer": "ipython3",
   "version": "3.9.6"
  }
 },
 "nbformat": 4,
 "nbformat_minor": 5
}
