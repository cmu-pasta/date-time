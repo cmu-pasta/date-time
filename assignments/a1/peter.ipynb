{
 "cells": [
  {
   "cell_type": "markdown",
   "id": "48454221",
   "metadata": {},
   "source": [
    "## Exercise 1 - Time Until 5 pm tomorrow\n",
    "### 1 - Corner cases when calculating time to 5PM tomorrow\n",
    " - Tomorrow is unknown (Feb 28 on an unknown year)\n",
    " - DST forward, DST backward, start or land mid-fold\n",
    " - Run program at midnight, date changes mid-execution\n",
    " - Tomorrow is calculated correctly (skipping over a 23 hour day)\n",
    " \n",
    " ### 2 - The `time_till_5pm_tomorrow` function"
   ]
  },
  {
   "cell_type": "code",
   "execution_count": 1,
   "id": "2ad51551",
   "metadata": {},
   "outputs": [],
   "source": [
    "from datetime import datetime, timedelta, date, time, timezone\n",
    "import copy"
   ]
  },
  {
   "cell_type": "code",
   "execution_count": 2,
   "id": "036b9236",
   "metadata": {},
   "outputs": [],
   "source": [
    "def time_till_5pm_tomorrow(now):\n",
    "    tomorrow = now.date() + timedelta(days=1)\n",
    "    fivepm = time(hour=17, tzinfo = now.tzinfo)\n",
    "    tomorrow_fivepm = datetime.combine(tomorrow, fivepm)\n",
    "    seconds_till = tomorrow_fivepm.timestamp() - now.timestamp()\n",
    "    return seconds_till/3600"
   ]
  },
  {
   "cell_type": "markdown",
   "id": "0a5a52e6",
   "metadata": {},
   "source": [
    "### 3 - Testing `time_till_5pm_tomorrow`"
   ]
  },
  {
   "cell_type": "code",
   "execution_count": 3,
   "id": "4079fb0c",
   "metadata": {},
   "outputs": [
    {
     "name": "stdout",
     "output_type": "stream",
     "text": [
      "expected anwser: 24.0\n",
      "24.0\n"
     ]
    }
   ],
   "source": [
    "# baseline test cases, run in US Eastern Time\n",
    "# print(\"expected anwser: unknown\")\n",
    "# print(time_till_5pm_tomorrow())\n",
    "\n",
    "print(\"expected anwser: 24.0\")\n",
    "print(time_till_5pm_tomorrow(datetime(2024,6,18,17)))"
   ]
  },
  {
   "cell_type": "code",
   "execution_count": 4,
   "id": "357039ff",
   "metadata": {},
   "outputs": [
    {
     "name": "stdout",
     "output_type": "stream",
     "text": [
      "expected anwser: 23.0\n",
      "23.0\n",
      "expected anwser: 25.0\n",
      "25.0\n",
      "expected anwser: 16.5\n",
      "16.5\n"
     ]
    }
   ],
   "source": [
    "# DST test cases, run in US Eastern Time\n",
    "\n",
    "# March 9-10, the start of DST\n",
    "print(\"expected anwser: 23.0\")\n",
    "print(time_till_5pm_tomorrow(datetime(2024,3,9,17)))\n",
    "\n",
    "# November 2-3, the end of DST\n",
    "print(\"expected anwser: 25.0\")\n",
    "print(time_till_5pm_tomorrow(datetime(2024,11,2,17)))\n",
    "\n",
    "# March 9 11:30pm, 30 minutes before DST\n",
    "print(\"expected anwser: 16.5\")\n",
    "print(time_till_5pm_tomorrow(datetime(2024,3,9,23,30)))\n"
   ]
  },
  {
   "cell_type": "markdown",
   "id": "aa1ad2c9",
   "metadata": {},
   "source": [
    "### 4 - Using timezone libraries\n",
    "I'm using each libraries closest approximation of NYC time, and running the last four tests which should get answers: 24, 23, 25, and 16.5"
   ]
  },
  {
   "cell_type": "code",
   "execution_count": 5,
   "id": "6013eefd",
   "metadata": {},
   "outputs": [],
   "source": [
    "import pytz, dateutil\n",
    "from zoneinfo import ZoneInfo"
   ]
  },
  {
   "cell_type": "code",
   "execution_count": 6,
   "id": "a9bc2449",
   "metadata": {},
   "outputs": [
    {
     "name": "stdout",
     "output_type": "stream",
     "text": [
      "24.0\n",
      "24.0\n",
      "24.0\n",
      "17.5\n"
     ]
    }
   ],
   "source": [
    "# datetime.timezone on EST (UTC-5:00)\n",
    "NYC = timezone(-timedelta(hours=5), name=\"America/New_York\")\n",
    "print(time_till_5pm_tomorrow(datetime(2024,6, 18,17,    tzinfo = NYC)))\n",
    "print(time_till_5pm_tomorrow(datetime(2024,3, 9, 17,    tzinfo = NYC)))\n",
    "print(time_till_5pm_tomorrow(datetime(2024,11,2, 17,    tzinfo = NYC)))\n",
    "print(time_till_5pm_tomorrow(datetime(2024,3, 9, 23, 30,tzinfo = NYC)))"
   ]
  },
  {
   "cell_type": "code",
   "execution_count": 7,
   "id": "9a7a341a",
   "metadata": {},
   "outputs": [
    {
     "name": "stdout",
     "output_type": "stream",
     "text": [
      "24.0\n",
      "24.0\n",
      "24.0\n",
      "17.5\n"
     ]
    }
   ],
   "source": [
    "# pytz.timezone('America/New_York') run naively\n",
    "NYC = pytz.timezone('America/New_York')\n",
    "print(time_till_5pm_tomorrow(datetime(2024,6, 18,17,    tzinfo = NYC)))\n",
    "print(time_till_5pm_tomorrow(datetime(2024,3, 9, 17,    tzinfo = NYC)))\n",
    "print(time_till_5pm_tomorrow(datetime(2024,11,2, 17,    tzinfo = NYC)))\n",
    "print(time_till_5pm_tomorrow(datetime(2024,3, 9, 23, 30,tzinfo = NYC)))"
   ]
  },
  {
   "cell_type": "code",
   "execution_count": 33,
   "id": "3c5de4b5",
   "metadata": {},
   "outputs": [
    {
     "name": "stdout",
     "output_type": "stream",
     "text": [
      "24.0\n",
      "23.0\n",
      "25.0\n",
      "16.5\n",
      "39.0\n"
     ]
    }
   ],
   "source": [
    "# pytz.timezone('America/New_York') run corrctly\n",
    "\n",
    "def time_till_5pm_tomorrow_pytz(now):\n",
    "    tz = now.tzinfo\n",
    "    tomorrow = now.date() + timedelta(days=1)\n",
    "    tomorrow_fivepm = tz.localize(datetime.combine(tomorrow, time(hour=17)))\n",
    "    seconds_till = tomorrow_fivepm.timestamp() - now.timestamp()\n",
    "    return seconds_till/3600\n",
    "\n",
    "NYC = pytz.timezone('America/New_York')\n",
    "print(time_till_5pm_tomorrow_pytz(NYC.localize(datetime(2024,6, 18,17))))\n",
    "print(time_till_5pm_tomorrow_pytz(NYC.localize(datetime(2024,3, 9, 17))))\n",
    "print(time_till_5pm_tomorrow_pytz(NYC.localize(datetime(2024,11,2, 17))))\n",
    "print(time_till_5pm_tomorrow_pytz(NYC.localize(datetime(2024,3, 9, 23, 30))))"
   ]
  },
  {
   "cell_type": "code",
   "execution_count": 9,
   "id": "07414b13",
   "metadata": {},
   "outputs": [
    {
     "name": "stdout",
     "output_type": "stream",
     "text": [
      "24.0\n",
      "23.0\n",
      "25.0\n",
      "16.5\n"
     ]
    }
   ],
   "source": [
    "# dateutil.tz.gettz('America/New_York')\n",
    "NYC = dateutil.tz.gettz('America/New_York')\n",
    "print(time_till_5pm_tomorrow(datetime(2024,6, 18,17,    tzinfo = NYC)))\n",
    "print(time_till_5pm_tomorrow(datetime(2024,3, 9, 17,    tzinfo = NYC)))\n",
    "print(time_till_5pm_tomorrow(datetime(2024,11,2, 17,    tzinfo = NYC)))\n",
    "print(time_till_5pm_tomorrow(datetime(2024,3, 9, 23, 30,tzinfo = NYC)))"
   ]
  },
  {
   "cell_type": "code",
   "execution_count": 10,
   "id": "c96f3e76",
   "metadata": {},
   "outputs": [
    {
     "name": "stdout",
     "output_type": "stream",
     "text": [
      "24.0\n",
      "23.0\n",
      "25.0\n",
      "16.5\n"
     ]
    }
   ],
   "source": [
    "# zoneinfo.ZoneInfo('America/New_York')\n",
    "NYC = ZoneInfo('America/New_York')\n",
    "print(time_till_5pm_tomorrow(datetime(2024,6, 18,17,    tzinfo = NYC)))\n",
    "print(time_till_5pm_tomorrow(datetime(2024,3, 9, 17,    tzinfo = NYC)))\n",
    "print(time_till_5pm_tomorrow(datetime(2024,11,2, 17,    tzinfo = NYC)))\n",
    "print(time_till_5pm_tomorrow(datetime(2024,3, 9, 23, 30,tzinfo = NYC)))"
   ]
  },
  {
   "cell_type": "markdown",
   "id": "43bb587b",
   "metadata": {},
   "source": [
    "### 4.5 - Conclusions\n",
    "The only two that work \"out of the box\" are dateutil.tz and ZoneInfo. datetime.timezone doesn't support DST at all and pytz requires some major changes to the fucnction structure for it to work correctly.\n",
    "\n",
    "### 5 - Comparing pytz and dateutil.tz\n",
    "This [ganssle blog](https://blog.ganssle.io/articles/2018/03/pytz-fastest-footgun.html) summarizes it pretty well. pytz attempts to resolve to a single timezone whenever possible and so needs to be \"prompted\" with normalize and localize to make dynamic changes like DST. dateutil.tz on the other hand, is lazy evaluated and so can check what date it\n",
    "\n",
    "### 6 - Trying out different libraries\n",
    "I'm using the same tests with local time, zoneinfo and dateutil.tz. If there's another built in way to handle time zones in the package, I'll also test that."
   ]
  },
  {
   "cell_type": "markdown",
   "id": "0beb3cf1",
   "metadata": {},
   "source": [
    "### 6.1 - Arrow\n",
    "Unlike the main library, it assumes that unspecified time zones are UTC. The built in time zones work on these tests, and it also interfaces correctly with the other two timezone packages. Stuff like shift and floor are handy and it looks like theres a bunch of other useful methods."
   ]
  },
  {
   "cell_type": "code",
   "execution_count": 11,
   "id": "73376a01",
   "metadata": {},
   "outputs": [],
   "source": [
    "import arrow\n",
    "def time_till_5pm_tomorrow(now=None):\n",
    "    if now is None:\n",
    "        now = arrow.now()\n",
    "    tomorrow = now.shift(days = 1)\n",
    "    tomorrow_fivepm = tomorrow.replace(hour=17).floor('hour')\n",
    "    seconds_till = tomorrow_fivepm.timestamp() - now.timestamp()\n",
    "    return seconds_till/3600"
   ]
  },
  {
   "cell_type": "code",
   "execution_count": 12,
   "id": "3a63db10",
   "metadata": {},
   "outputs": [
    {
     "name": "stdout",
     "output_type": "stream",
     "text": [
      "24.0\n",
      "24.0\n",
      "24.0\n",
      "17.5\n",
      "-----\n",
      "24.0\n",
      "23.0\n",
      "25.0\n",
      "16.5\n",
      "-----\n",
      "24.0\n",
      "23.0\n",
      "25.0\n",
      "16.5\n",
      "-----\n",
      "24.0\n",
      "23.0\n",
      "25.0\n",
      "16.5\n"
     ]
    }
   ],
   "source": [
    "# print(time_till_5pm_tomorrow())\n",
    "print(time_till_5pm_tomorrow(arrow.Arrow(2024,6 ,18,17)))\n",
    "print(time_till_5pm_tomorrow(arrow.Arrow(2024,3 ,9 ,17)))\n",
    "print(time_till_5pm_tomorrow(arrow.Arrow(2024,11,2 ,17)))\n",
    "print(time_till_5pm_tomorrow(arrow.Arrow(2024,3 ,9 ,23,30)))\n",
    "print(\"-----\")\n",
    "NYC = 'America/New_York'\n",
    "print(time_till_5pm_tomorrow(arrow.Arrow(2024,6 ,18,17,   tzinfo=NYC)))\n",
    "print(time_till_5pm_tomorrow(arrow.Arrow(2024,3 ,9 ,17,   tzinfo=NYC)))\n",
    "print(time_till_5pm_tomorrow(arrow.Arrow(2024,11,2 ,17,   tzinfo=NYC)))\n",
    "print(time_till_5pm_tomorrow(arrow.Arrow(2024,3 ,9 ,23,30,tzinfo=NYC)))\n",
    "print(\"-----\")\n",
    "NYC = dateutil.tz.gettz('America/New_York')\n",
    "print(time_till_5pm_tomorrow(arrow.Arrow(2024,6 ,18,17,   tzinfo=NYC)))\n",
    "print(time_till_5pm_tomorrow(arrow.Arrow(2024,3 ,9 ,17,   tzinfo=NYC)))\n",
    "print(time_till_5pm_tomorrow(arrow.Arrow(2024,11,2 ,17,   tzinfo=NYC)))\n",
    "print(time_till_5pm_tomorrow(arrow.Arrow(2024,3 ,9 ,23,30,tzinfo=NYC)))\n",
    "print(\"-----\")\n",
    "NYC = ZoneInfo('America/New_York')\n",
    "print(time_till_5pm_tomorrow(arrow.Arrow(2024,6 ,18,17,   tzinfo=NYC)))\n",
    "print(time_till_5pm_tomorrow(arrow.Arrow(2024,3 ,9 ,17,   tzinfo=NYC)))\n",
    "print(time_till_5pm_tomorrow(arrow.Arrow(2024,11,2 ,17,   tzinfo=NYC)))\n",
    "print(time_till_5pm_tomorrow(arrow.Arrow(2024,3 ,9 ,23,30,tzinfo=NYC)))"
   ]
  },
  {
   "cell_type": "markdown",
   "id": "5509bdd3",
   "metadata": {},
   "source": [
    "### 6.2 - pendulum\n",
    "Also defaults to UTC (but supports naives if you need them). Similarly helpful stuff to arrow. Doesn't play well with dateutil.tz for some reason. "
   ]
  },
  {
   "cell_type": "code",
   "execution_count": 13,
   "id": "77b9fe1f",
   "metadata": {},
   "outputs": [],
   "source": [
    "import pendulum\n",
    "def time_till_5pm_tomorrow(now=None):\n",
    "    if now is None:\n",
    "        now = pendulum.now()\n",
    "    tomorrow = now.add(days = 1)\n",
    "    tomorrow_fivepm = tomorrow.replace(hour=17).start_of('hour')\n",
    "    seconds_till = tomorrow_fivepm.timestamp() - now.timestamp()\n",
    "    return seconds_till/3600"
   ]
  },
  {
   "cell_type": "code",
   "execution_count": 14,
   "id": "6fa01767",
   "metadata": {},
   "outputs": [
    {
     "name": "stdout",
     "output_type": "stream",
     "text": [
      "24.0\n",
      "24.0\n",
      "24.0\n",
      "17.5\n",
      "-----\n",
      "24.0\n",
      "23.0\n",
      "25.0\n",
      "16.5\n",
      "-----\n",
      "24.0\n",
      "24.0\n",
      "24.0\n",
      "17.5\n",
      "-----\n",
      "24.0\n",
      "23.0\n",
      "25.0\n",
      "16.5\n"
     ]
    }
   ],
   "source": [
    "# print(time_till_5pm_tomorrow())\n",
    "print(time_till_5pm_tomorrow(pendulum.datetime(2024,6 ,18,17)))\n",
    "print(time_till_5pm_tomorrow(pendulum.datetime(2024,3 ,9 ,17)))\n",
    "print(time_till_5pm_tomorrow(pendulum.datetime(2024,11,2 ,17)))\n",
    "print(time_till_5pm_tomorrow(pendulum.datetime(2024,3 ,9 ,23,30)))\n",
    "print(\"-----\")\n",
    "NYC = 'America/New_York'\n",
    "print(time_till_5pm_tomorrow(pendulum.datetime(2024,6 ,18,17,   tz=NYC)))\n",
    "print(time_till_5pm_tomorrow(pendulum.datetime(2024,3 ,9 ,17,   tz=NYC)))\n",
    "print(time_till_5pm_tomorrow(pendulum.datetime(2024,11,2 ,17,   tz=NYC)))\n",
    "print(time_till_5pm_tomorrow(pendulum.datetime(2024,3 ,9 ,23,30,tz=NYC)))\n",
    "print(\"-----\")\n",
    "NYC = dateutil.tz.gettz('America/New_York')\n",
    "print(time_till_5pm_tomorrow(pendulum.datetime(2024,6 ,18,17,   tz=NYC)))\n",
    "print(time_till_5pm_tomorrow(pendulum.datetime(2024,3 ,9 ,17,   tz=NYC)))\n",
    "print(time_till_5pm_tomorrow(pendulum.datetime(2024,11,2 ,17,   tz=NYC)))\n",
    "print(time_till_5pm_tomorrow(pendulum.datetime(2024,3 ,9 ,23,30,tz=NYC)))\n",
    "print(\"-----\")\n",
    "NYC = ZoneInfo('America/New_York')\n",
    "print(time_till_5pm_tomorrow(pendulum.datetime(2024,6 ,18,17,   tz=NYC)))\n",
    "print(time_till_5pm_tomorrow(pendulum.datetime(2024,3 ,9 ,17,   tz=NYC)))\n",
    "print(time_till_5pm_tomorrow(pendulum.datetime(2024,11,2 ,17,   tz=NYC)))\n",
    "print(time_till_5pm_tomorrow(pendulum.datetime(2024,3 ,9 ,23,30,tz=NYC)))"
   ]
  },
  {
   "cell_type": "markdown",
   "id": "63e68921",
   "metadata": {},
   "source": [
    "### 6.3 - whenever\n",
    "I'm a huge fan of type safety (which is why I'm working with python less and less these days), so I like the philosophy. It feels like because the main focus is safety, it has less useful methods than the other two like `humanize` or `floor`. It doesn't interface with any other timezone package, but that's because it's rebuilding the system from the ground up, which is probably a good thing."
   ]
  },
  {
   "cell_type": "code",
   "execution_count": 15,
   "id": "e8dc7421",
   "metadata": {},
   "outputs": [],
   "source": [
    "import whenever\n",
    "def time_till_5pm_tomorrow(now=None):\n",
    "    if now is None:\n",
    "        now = whenever.UTCDateTime.now()\n",
    "    tomorrow = now + whenever.days(1)\n",
    "    tomorrow_fivepm = tomorrow.replace(hour=17, minute=0, second=0, microsecond=0)\n",
    "    diff = tomorrow_fivepm - now\n",
    "    return diff.in_hours()"
   ]
  },
  {
   "cell_type": "code",
   "execution_count": 16,
   "id": "00b5b7f1",
   "metadata": {},
   "outputs": [
    {
     "name": "stdout",
     "output_type": "stream",
     "text": [
      "24.0\n",
      "23.0\n",
      "25.0\n",
      "16.5\n"
     ]
    }
   ],
   "source": [
    "# print(time_till_5pm_tomorrow())\n",
    "print(time_till_5pm_tomorrow(whenever.ZonedDateTime(2024,6 ,18,17,   tz = 'America/New_York')))\n",
    "print(time_till_5pm_tomorrow(whenever.ZonedDateTime(2024,3 ,9 ,17,   tz = 'America/New_York')))\n",
    "print(time_till_5pm_tomorrow(whenever.ZonedDateTime(2024,11,2 ,17,   tz = 'America/New_York')))\n",
    "print(time_till_5pm_tomorrow(whenever.ZonedDateTime(2024,3 ,9 ,23,30,tz = 'America/New_York')))"
   ]
  },
  {
   "cell_type": "markdown",
   "id": "00f07b7c",
   "metadata": {},
   "source": [
    "# Exercise 2 - Date arithmetic\n",
    "### 1 - Edge cases (+ my expected behavior)\n",
    " - Add 1 year to Feb 29\n",
    "   - Feb 28\n",
    " - Add 1 month to Jan 31\n",
    "   - Feb 28/29\n",
    " - Add 1 hour to 1:30 on the end of DST (first, second or unspecified fold)\n",
    "   - default to first, first -> second, second -> 2:30\n",
    " - Add 1 day to 1:30 on the end of DST (first and second fold)\n",
    "   - Just do wall clock time (so 1:30 next day in either case)\n",
    " - Add or remove 1 day to land at 1:30 on the end of DST\n",
    "   - I would expect first fold, but I think the RFC says to do the furthest fold, so second when moving forward and first when moving backward.\n",
    " - Add 1 month, 2 days to Jan 29 (order of operations)\n",
    "   - Mar 2 (larger time periods first)\n",
    " - (1 day, 15 hours) / 2\n",
    "   - either invalid or 19.5 hours\n",
    " - (1 day, 15 hours) * 2\n",
    "   - 3 days, 6 hours\n",
    " - difference over DST (both ways)\n",
    "   - no clue what I'd expect honestly. I think I agree with [this blog](https://blog.ganssle.io/articles/2018/02/aware-datetime-arithmetic.html) that it should be absolute time, but I could see either honestly.\n",
    " - difference across time zones\n",
    "   - absolute time\n",
    "\n",
    "### 2 - Testing\n",
    "Some of these tests don't make sense with the default datetime library, but of the ones that do, most of them work as expected. The main notable behavior is:\n",
    " - In test three, adding an hour to the first fold skips over the second fold entirely. I think this is an issue with backwards compatibility, so they can't fix the incorrect behavior.\n",
    " - Test five always lands in the first fold.\n",
    " - Tests nine records wall clock time, which is not what I would personally choose, but makes sense."
   ]
  },
  {
   "cell_type": "code",
   "execution_count": 17,
   "id": "48600ba5",
   "metadata": {},
   "outputs": [
    {
     "name": "stdout",
     "output_type": "stream",
     "text": [
      "2024-02-29\n",
      "day is out of range for month\n",
      "2024-01-31\n",
      "day is out of range for month\n"
     ]
    }
   ],
   "source": [
    "# 1,2\n",
    "# Timedelta doesn't work with years and months, so I'm seeing what happens if you just manually edit the month and year\n",
    "try:\n",
    "    d = date(2024,2,29)\n",
    "    print(d)\n",
    "    print(d.replace(year = d.year + 1))\n",
    "except Exception as e:\n",
    "    print(e)\n",
    "\n",
    "try:\n",
    "    d = date(2024,1,31)\n",
    "    print(d)\n",
    "    print(d.replace(month = d.month + 1))\n",
    "except Exception as e:\n",
    "    print(e)"
   ]
  },
  {
   "cell_type": "code",
   "execution_count": 18,
   "id": "e47ffb0f",
   "metadata": {},
   "outputs": [
    {
     "name": "stdout",
     "output_type": "stream",
     "text": [
      "d0 = 2024-11-03 01:30:00-04:00 = 1730611800.0\n",
      "d1 = 2024-11-03 01:30:00-04:00 = 1730611800.0\n",
      "d2 = 2024-11-03 01:30:00-05:00 = 1730615400.0\n",
      "2024-11-03 02:30:00-05:00\n",
      "2024-11-04 01:30:00-05:00\n",
      "2024-11-03 02:30:00-05:00\n",
      "2024-11-04 01:30:00-05:00\n"
     ]
    }
   ],
   "source": [
    "# 3,4\n",
    "NYC = dateutil.tz.gettz('America/New_York')\n",
    "d0 = datetime(2024,11,3,1,30, tzinfo = NYC)\n",
    "d1 = datetime(2024,11,3,1,30, fold = 0, tzinfo = NYC)\n",
    "d2 = datetime(2024,11,3,1,30, fold = 1, tzinfo = NYC)\n",
    "\n",
    "print(\"d0 =\", d0, \"=\", d0.timestamp())\n",
    "print(\"d1 =\", d1, \"=\", d1.timestamp())\n",
    "print(\"d2 =\", d2, \"=\", d2.timestamp())\n",
    "# Note: does default to fold = 0\n",
    "\n",
    "print(d1 + timedelta(hours = 1))\n",
    "print(d1 + timedelta(days = 1))\n",
    "# unexpected behavior, skips over the extra daylight savings hour\n",
    "\n",
    "print(d2 + timedelta(hours = 1))\n",
    "print(d2 + timedelta(days = 1))"
   ]
  },
  {
   "cell_type": "code",
   "execution_count": 19,
   "id": "446ec953",
   "metadata": {},
   "outputs": [
    {
     "name": "stdout",
     "output_type": "stream",
     "text": [
      "2024-11-03 01:30:00-04:00\n",
      "2024-11-03 01:30:00-04:00\n"
     ]
    }
   ],
   "source": [
    "# 5\n",
    "NYC = dateutil.tz.gettz('America/New_York')\n",
    "d = datetime(2024,11,4,1,30, tzinfo = NYC)\n",
    "print(d + timedelta(days = -1))\n",
    "d = datetime(2024,11,2,1,30, tzinfo = NYC)\n",
    "print(d + timedelta(days = 1))"
   ]
  },
  {
   "cell_type": "code",
   "execution_count": 20,
   "id": "d69b034f",
   "metadata": {},
   "outputs": [],
   "source": [
    "# 6\n",
    "# invalid because the default datetime library doesn't support adding months"
   ]
  },
  {
   "cell_type": "code",
   "execution_count": 21,
   "id": "1b4f8860",
   "metadata": {},
   "outputs": [
    {
     "name": "stdout",
     "output_type": "stream",
     "text": [
      "1 day, 15:00:00\n",
      "3 days, 6:00:00\n",
      "19:30:00\n",
      "19:30:00\n"
     ]
    }
   ],
   "source": [
    "# 7, 8\n",
    "td = timedelta(days=1, hours=15)\n",
    "print(td)\n",
    "print(td*2)\n",
    "print(td/2)\n",
    "print(td//2)"
   ]
  },
  {
   "cell_type": "code",
   "execution_count": 22,
   "id": "48124af5",
   "metadata": {},
   "outputs": [
    {
     "name": "stdout",
     "output_type": "stream",
     "text": [
      "1 day, 0:00:00\n",
      "1 day, 0:00:00\n"
     ]
    }
   ],
   "source": [
    "# 9\n",
    "NYC = dateutil.tz.gettz('America/New_York')\n",
    "d1 = datetime(2024,11,2,12, tzinfo = NYC)\n",
    "d2 = datetime(2024,11,3,12, tzinfo = NYC)\n",
    "print(d2-d1)\n",
    "\n",
    "NYC = dateutil.tz.gettz('America/New_York')\n",
    "d1 = datetime(2024,3,9,12, tzinfo = NYC)\n",
    "d2 = datetime(2024,3,10,12, tzinfo = NYC)\n",
    "print(d2-d1)"
   ]
  },
  {
   "cell_type": "code",
   "execution_count": 23,
   "id": "3282c0d5",
   "metadata": {},
   "outputs": [
    {
     "name": "stdout",
     "output_type": "stream",
     "text": [
      "3:00:00\n"
     ]
    }
   ],
   "source": [
    "#10\n",
    "d1 = datetime(2024,1,1, tzinfo = dateutil.tz.gettz('America/Los_Angeles'))\n",
    "d2 = datetime(2024,1,1, tzinfo = dateutil.tz.gettz('America/New_York'))\n",
    "print(d1-d2)"
   ]
  },
  {
   "cell_type": "markdown",
   "id": "dc91aa9b",
   "metadata": {},
   "source": [
    "### 2.1 - Package arithmetic\n",
    "Since the different datetime packages handle arithmetic a little bit differently, I'm going to run an abbreviated test on them. All the actual tests are below, but I'll also put a quick summary of the notable results up here.\n",
    "\n",
    "**DateTime and relativedelta:**\n",
    " - 1 and 2 work as expected\n",
    " - 3 still skips over the second fold \n",
    " - 6 works as expected\n",
    " - 7 does some really agressive rounding.\n",
    "\n",
    "**Arrow:**\n",
    " - 1 and 2 work as expected\n",
    " - all other tests work identical to datetime (notably 3 is still weird)\n",
    "\n",
    "**Pendulum:**\n",
    " - 1 and 2 work as expected\n",
    " - In ambiguous cases, it defaults to the second fold\n",
    " - 3 works as expected on both folds\n",
    " - 9 records absolute time\n",
    "\n",
    "**Whenver:**\n",
    " - 1 and 2 work as expected\n",
    " - Not providing a fold will throw an error sometimes, but other than that it defaults to first fold\n",
    " - 6 is a bit funky to set up because of how whenever likes to do deltas, but it works as expected\n",
    " - 7 throws an error\n",
    " - 9 records absolute time"
   ]
  },
  {
   "cell_type": "code",
   "execution_count": 24,
   "id": "89bcebd4",
   "metadata": {},
   "outputs": [
    {
     "name": "stdout",
     "output_type": "stream",
     "text": [
      "1: 2025-02-28 00:00:00\n",
      "2: 2023-02-28 00:00:00\n",
      "3: 2024-11-03 02:30:00-05:00\n",
      "3: 2024-11-03 02:30:00-05:00\n",
      "4: 2024-11-04 01:30:00-05:00\n",
      "4: 2024-11-04 01:30:00-05:00\n",
      "5: 2024-11-03 01:30:00-04:00\n",
      "5: 2024-11-03 01:30:00-04:00\n",
      "6: 2023-03-02 00:00:00\n",
      "7: relativedelta(hours=+7)\n",
      "8: relativedelta(days=+3, hours=+6)\n"
     ]
    }
   ],
   "source": [
    "# datetime + dateutil.relativedelta\n",
    "from dateutil.relativedelta import relativedelta\n",
    "NYC = dateutil.tz.gettz('America/New_York')\n",
    "\n",
    "print(\"1:\", datetime(2024, 2, 29) + relativedelta(years=1))\n",
    "print(\"2:\", datetime(2023, 1, 31) + relativedelta(months=1)) # 2024 is a leap year, so gotta use 2023\n",
    "print(\"3:\", datetime(2024,11,3,1,30, fold=0, tzinfo = NYC) + relativedelta(hours=1)) # still skips \n",
    "print(\"3:\", datetime(2024,11,3,1,30, fold=1, tzinfo = NYC) + relativedelta(hours=1))\n",
    "print(\"4:\", datetime(2024,11,3,1,30, fold=0, tzinfo = NYC) + relativedelta(days=1))\n",
    "print(\"4:\", datetime(2024,11,3,1,30, fold=1, tzinfo = NYC) + relativedelta(days=1))\n",
    "print(\"5:\", datetime(2024,11,4,1,30, tzinfo = NYC) - relativedelta(days=1)) # lands in first fold\n",
    "print(\"5:\", datetime(2024,11,2,1,30, tzinfo = NYC) + relativedelta(days=1)) # lands in first fold\n",
    "print(\"6:\", datetime(2023, 1, 29) + relativedelta(months=1, days=2))\n",
    "print(\"7:\", relativedelta(days=1, hours=15) / 2)\n",
    "print(\"8:\", relativedelta(days=1, hours=15) * 2)\n",
    "# 9 and 10 will be the same as datetime since they don't use relative delta"
   ]
  },
  {
   "cell_type": "code",
   "execution_count": 25,
   "id": "6d114598",
   "metadata": {},
   "outputs": [
    {
     "name": "stdout",
     "output_type": "stream",
     "text": [
      "1: 2025-02-28T00:00:00+00:00\n",
      "2: 2023-02-28T00:00:00+00:00\n",
      "3: 2024-11-03T01:30:00-04:00\n",
      "3: 2024-11-03T02:30:00-05:00\n",
      "3: 2024-11-03T02:30:00-05:00\n",
      "4: 2024-11-04T01:30:00-05:00\n",
      "4: 2024-11-04T01:30:00-05:00\n",
      "5: 2024-11-03T01:30:00-04:00\n",
      "5: 2024-11-03T01:30:00-04:00\n",
      "6: 2023-03-02T00:00:00+00:00\n",
      "9: 1 day, 0:00:00\n",
      "9: 1 day, 0:00:00\n",
      "10: 3:00:00\n"
     ]
    }
   ],
   "source": [
    "# Arrow\n",
    "import arrow\n",
    "NYC = 'America/New_York'\n",
    "\n",
    "print(\"1:\", arrow.Arrow(2024, 2, 29).shift(years=1))\n",
    "print(\"2:\", arrow.Arrow(2023, 1, 31).shift(months=1)) # 2024 is a leap year, so gotta use 2023\n",
    "# Note: defaults to second fold\n",
    "print(\"3:\", arrow.Arrow(2024,11,3,1,30, tzinfo = NYC)) # defaults to first fold\n",
    "print(\"3:\", arrow.Arrow(2024,11,3,1,30, fold=0, tzinfo = NYC).shift(hours=1)) # also skips fold 2 like datetime\n",
    "print(\"3:\", arrow.Arrow(2024,11,3,1,30, fold=1, tzinfo = NYC).shift(hours=1))\n",
    "print(\"4:\", arrow.Arrow(2024,11,3,1,30, fold=0, tzinfo = NYC).shift(days=1))\n",
    "print(\"4:\", arrow.Arrow(2024,11,3,1,30, fold=1, tzinfo = NYC).shift(days=1))\n",
    "print(\"5:\", arrow.Arrow(2024,11,4,1,30, tzinfo = NYC).shift(days=-1)) # lands in first fold\n",
    "print(\"5:\", arrow.Arrow(2024,11,2,1,30, tzinfo = NYC).shift(days=1)) # lands in first fold\n",
    "print(\"6:\", arrow.Arrow(2023, 1, 29).shift(months=1, days=2))\n",
    "# arrow uses the default datetime timedeltas, so 7 and 8 are the same as default\n",
    "print(\"9:\", arrow.Arrow(2024,11,3,12, tzinfo = NYC) - arrow.Arrow(2024,11,2,12, tzinfo = NYC))\n",
    "print(\"9:\", arrow.Arrow(2024,3,10,12, tzinfo = NYC) - arrow.Arrow(2024,3,9,12, tzinfo = NYC))\n",
    "print(\"10:\", arrow.Arrow(2024,1,1, tzinfo = 'America/Los_Angeles') - arrow.Arrow(2024,1,1, tzinfo = 'America/New_York'))"
   ]
  },
  {
   "cell_type": "code",
   "execution_count": 26,
   "id": "b2fe84d3",
   "metadata": {},
   "outputs": [
    {
     "name": "stdout",
     "output_type": "stream",
     "text": [
      "1: 2025-02-28 00:00:00+00:00\n",
      "2: 2023-02-28 00:00:00+00:00\n",
      "3: 2024-11-03 01:30:00-05:00\n",
      "3: 2024-11-03 01:30:00-05:00\n",
      "3: 2024-11-03 02:30:00-05:00\n",
      "4: 2024-11-04 01:30:00-05:00\n",
      "4: 2024-11-04 01:30:00-05:00\n",
      "5: 2024-11-03 01:30:00-05:00\n",
      "5: 2024-11-03 01:30:00-05:00\n",
      "6: 2023-03-02 00:00:00+00:00\n",
      "9: 25\n",
      "9: 23\n",
      "10: 3\n"
     ]
    }
   ],
   "source": [
    "# Pendulum\n",
    "import pendulum\n",
    "NYC = 'America/New_York'\n",
    "\n",
    "print(\"1:\", pendulum.datetime(2024, 2, 29).add(years=1))\n",
    "print(\"2:\", pendulum.datetime(2023, 1, 31).add(months=1))\n",
    "print(\"3:\", pendulum.datetime(2024,11,3,1,30, tz = NYC)) # defaults to second fold\n",
    "print(\"3:\", pendulum.datetime(2024,11,3,1,30, fold=0, tz = NYC).add(hours=1))\n",
    "print(\"3:\", pendulum.datetime(2024,11,3,1,30, fold=1, tz = NYC).add(hours=1))\n",
    "print(\"4:\", pendulum.datetime(2024,11,3,1,30, fold=0, tz = NYC).add(days=1))\n",
    "print(\"4:\", pendulum.datetime(2024,11,3,1,30, fold=1, tz = NYC).add(days=1))\n",
    "print(\"5:\", pendulum.datetime(2024,11,4,1,30, tz = NYC).add(days=-1)) # lands in second fold\n",
    "print(\"5:\", pendulum.datetime(2024,11,2,1,30, tz = NYC).add(days=1)) # lands in second fold\n",
    "print(\"6:\", pendulum.datetime(2023, 1, 29).add(months=1, days=2)) # expected behavior\n",
    "# pendulum does not have timedeltas and so 7 and 8 don't apply\n",
    "print(\"9:\", (pendulum.datetime(2024,11,3,12, tz = NYC) - pendulum.datetime(2024,11,2,12, tz = NYC)).in_hours())\n",
    "print(\"9:\", (pendulum.datetime(2024,3,10,12, tz = NYC) - pendulum.datetime(2024,3,9,12, tz = NYC)).in_hours())\n",
    "print(\"10:\", (pendulum.datetime(2024,1,1, tz = 'America/Los_Angeles') - pendulum.datetime(2024,1,1, tz = 'America/New_York')).in_hours())"
   ]
  },
  {
   "cell_type": "code",
   "execution_count": 27,
   "id": "88974cf4",
   "metadata": {},
   "outputs": [
    {
     "name": "stdout",
     "output_type": "stream",
     "text": [
      "1: 2025-02-28 00:00:00\n",
      "2: 2023-02-28 00:00:00\n",
      "3: 2024-11-03 01:30:00-04:00[America/New_York]\n",
      "3: 2024-11-03 01:30:00-05:00[America/New_York]\n",
      "3: 2024-11-03 02:30:00-05:00[America/New_York]\n",
      "4: 2024-11-04 01:30:00-05:00[America/New_York]\n",
      "4: 2024-11-04 01:30:00-05:00[America/New_York]\n",
      "5: 2024-11-03 01:30:00-04:00[America/New_York]\n",
      "5: 2024-11-03 01:30:00-04:00[America/New_York]\n",
      "6: 2023-03-02 00:00:00\n",
      "6: 2023-03-02 00:00:00\n",
      "6: 2023-02-28 00:00:00\n",
      "8: P2DT30H\n",
      "9: 25:00:00\n",
      "9: 23:00:00\n",
      "10: 03:00:00\n"
     ]
    }
   ],
   "source": [
    "# Whenever\n",
    "import whenever\n",
    "NYC = 'America/New_York'\n",
    "# ZonedDateTime\n",
    "print(\"1:\", whenever.NaiveDateTime(2024, 2, 29) + whenever.years(1))\n",
    "print(\"2:\", whenever.NaiveDateTime(2023, 1, 31) + whenever.months(1))\n",
    "print(\"3:\", whenever.ZonedDateTime(2024,11,3,1,30, disambiguate='compatible', tz = NYC))\n",
    "# by default throws an error when trying to initialize an abiguous time\n",
    "print(\"3:\", whenever.ZonedDateTime(2024,11,3,1,30, disambiguate='earlier', tz = NYC) + whenever.hours(1))\n",
    "print(\"3:\", whenever.ZonedDateTime(2024,11,3,1,30, disambiguate='later', tz = NYC) + whenever.hours(1))\n",
    "print(\"4:\", whenever.ZonedDateTime(2024,11,3,1,30, disambiguate='earlier', tz = NYC) + whenever.days(1))\n",
    "print(\"4:\", whenever.ZonedDateTime(2024,11,3,1,30, disambiguate='later', tz = NYC) + whenever.days(1))\n",
    "print(\"5:\", whenever.ZonedDateTime(2024,11,4,1,30, tz = NYC) - whenever.days(1)) # lands in the first fold\n",
    "print(\"5:\", whenever.ZonedDateTime(2024,11,2,1,30, tz = NYC) + whenever.days(1))\n",
    "print(\"6:\", whenever.NaiveDateTime(2023, 1, 29) + (whenever.months(1) + whenever.days(2)))\n",
    "print(\"6:\", whenever.NaiveDateTime(2023, 1, 29) + (whenever.days(2) + whenever.months(1)))\n",
    "print(\"6:\", whenever.NaiveDateTime(2023, 1, 29) + whenever.days(2) + whenever.months(1))\n",
    "# print(\"7:\", (whenever.days(1) + whenever.hours(15)) / 2) # not allowed to divide\n",
    "print(\"8:\", (whenever.days(1) + whenever.hours(15)) * 2)\n",
    "print(\"9:\", whenever.ZonedDateTime(2024,11,3,12, tz = NYC) - whenever.ZonedDateTime(2024,11,2,12, tz = NYC))\n",
    "print(\"9:\", whenever.ZonedDateTime(2024,3,10,12, tz = NYC) - whenever.ZonedDateTime(2024,3,9,12, tz = NYC))\n",
    "print(\"10:\", whenever.ZonedDateTime(2024,1,1, tz = 'America/Los_Angeles') - whenever.ZonedDateTime(2024,1,1, tz = 'America/New_York'))"
   ]
  },
  {
   "cell_type": "markdown",
   "id": "b1c4b7c6",
   "metadata": {},
   "source": [
    "### 3 - Equality\n",
    "mostly works how you expect, except that same-time zone equality ignores folds. Notably using an equivalent but not equal (in this case copy.deepcopy) timezone makes it care about folds (because it converts into UTC instead of comparing wall clock time)."
   ]
  },
  {
   "cell_type": "code",
   "execution_count": 31,
   "id": "90c76664",
   "metadata": {},
   "outputs": [
    {
     "name": "stdout",
     "output_type": "stream",
     "text": [
      "same time, same zone: True\n",
      "same wall clock, different zone: False\n",
      "same time, different zone: True\n",
      "same time, same zone, different fold: True\n",
      "same time, equal zone, different fold: False\n"
     ]
    }
   ],
   "source": [
    "NYC = dateutil.tz.gettz('America/New_York')\n",
    "NYC1 = copy.deepcopy(NYC)\n",
    "LAX = dateutil.tz.gettz('America/Los_Angeles')\n",
    "print(\"same time, same zone:\", datetime(2024,6,20,10,13,42,tzinfo=NYC) == datetime(2024,6,20,10,13,42,tzinfo=NYC))\n",
    "print(\"same wall clock, different zone:\", datetime(2024,6,20,10,13,42,tzinfo=NYC) == datetime(2024,6,20,10,13,42,tzinfo=LAX))\n",
    "print(\"same time, different zone:\", datetime(2024,6,20,10,13,42,tzinfo=NYC) == datetime(2024,6,20,7,13,42,tzinfo=LAX))\n",
    "print(\"same time, same zone, different fold:\", datetime(2024,11,3,1,30, fold = 0, tzinfo = NYC) == datetime(2024,11,3,1,30, fold = 1, tzinfo = NYC))\n",
    "print(\"same time, equal zone, different fold:\", datetime(2024,11,3,1,30, fold = 0, tzinfo = NYC) == datetime(2024,11,3,1,30, fold = 1, tzinfo = NYC1))"
   ]
  },
  {
   "cell_type": "markdown",
   "id": "9cecf897",
   "metadata": {},
   "source": [
    "### 3.1 - Package Equality\n",
    "I'm just going to check how each one deals with folds, because I assume that the rest works correctly. Of the three only Whenever catches this bug. If we use equivalent zones (in this case a string and a zoneinfo), Arrow says false, much like the builtin library, and pendulum says true, which is consistent but a bit strange."
   ]
  },
  {
   "cell_type": "code",
   "execution_count": 29,
   "id": "b355f5e2",
   "metadata": {},
   "outputs": [
    {
     "name": "stdout",
     "output_type": "stream",
     "text": [
      "Arrow: True\n",
      "Pendulum: True\n",
      "Whenever: False\n",
      "Arrow: False\n",
      "Pendulum: True\n"
     ]
    }
   ],
   "source": [
    "NYC = 'America/New_York'\n",
    "print(\"Arrow:\", arrow.Arrow(2024,11,3,1,30, fold = 0, tzinfo=NYC) == arrow.Arrow(2024,11,3,1,30, fold = 1, tzinfo=NYC))\n",
    "print(\"Pendulum:\", pendulum.datetime(2024,11,3,1,30, fold = 0, tz=NYC) == pendulum.datetime(2024,11,3,1,30, fold = 1, tz=NYC))\n",
    "print(\"Whenever:\", whenever.ZonedDateTime(2024,11,3,1,30, disambiguate='earlier', tz=NYC) == whenever.ZonedDateTime(2024,11,3,1,30, disambiguate='later', tz=NYC))\n",
    "\n",
    "NYCZI = ZoneInfo('America/New_York')\n",
    "print(\"Arrow:\", arrow.Arrow(2024,11,3,1,30, fold = 0, tzinfo=NYC) == arrow.Arrow(2024,11,3,1,30, fold = 1, tzinfo=NYCZI))\n",
    "print(\"Pendulum:\", pendulum.datetime(2024,11,3,1,30, fold = 0, tz=NYC) == pendulum.datetime(2024,11,3,1,30, fold = 1, tz=NYCZI))"
   ]
  },
  {
   "cell_type": "markdown",
   "id": "3cf9b7e3",
   "metadata": {},
   "source": [
    "### 4 - My Equality Operator\n",
    "I think the most reasonable way to decide if two times are equal is to check UTC timestamps. The main case where this might be odd is for naive times, where I'll assume they're in local time (which is the default behavior of `.timestamp()`)."
   ]
  },
  {
   "cell_type": "code",
   "execution_count": 30,
   "id": "2571bdc8",
   "metadata": {},
   "outputs": [
    {
     "name": "stdout",
     "output_type": "stream",
     "text": [
      "same time, same zone: True\n",
      "same wall clock, different zone: False\n",
      "same time, different zone: True\n",
      "same time, same zone, different fold: False\n",
      "same time, equal zone, different fold: False\n"
     ]
    }
   ],
   "source": [
    "def dt_eq(t1, t2):\n",
    "    return (t1.timestamp() == t2.timestamp())\n",
    "\n",
    "NYC = dateutil.tz.gettz('America/New_York')\n",
    "NYC1 = copy.deepcopy(NYC)\n",
    "LAX = dateutil.tz.gettz('America/Los_Angeles')\n",
    "print(\"same time, same zone:\", dt_eq(datetime(2024,6,20,10,13,42,tzinfo=NYC), datetime(2024,6,20,10,13,42,tzinfo=NYC)))\n",
    "print(\"same wall clock, different zone:\", dt_eq(datetime(2024,6,20,10,13,42,tzinfo=NYC), datetime(2024,6,20,10,13,42,tzinfo=LAX)))\n",
    "print(\"same time, different zone:\", dt_eq(datetime(2024,6,20,10,13,42,tzinfo=NYC), datetime(2024,6,20,7,13,42,tzinfo=LAX)))\n",
    "print(\"same time, same zone, different fold:\", dt_eq(datetime(2024,11,3,1,30, fold = 0, tzinfo = NYC), datetime(2024,11,3,1,30, fold = 1, tzinfo = NYC)))\n",
    "print(\"same time, equal zone, different fold:\", dt_eq(datetime(2024,11,3,1,30, fold = 0, tzinfo = NYC), datetime(2024,11,3,1,30, fold = 1, tzinfo = NYC1)))"
   ]
  },
  {
   "cell_type": "markdown",
   "id": "89c2c8e2",
   "metadata": {},
   "source": [
    "### 5 - Hashing\n",
    "Since python datetime objects are hashable, they have to guarantee that `dt.__hash__` is constant and (more importantly) the value of `dt1 == dt2` must be constant for any two datetimes. Since time equality is (sometimes) determined according to utc timestamp ([here](https://blog.ganssle.io/articles/2018/02/a-curious-case-datetimes.html#footnote-reference-3)), this also must guarantee that if two timestamps are equal, they must stay equal.\n",
    "\n",
    "This is an issue when looking at dates in the future because the timezone details might change. For example, if the US removes daylight savings time, we have two options for what a future datetime object that used to be in DST could do:\n",
    " * Not change their UTC timestamp and be inaccurate about what UTC time this zoned time refers to\n",
    " * Change their UTC timestamp and break equality\n",
    "\n",
    "Neither of which is good.\n",
    "\n",
    "As far as I can tell, dateutil.tz chooses the first approach, but I would need to check other libraries to really know if the equality guarantee works with the current datetime packages."
   ]
  }
 ],
 "metadata": {
  "kernelspec": {
   "display_name": "Python 3 (ipykernel)",
   "language": "python",
   "name": "python3"
  },
  "language_info": {
   "codemirror_mode": {
    "name": "ipython",
    "version": 3
   },
   "file_extension": ".py",
   "mimetype": "text/x-python",
   "name": "python",
   "nbconvert_exporter": "python",
   "pygments_lexer": "ipython3",
   "version": "3.9.6"
  }
 },
 "nbformat": 4,
 "nbformat_minor": 5
}
