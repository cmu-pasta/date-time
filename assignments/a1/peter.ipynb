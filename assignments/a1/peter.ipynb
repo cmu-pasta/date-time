{
 "cells": [
  {
   "cell_type": "markdown",
   "id": "483ed2d9",
   "metadata": {},
   "source": [
    "## Exercise 1 - Time Until 5 pm tomorrow\n",
    "**Corner cases when calculating time to 5PM tomorrow**\n",
    " - Tomorrow is unknown (Feb 28 on an unknown year)\n",
    " - DST forward, DST backward, start or land mid-fold\n",
    " - Run program at midnight, date changes mid-execution"
   ]
  },
  {
   "cell_type": "code",
   "execution_count": 14,
   "id": "5a04659d",
   "metadata": {},
   "outputs": [],
   "source": [
    "from datetime import datetime, timedelta, time, tzinfo"
   ]
  },
  {
   "cell_type": "code",
   "execution_count": 17,
   "id": "3929071c",
   "metadata": {},
   "outputs": [],
   "source": [
    "def time_till_5pm_tomorrow(now=None):\n",
    "    if now is None:\n",
    "        now = datetime.now()\n",
    "    now.astimezone()\n",
    "    tomorrow = now + timedelta(days=1)\n",
    "    fivepm = time(hour=17)\n",
    "    tomorrow_fivepm = datetime.combine(tomorrow, fivepm)\n",
    "    seconds_till = tomorrow_fivepm.timestamp() - now.timestamp()\n",
    "    return seconds_till/3600"
   ]
  },
  {
   "cell_type": "code",
   "execution_count": 19,
   "id": "a14f3d32",
   "metadata": {},
   "outputs": [
    {
     "name": "stdout",
     "output_type": "stream",
     "text": [
      "expected anwser: unknown\n",
      "27.78581694914235\n",
      "expected anwser: 24.0\n",
      "24.0\n"
     ]
    }
   ],
   "source": [
    "# baseline test cases, run in US Eastern Time\n",
    "print(\"expected anwser: unknown\")\n",
    "print(time_till_5pm_tomorrow())\n",
    "\n",
    "print(\"expected anwser: 24.0\")\n",
    "print(time_till_5pm_tomorrow(datetime(2024,6,18,17)))"
   ]
  },
  {
   "cell_type": "code",
   "execution_count": 21,
   "id": "28c1fc66",
   "metadata": {},
   "outputs": [
    {
     "name": "stdout",
     "output_type": "stream",
     "text": [
      "expected anwser: 23.0\n",
      "23.0\n",
      "expected anwser: 25.0\n",
      "25.0\n"
     ]
    }
   ],
   "source": [
    "# DST test cases, run in US Eastern Time\n",
    "\n",
    "# March 9-10, the start of DST\n",
    "print(\"expected anwser: 23.0\")\n",
    "print(time_till_5pm_tomorrow(datetime(2024,3,9,17)))\n",
    "\n",
    "# November 2-3, the end of DST\n",
    "print(\"expected anwser: 25.0\")\n",
    "print(time_till_5pm_tomorrow(datetime(2024,11,2,17)))\n"
   ]
  }
 ],
 "metadata": {
  "kernelspec": {
   "display_name": "Python 3 (ipykernel)",
   "language": "python",
   "name": "python3"
  },
  "language_info": {
   "codemirror_mode": {
    "name": "ipython",
    "version": 3
   },
   "file_extension": ".py",
   "mimetype": "text/x-python",
   "name": "python",
   "nbconvert_exporter": "python",
   "pygments_lexer": "ipython3",
   "version": "3.9.6"
  }
 },
 "nbformat": 4,
 "nbformat_minor": 5
}
