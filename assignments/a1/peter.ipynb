{
 "cells": [
  {
   "cell_type": "markdown",
   "id": "48454221",
   "metadata": {},
   "source": [
    "## Exercise 1 - Time Until 5 pm tomorrow\n",
    "### 1 - Corner cases when calculating time to 5PM tomorrow\n",
    " - Tomorrow is unknown (Feb 28 on an unknown year)\n",
    " - DST forward, DST backward, start or land mid-fold\n",
    " - Run program at midnight, date changes mid-execution\n",
    " - Tomorrow is calculated correctly (skipping over a 23 hour day)\n",
    " \n",
    " ### 2 - The `time_till_5pm_tomorrow` function"
   ]
  },
  {
   "cell_type": "code",
   "execution_count": 1,
   "id": "2ad51551",
   "metadata": {},
   "outputs": [],
   "source": [
    "from datetime import datetime, timedelta, time, timezone"
   ]
  },
  {
   "cell_type": "code",
   "execution_count": 2,
   "id": "036b9236",
   "metadata": {},
   "outputs": [],
   "source": [
    "def time_till_5pm_tomorrow(now=None):\n",
    "    if now is None:\n",
    "        now = datetime.now()\n",
    "    now.astimezone()\n",
    "    tomorrow = now + timedelta(days=1)\n",
    "    fivepm = time(hour=17)\n",
    "    tomorrow_fivepm = datetime.combine(tomorrow, fivepm)\n",
    "    seconds_till = tomorrow_fivepm.timestamp() - now.timestamp()\n",
    "    return seconds_till/3600"
   ]
  },
  {
   "cell_type": "markdown",
   "id": "be9a6616",
   "metadata": {},
   "source": [
    "### 3 - Testing `time_till_5pm_tomorrow`"
   ]
  },
  {
   "cell_type": "code",
   "execution_count": 3,
   "id": "4079fb0c",
   "metadata": {},
   "outputs": [
    {
     "name": "stdout",
     "output_type": "stream",
     "text": [
      "expected anwser: unknown\n",
      "27.237827735013433\n",
      "expected anwser: 24.0\n",
      "24.0\n"
     ]
    }
   ],
   "source": [
    "# baseline test cases, run in US Eastern Time\n",
    "print(\"expected anwser: unknown\")\n",
    "print(time_till_5pm_tomorrow())\n",
    "\n",
    "print(\"expected anwser: 24.0\")\n",
    "print(time_till_5pm_tomorrow(datetime(2024,6,18,17)))"
   ]
  },
  {
   "cell_type": "code",
   "execution_count": 4,
   "id": "357039ff",
   "metadata": {},
   "outputs": [
    {
     "name": "stdout",
     "output_type": "stream",
     "text": [
      "expected anwser: 23.0\n",
      "23.0\n",
      "expected anwser: 25.0\n",
      "25.0\n",
      "expected anwser: 16.5\n",
      "16.5\n"
     ]
    }
   ],
   "source": [
    "# DST test cases, run in US Eastern Time\n",
    "\n",
    "# March 9-10, the start of DST\n",
    "print(\"expected anwser: 23.0\")\n",
    "print(time_till_5pm_tomorrow(datetime(2024,3,9,17)))\n",
    "\n",
    "# November 2-3, the end of DST\n",
    "print(\"expected anwser: 25.0\")\n",
    "print(time_till_5pm_tomorrow(datetime(2024,11,2,17)))\n",
    "\n",
    "# March 9 11:30pm, 30 minutes before DST\n",
    "print(\"expected anwser: 16.5\")\n",
    "print(time_till_5pm_tomorrow(datetime(2024,3,9,23,30)))\n"
   ]
  },
  {
   "cell_type": "markdown",
   "id": "deb5425a",
   "metadata": {},
   "source": [
    "### 4 - Using timezone libraries\n",
    "I'm using each libraries closest approximation of NYC time, and running the last four tests which should get answers: 24, 23, 25, and 16.5"
   ]
  },
  {
   "cell_type": "code",
   "execution_count": 8,
   "id": "c5051d36",
   "metadata": {},
   "outputs": [
    {
     "name": "stdout",
     "output_type": "stream",
     "text": [
      "23.0\n",
      "23.0\n",
      "24.0\n",
      "16.5\n"
     ]
    }
   ],
   "source": [
    "# datetime.timezone on EST (UTC-5:00)\n",
    "NYC = timezone(-timedelta(hours=5), name=\"America/New_York\")\n",
    "print(time_till_5pm_tomorrow(datetime(2024,6, 18,17,    tzinfo = NYC)))\n",
    "print(time_till_5pm_tomorrow(datetime(2024,3, 9, 17,    tzinfo = NYC)))\n",
    "print(time_till_5pm_tomorrow(datetime(2024,11,2, 17,    tzinfo = NYC)))\n",
    "print(time_till_5pm_tomorrow(datetime(2024,3, 9, 23, 30,tzinfo = NYC)))"
   ]
  },
  {
   "cell_type": "code",
   "execution_count": null,
   "id": "0c23b9b4",
   "metadata": {},
   "outputs": [],
   "source": []
  }
 ],
 "metadata": {
  "kernelspec": {
   "display_name": "Python 3 (ipykernel)",
   "language": "python",
   "name": "python3"
  },
  "language_info": {
   "codemirror_mode": {
    "name": "ipython",
    "version": 3
   },
   "file_extension": ".py",
   "mimetype": "text/x-python",
   "name": "python",
   "nbconvert_exporter": "python",
   "pygments_lexer": "ipython3",
   "version": "3.9.6"
  }
 },
 "nbformat": 4,
 "nbformat_minor": 5
}
