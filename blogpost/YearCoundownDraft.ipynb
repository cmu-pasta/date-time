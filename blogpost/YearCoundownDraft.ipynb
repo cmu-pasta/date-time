{
 "cells": [
  {
   "cell_type": "markdown",
   "id": "eea9170a",
   "metadata": {},
   "source": [
    "# Year Countdown\n",
    "*This is a draft for what the \"buggy narrative\" option for the blog post might look like.*\n",
    "\n",
    "We want to make a one year long timer. Specifically we want to make an object that can:\n",
    " * Record the time one year from when it is initialized.\n",
    " * Tell us how long until that point in time.\n",
    " \n",
    "Lets start with a pretty buggy version of this code and then go through the various reasons why this code might break."
   ]
  },
  {
   "cell_type": "code",
   "execution_count": 1,
   "id": "7428eb94",
   "metadata": {},
   "outputs": [],
   "source": [
    "import datetime"
   ]
  },
  {
   "cell_type": "code",
   "execution_count": 2,
   "id": "55e6e808",
   "metadata": {},
   "outputs": [],
   "source": [
    "class YearCountdown:\n",
    "    def __init__(self):\n",
    "        self.end = datetime.datetime.now()\n",
    "        self.end = self.end.replace(year = self.end.year + 1)\n",
    "        print(f\"Set a countdown for {self.end}\")\n",
    "    def timeLeft(self):\n",
    "        return self.end - datetime.datetime.now()"
   ]
  },
  {
   "cell_type": "code",
   "execution_count": 47,
   "id": "3b2ea94d",
   "metadata": {},
   "outputs": [
    {
     "name": "stdout",
     "output_type": "stream",
     "text": [
      "Set a countdown for 2025-06-24 10:28:27.786208-04:00\n",
      "8759:59:59.999519\n"
     ]
    }
   ],
   "source": [
    "yc = YearCountdown()\n",
    "print(yc.timeLeft())"
   ]
  },
  {
   "cell_type": "markdown",
   "id": "c929b0d0",
   "metadata": {},
   "source": [
    "Seems pretty good! We can call the object and get the correct cooldown. So, why is this wrong?\n",
    "## Problem 1: Leap Years\n",
    "What happens when we create a `YearCountdown` object on Feb 29th 2024? Feb 29 2025 isn't a valid date, so where does the end date fall? \n",
    "\n",
    "If we use a package `freezegun` to simulate this case, you can see that we get a runtime error! There is no Feb 29 2025, so the whole function fails.\n",
    "\n",
    "## Solution 1: timedelta\n",
    "Instead of setting the year value manually, we can instead use `timedelta` to increment one year safely."
   ]
  },
  {
   "cell_type": "code",
   "execution_count": 48,
   "id": "cb5ee120",
   "metadata": {},
   "outputs": [
    {
     "name": "stdout",
     "output_type": "stream",
     "text": [
      "Set a countdown for 2025-02-28 00:00:00-05:00\n",
      "8760:00:00\n"
     ]
    }
   ],
   "source": [
    "from freezegun import freeze_time\n",
    "\n",
    "with freeze_time(\"2024-02-29\"):\n",
    "    yc = YearCountdown()\n",
    "    print(yc.timeLeft())"
   ]
  },
  {
   "cell_type": "code",
   "execution_count": 5,
   "id": "991ea531",
   "metadata": {},
   "outputs": [],
   "source": [
    "class YearCountdown:\n",
    "    def __init__(self):\n",
    "        self.end = datetime.datetime.now() + datetime.timedelta(days=365)\n",
    "        print(f\"Set a countdown for {self.end}\")\n",
    "    def timeLeft(self):\n",
    "        return self.end - datetime.datetime.now()"
   ]
  },
  {
   "cell_type": "code",
   "execution_count": 32,
   "id": "a9f0b04e",
   "metadata": {},
   "outputs": [
    {
     "name": "stdout",
     "output_type": "stream",
     "text": [
      "Set a countdown for 2025-02-28 19:00:00-05:00\n",
      "in 1 year\n"
     ]
    }
   ],
   "source": [
    "with freeze_time(\"2024-02-29\"):\n",
    "    yc = YearCountdown()\n",
    "    print(yc.timeLeft())"
   ]
  },
  {
   "cell_type": "markdown",
   "id": "4ba25e0c",
   "metadata": {},
   "source": [
    "## Issue 2: Leap Years (again)\n",
    "While this works for the leap day itself, this actually manages to break even more days than it fixes! On leap years, the year is more than 365 days long, so our timedelta will be off by a day nearly 1/4 of the time. (notice how the countdown is set for the 18th, not the 19th).\n",
    "\n",
    "## Solution 2: relativedelta\n",
    "Datetime itself doesn't have a good solution to this problem, so we'll need to reach into another library. `dateutil` has an object called `relativedelta` allows us to add a year instead of 365 days.\n",
    "\n",
    "NOTE: `relativedelta` has two sets of arguments labeled `year`, `month`, `day`...  and `years`, `months`, `days`... which act differently. The singular versions *set* the time and the plural versions *shift* the time. As a rule of thumb, you usually want the plural versions since the singular versions are handled by `.replace()`."
   ]
  },
  {
   "cell_type": "code",
   "execution_count": 7,
   "id": "10aa99b4",
   "metadata": {},
   "outputs": [
    {
     "name": "stdout",
     "output_type": "stream",
     "text": [
      "Set a countdown for 2025-01-18 00:00:00\n",
      "365 days, 0:00:00\n"
     ]
    }
   ],
   "source": [
    "with freeze_time(\"2024-01-19\"):\n",
    "    yc = YearCountdown()\n",
    "    print(yc.timeLeft())"
   ]
  },
  {
   "cell_type": "code",
   "execution_count": 8,
   "id": "58d5cc3e",
   "metadata": {},
   "outputs": [],
   "source": [
    "from dateutil.relativedelta import relativedelta\n",
    "\n",
    "class YearCountdown:\n",
    "    def __init__(self):\n",
    "        self.end = datetime.datetime.now() + relativedelta(years=1)\n",
    "        print(f\"Set a countdown for {self.end}\")\n",
    "    def timeLeft(self):\n",
    "        return self.end - datetime.datetime.now()"
   ]
  },
  {
   "cell_type": "code",
   "execution_count": 49,
   "id": "a3858fa8",
   "metadata": {},
   "outputs": [
    {
     "name": "stdout",
     "output_type": "stream",
     "text": [
      "Set a countdown for 2025-01-19 00:00:00-05:00\n",
      "8784:00:00\n"
     ]
    }
   ],
   "source": [
    "with freeze_time(\"2024-01-19\"):\n",
    "    yc = YearCountdown()\n",
    "    print(yc.timeLeft())"
   ]
  },
  {
   "cell_type": "markdown",
   "id": "3a961142",
   "metadata": {},
   "source": [
    "## Issue 3: DST\n",
    "Although most times are exactly 365 or 366 days away from one year in the future, there are a few exceptions. Consider Mar 9 2024. In most of the US, that's right before the beginning of daylight savings time. However, Mar 9 2025 is *during* daylight savings time. Because of how the start and end date are set, daylight savings actually moves around from year to year. Between 9:00 on Mar 9 2024 and 9:00 the next year, there are 364 days and 23 hours.\n",
    "## Solution 3: astimezone\n",
    "The problem stems from the fact that by default all `datetime` objects in python are *naive* times, which means they don't have an associated timezone. A call to `.astimezone()` sets the timezones to whatever your system clock is using and "
   ]
  },
  {
   "cell_type": "code",
   "execution_count": 10,
   "id": "6db59b73",
   "metadata": {},
   "outputs": [
    {
     "name": "stdout",
     "output_type": "stream",
     "text": [
      "Set a countdown for 2025-03-09 09:00:00\n",
      "365 days, 0:00:00\n"
     ]
    }
   ],
   "source": [
    "with freeze_time(\"2024-03-09 09:00:00\"):\n",
    "    yc = YearCountdown()\n",
    "    print(yc.timeLeft())"
   ]
  },
  {
   "cell_type": "code",
   "execution_count": 11,
   "id": "85f1f972",
   "metadata": {},
   "outputs": [],
   "source": [
    "class YearCountdown:\n",
    "    def __init__(self):\n",
    "        self.end = datetime.datetime.now() + relativedelta(years=1)\n",
    "        print(f\"Set a countdown for {self.end}\")\n",
    "    def timeLeft(self):\n",
    "        return self.end.astimezone() - datetime.datetime.now().astimezone()"
   ]
  },
  {
   "cell_type": "code",
   "execution_count": 50,
   "id": "0e319a21",
   "metadata": {},
   "outputs": [
    {
     "name": "stdout",
     "output_type": "stream",
     "text": [
      "Set a countdown for 2025-03-09 09:00:00-04:00\n",
      "8759:00:00\n"
     ]
    }
   ],
   "source": [
    "with freeze_time(\"2024-03-09 09:00:00\"):\n",
    "    yc = YearCountdown()\n",
    "    print(yc.timeLeft())"
   ]
  },
  {
   "cell_type": "markdown",
   "id": "fee89785",
   "metadata": {},
   "source": [
    "## Side Note: Missing Hours\n",
    "The issue that we had with Feb 29 involved us finding a day that only exists in one year, how about an hour that only exists in one year? 2:30 on Mar 9 2025 doesn't exist because of daylight savings. After 1:59, clocks immediately skip to 3:00. If we create a countdown exactly a year before then, python's datetime library does something odd: when it resolves 2:30 into a timezone which doesn't have that time, it shifts it down exactly an hour to 1:30. This behavior isn't incorrect, but it's not obvious and can lead to strange results."
   ]
  },
  {
   "cell_type": "code",
   "execution_count": 51,
   "id": "6fb78cc8",
   "metadata": {},
   "outputs": [
    {
     "name": "stdout",
     "output_type": "stream",
     "text": [
      "Set a countdown for 2025-03-09 03:30:00-04:00\n",
      "8760:00:00\n"
     ]
    }
   ],
   "source": [
    "with freeze_time(\"2024-03-09 02:30:00\"):\n",
    "    yc = YearCountdown()\n",
    "    print(yc.timeLeft())"
   ]
  },
  {
   "cell_type": "markdown",
   "id": "e97b06ab",
   "metadata": {},
   "source": [
    "## Issue 4: Changing timezones\n",
    "Now that we have support for timezones in our program, we have to start thinking what might happen if you change timezones between when you call the initializer and when you call `timeLeft`. There isn't an obviously correct answer here, but there are two good candidates.\n",
    "\n",
    "Lets say you call the constructor in timezone A on 9:00AM Jun 21 2024. You then move to timezone B and check your time left. The program can either tell you:\n",
    " 1. The time until 9:00AM Jun 21 2025 in zone A\n",
    " 2. The time until 9:00AM Jun 21 2025 in zone B\n",
    "\n",
    "Our program currently gives you answer 2, so for the sake of demonstration, lets assume that we want to find answer 1.\n",
    "\n",
    "NOTE: freezegun can't fully fake timezones, so you'll have to believe me on this one.\n",
    "\n",
    "## Solution 4: move astimezone\n",
    "This is a relatively fast fix, and it involves saving the timezone when you create the object instead of when you call `timeLeft`."
   ]
  },
  {
   "cell_type": "code",
   "execution_count": 14,
   "id": "3b2e4267",
   "metadata": {},
   "outputs": [],
   "source": [
    "class YearCountdown:\n",
    "    def __init__(self):\n",
    "        self.end = datetime.datetime.now().astimezone() + relativedelta(years=1)\n",
    "        print(f\"Set a countdown for {self.end}\")\n",
    "    def timeLeft(self):\n",
    "        return self.end - datetime.datetime.now().astimezone() "
   ]
  },
  {
   "cell_type": "markdown",
   "id": "b4a7ee04",
   "metadata": {},
   "source": [
    "# Bonus: other libraries\n",
    "While Datetime works fine for simple date and time operations, you have hopefully seen that it is already becoming cumbersome to use in this relatively simple use case. I won't be going into a full pro/con list here of the alternatives here, but I can show you what the equivalent class would look like with a few of the other python date libraries.\n",
    "\n",
    "Freezegun doesn't interface will all of these libraries correctly, so some of the tests may look broken. "
   ]
  },
  {
   "cell_type": "code",
   "execution_count": 19,
   "id": "a7b4c107",
   "metadata": {},
   "outputs": [],
   "source": [
    "import arrow\n",
    "class YearCountdown:\n",
    "    def __init__(self):\n",
    "        self.end = arrow.now().shift(years=1)\n",
    "        print(f\"Set a countdown for {self.end}\")\n",
    "    def timeLeft(self):\n",
    "        return self.end - arrow.now()"
   ]
  },
  {
   "cell_type": "code",
   "execution_count": 37,
   "id": "e8d482bd",
   "metadata": {},
   "outputs": [],
   "source": [
    "import pendulum\n",
    "class YearCountdown:\n",
    "    def __init__(self):\n",
    "        self.end = pendulum.now().add(years=1)\n",
    "        print(f\"Set a countdown for {self.end}\")\n",
    "    def timeLeft(self):\n",
    "        return self.end.diff(pendulum.now())\n",
    "# This prints weirldy, but calling .in_hours() or .in_seconds() on it gets it into a more recognizable form"
   ]
  },
  {
   "cell_type": "code",
   "execution_count": 46,
   "id": "ab3fe4c0",
   "metadata": {},
   "outputs": [],
   "source": [
    "import whenever\n",
    "class YearCountdown:\n",
    "    def __init__(self):\n",
    "        self.end = whenever.LocalSystemDateTime.now() + whenever.years(1)\n",
    "        self.end = self.end.as_offset()\n",
    "        print(f\"Set a countdown for {self.end}\")\n",
    "    def timeLeft(self):\n",
    "        return self.end - whenever.LocalSystemDateTime.now()"
   ]
  },
  {
   "cell_type": "code",
   "execution_count": null,
   "id": "af87ec8c",
   "metadata": {},
   "outputs": [],
   "source": []
  }
 ],
 "metadata": {
  "kernelspec": {
   "display_name": "Python 3 (ipykernel)",
   "language": "python",
   "name": "python3"
  },
  "language_info": {
   "codemirror_mode": {
    "name": "ipython",
    "version": 3
   },
   "file_extension": ".py",
   "mimetype": "text/x-python",
   "name": "python",
   "nbconvert_exporter": "python",
   "pygments_lexer": "ipython3",
   "version": "3.9.6"
  }
 },
 "nbformat": 4,
 "nbformat_minor": 5
}
