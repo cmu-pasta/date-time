{
 "cells": [
  {
   "cell_type": "code",
   "execution_count": 10,
   "metadata": {},
   "outputs": [],
   "source": [
    "import os\n",
    "import subprocess\n",
    "import pandas as pd\n",
    "\n",
    "from global_paths import *\n",
    "\n",
    "df = pd.read_csv(REPOS_PATH)"
   ]
  },
  {
   "cell_type": "code",
   "execution_count": null,
   "metadata": {},
   "outputs": [],
   "source": [
    "df[\"contains_import\"] = 0\n",
    "\n",
    "os.makedirs(CLONE_REPOS_DIR, exist_ok=True)\n",
    "\n",
    "for index, row in df.iterrows():\n",
    "  url = row[\"url\"]\n",
    "  subprocess.run([\"git\", \"clone\", \"--depth\", \"1\", url + \".git\", CLONE_REPOS_DIR + str(index)], stdout=subprocess.PIPE, stderr=subprocess.PIPE)\n",
    "  # print(subprocess.run([\"dir\", \"cloned_repos\"], stdout=subprocess.PIPE, stderr=subprocess.PIPE).stdout)\n",
    "  found = subprocess.run([\"grep\", \"-rE\", \"import datetime|import whenever|import arrow|import pendulum\", CLONE_REPOS_DIR + str(index)], stdout=subprocess.PIPE, stderr=subprocess.PIPE).stdout\n",
    "  df.at[index, \"contains_import\"] = 1 if found else 0\n",
    "  print(f\"{index}: {df.at[index, 'contains_import']}\")\n",
    "  subprocess.run(['rm', '-rf', CLONE_REPOS_DIR + str(index)])\n",
    "\n",
    "  # FIX PATHS!\n",
    "  #  \n",
    "  # if index % 10 == 0 and index > 0:\n",
    "  #   output_csv_path = f\"{DATA_DIR}repos_with_datetime_check_{index/10}.csv\"\n",
    "  #   df.to_csv(output_csv_path, index=False)\n",
    "  #   if (index/10 > 1):\n",
    "  #     subprocess.run(['rm', f\"{DATA_DIR}repos_with_datetime_check_{index/10 - 1}.csv\"])"
   ]
  },
  {
   "cell_type": "code",
   "execution_count": 16,
   "metadata": {},
   "outputs": [],
   "source": [
    "df = df[df[\"contains_import\"] != 0]\n",
    "\n",
    "output_csv_path = REPOS_WITH_DATETIME_PATH\n",
    "df.to_csv(output_csv_path, index=False)"
   ]
  }
 ],
 "metadata": {
  "kernelspec": {
   "display_name": "env2",
   "language": "python",
   "name": "python3"
  },
  "language_info": {
   "codemirror_mode": {
    "name": "ipython",
    "version": 3
   },
   "file_extension": ".py",
   "mimetype": "text/x-python",
   "name": "python",
   "nbconvert_exporter": "python",
   "pygments_lexer": "ipython3",
   "version": "3.11.9"
  }
 },
 "nbformat": 4,
 "nbformat_minor": 2
}
