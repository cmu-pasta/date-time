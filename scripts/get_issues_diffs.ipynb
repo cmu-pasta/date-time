{
 "cells": [
  {
   "cell_type": "code",
   "execution_count": 1,
   "metadata": {},
   "outputs": [],
   "source": [
    "import requests\n",
    "import json\n",
    "import csv\n",
    "import pandas as pd\n",
    "\n",
    "from global_paths import *\n",
    "\n",
    "with open(GH_ACCESS_TOKEN, \"r\") as file:\n",
    "    gh_access_token = file.read().strip()\n",
    "with open(SG_ACCESS_TOKEN, \"r\") as file:\n",
    "    sg_access_token = file.read().strip()\n",
    "\n",
    "df = pd.read_csv(DATETIME_REPOS_PATH)"
   ]
  },
  {
   "cell_type": "code",
   "execution_count": 2,
   "metadata": {},
   "outputs": [],
   "source": [
    "gh_query = \"\"\"\n",
    "query($q: String!, $cursor: String) {\n",
    "  rateLimit {\n",
    "    remaining\n",
    "    cost\n",
    "    used\n",
    "  }\n",
    "  search(query:$q, type: ISSUE, first: 100, after:$cursor) {\n",
    "\t\tpageInfo {\n",
    "      hasNextPage\n",
    "      endCursor\n",
    "    }\n",
    "    nodes {\n",
    "      ... on Issue {\n",
    "        \n",
    "        title\n",
    "        bodyHTML\n",
    "        url\n",
    "        activeLockReason\n",
    "        \n",
    "        \n",
    "        labels (first:100) {\n",
    "          nodes {\n",
    "            name\n",
    "          }\n",
    "        }\n",
    "        \n",
    "      }\n",
    "    }\n",
    "  }\n",
    "}\n",
    "\"\"\"\n",
    "\n",
    "sg_query = \"\"\"\n",
    "query ($q: String) {\n",
    "  search(patternType:keyword, query: $q) {\n",
    "    results {\n",
    "      matchCount\n",
    "      results {\n",
    "        ... on CommitSearchResult {\n",
    "          url\n",
    "          label {\n",
    "            text\n",
    "          }\n",
    "          diffPreview {\n",
    "            value\n",
    "          }\n",
    "        }\n",
    "      }\n",
    "    }\n",
    "  }\n",
    "}\n",
    "\"\"\"\n"
   ]
  },
  {
   "cell_type": "code",
   "execution_count": 7,
   "metadata": {},
   "outputs": [],
   "source": [
    "with open(ISSUES_PATH, \"w\") as file:\n",
    "  writer = csv.writer(file, lineterminator=\"\\n\")\n",
    "  \n",
    "  row = [\"repoName\", \"title\", \"bodyHtml\", \"url\", \"lockReason\", \"labels\"]\n",
    "  writer.writerow(row)"
   ]
  },
  {
   "cell_type": "code",
   "execution_count": 16,
   "metadata": {},
   "outputs": [
    {
     "name": "stdout",
     "output_type": "stream",
     "text": [
      "RATE_LIMITED\n",
      "{'errors': [{'type': 'RATE_LIMITED', 'message': 'API rate limit exceeded for user ID 92131019.'}]}\n"
     ]
    },
    {
     "ename": "KeyError",
     "evalue": "'rateLimit'",
     "output_type": "error",
     "traceback": [
      "\u001b[0;31m---------------------------------------------------------------------------\u001b[0m",
      "\u001b[0;31mKeyError\u001b[0m                                  Traceback (most recent call last)",
      "Cell \u001b[0;32mIn[16], line 54\u001b[0m\n\u001b[1;32m     51\u001b[0m \u001b[38;5;28;01mfor\u001b[39;00m index, row \u001b[38;5;129;01min\u001b[39;00m df\u001b[38;5;241m.\u001b[39miterrows():\n\u001b[1;32m     52\u001b[0m   \u001b[38;5;66;03m# nameWithOwner = row[\"nameWithOwner\"]\u001b[39;00m\n\u001b[1;32m     53\u001b[0m   nameWithOwner \u001b[38;5;241m=\u001b[39m row[\u001b[38;5;124m\"\u001b[39m\u001b[38;5;124mowner\u001b[39m\u001b[38;5;124m\"\u001b[39m] \u001b[38;5;241m+\u001b[39m \u001b[38;5;124m\"\u001b[39m\u001b[38;5;124m/\u001b[39m\u001b[38;5;124m\"\u001b[39m \u001b[38;5;241m+\u001b[39m row[\u001b[38;5;124m\"\u001b[39m\u001b[38;5;124mname\u001b[39m\u001b[38;5;124m\"\u001b[39m]\n\u001b[0;32m---> 54\u001b[0m   \u001b[43msearch_issues\u001b[49m\u001b[43m(\u001b[49m\u001b[43mnameWithOwner\u001b[49m\u001b[43m)\u001b[49m\n",
      "Cell \u001b[0;32mIn[16], line 20\u001b[0m, in \u001b[0;36msearch_issues\u001b[0;34m(nameWithOwner)\u001b[0m\n\u001b[1;32m     17\u001b[0m \u001b[38;5;28mprint\u001b[39m(response)\n\u001b[1;32m     18\u001b[0m \u001b[38;5;66;03m# [\"data\"]\u001b[39;00m\n\u001b[0;32m---> 20\u001b[0m rateLimit \u001b[38;5;241m=\u001b[39m \u001b[43mresponse\u001b[49m\u001b[43m[\u001b[49m\u001b[38;5;124;43m\"\u001b[39;49m\u001b[38;5;124;43mrateLimit\u001b[39;49m\u001b[38;5;124;43m\"\u001b[39;49m\u001b[43m]\u001b[49m\n\u001b[1;32m     22\u001b[0m \u001b[38;5;28;01mif\u001b[39;00m (rateLimit[\u001b[38;5;124m\"\u001b[39m\u001b[38;5;124mremaining\u001b[39m\u001b[38;5;124m\"\u001b[39m] \u001b[38;5;241m==\u001b[39m \u001b[38;5;241m0\u001b[39m):\n\u001b[1;32m     23\u001b[0m   \u001b[38;5;28mprint\u001b[39m(\u001b[38;5;124m\"\u001b[39m\u001b[38;5;124mcontinuing\u001b[39m\u001b[38;5;124m\"\u001b[39m)\n",
      "\u001b[0;31mKeyError\u001b[0m: 'rateLimit'"
     ]
    }
   ],
   "source": [
    "import time\n",
    "\n",
    "url = \"https://api.github.com/graphql\"\n",
    "headers = {\"Authorization\": f\"Bearer {gh_access_token}\"}\n",
    "\n",
    "def search_issues(nameWithOwner):\n",
    "  count = 0\n",
    "  q = f\"repo:{nameWithOwner} is:issue is:closed \\\"datetime\\\" AND \\\"bug\\\"\"\n",
    "  cursor = None\n",
    "  while (True):\n",
    "    json = {\"query\": gh_query, \"variables\": {\"q\": q, \"cursor\": cursor}}\n",
    "    response = requests.post(url, json=json, headers=headers).json()\n",
    "    \n",
    "    if (\"errors\" in response.keys()):\n",
    "      if (response[\"errors\"][0][\"type\"] == \"RATE_LIMITED\"):\n",
    "        time.sleep(120)\n",
    "        continue\n",
    "      else:\n",
    "        exit(0)\n",
    "\n",
    "    response = response[\"data\"]\n",
    "    rateLimit = response[\"rateLimit\"]\n",
    "    \n",
    "    hasNextPage = response[\"search\"][\"pageInfo\"][\"hasNextPage\"]\n",
    "    issues = response[\"search\"][\"nodes\"]\n",
    "\n",
    "    with open(ISSUES_PATH, \"a\") as file:\n",
    "      writer = csv.writer(file, lineterminator=\"\\n\")\n",
    "\n",
    "      for issue in issues:\n",
    "        labels = []\n",
    "        for l in issue[\"labels\"][\"nodes\"]:\n",
    "          labels.append(l[\"name\"])\n",
    "\n",
    "        row = [nameWithOwner, issue[\"title\"], \"<html redacted>\", issue[\"url\"], # issue[\"bodyHTML\"]\n",
    "               issue[\"activeLockReason\"], labels\n",
    "        ]\n",
    "        writer.writerow(row)\n",
    "\n",
    "    if (count % 1 == 0):\n",
    "      print(f\"Requests: {count}, endCursor: {cursor}, remaining: {rateLimit['remaining']}\")\n",
    "    count += 1\n",
    "    cursor = response[\"search\"][\"pageInfo\"][\"endCursor\"]\n",
    "    if (not hasNextPage):\n",
    "      # print(\"done\")\n",
    "      break\n",
    "\n",
    "for index, row in df.iterrows():\n",
    "  # nameWithOwner = row[\"nameWithOwner\"]\n",
    "  nameWithOwner = row[\"owner\"] + \"/\" + row[\"name\"]\n",
    "  search_issues(nameWithOwner)\n"
   ]
  },
  {
   "cell_type": "code",
   "execution_count": 10,
   "metadata": {},
   "outputs": [
    {
     "name": "stdout",
     "output_type": "stream",
     "text": [
      "Requests: 0, endCursor: None, remaining: 154\n"
     ]
    }
   ],
   "source": [
    "search_issues(\"yeti-platform/yeti\")"
   ]
  },
  {
   "cell_type": "code",
   "execution_count": 5,
   "metadata": {},
   "outputs": [],
   "source": [
    "df = pd.read_csv(ISSUES_PATH)"
   ]
  },
  {
   "cell_type": "code",
   "execution_count": 44,
   "metadata": {},
   "outputs": [],
   "source": [
    "with open(DIFFS_PATH, \"w\") as file:\n",
    "  writer = csv.writer(file, lineterminator=\"\\n\")\n",
    "  \n",
    "  row = [\"repoName\", \"label\", \"url\", \"diffPreview\"]\n",
    "  writer.writerow(row)"
   ]
  },
  {
   "cell_type": "code",
   "execution_count": 45,
   "metadata": {},
   "outputs": [],
   "source": [
    "url = \"https://sourcegraph.com/.api/graphql\"\n",
    "headers = {\"Authorization\": f\"token {sg_access_token}\"}\n",
    "\n",
    "def search_diffs(nameWithOwner):\n",
    "  q = f\"context:global repo:^github\\\\.com/{nameWithOwner}$ type:diff message:bug datetime\"\n",
    "  json = {\"query\": sg_query, \"variables\": {\"q\": q}}\n",
    "  response = requests.post(url, json=json, headers=headers).json()[\"data\"]\n",
    "  diffs = response[\"search\"][\"results\"][\"results\"]\n",
    "  with open(DIFFS_PATH, \"a\") as file:\n",
    "    writer = csv.writer(file, lineterminator=\"\\n\")\n",
    "    for diff in diffs:\n",
    "      row = [nameWithOwner, diff[\"label\"][\"text\"], diff[\"url\"], \"<diff redacted>\"] #diff[\"diffPreview\"][\"value\"]\n",
    "      writer.writerow(row)\n",
    "\n",
    "for index, row in df.iterrows():\n",
    "  nameWithOwner = row[\"nameWithOwner\"]\n",
    "  search_diffs(nameWithOwner)\n"
   ]
  }
 ],
 "metadata": {
  "kernelspec": {
   "display_name": "env2",
   "language": "python",
   "name": "python3"
  },
  "language_info": {
   "codemirror_mode": {
    "name": "ipython",
    "version": 3
   },
   "file_extension": ".py",
   "mimetype": "text/x-python",
   "name": "python",
   "nbconvert_exporter": "python",
   "pygments_lexer": "ipython3",
   "version": "3.11.9"
  }
 },
 "nbformat": 4,
 "nbformat_minor": 2
}
